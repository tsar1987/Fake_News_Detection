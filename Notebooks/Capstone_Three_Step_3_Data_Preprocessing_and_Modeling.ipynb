{
 "cells": [
  {
   "cell_type": "markdown",
   "metadata": {},
   "source": [
    "# 1. Import Packages"
   ]
  },
  {
   "cell_type": "code",
   "execution_count": 1,
   "metadata": {},
   "outputs": [],
   "source": [
    "import pandas as pd\n",
    "import matplotlib.pyplot as plt\n",
    "import numpy as np\n",
    "import nltk\n",
    "import seaborn as sns"
   ]
  },
  {
   "cell_type": "code",
   "execution_count": 2,
   "metadata": {},
   "outputs": [],
   "source": [
    "import re\n",
    "import string"
   ]
  },
  {
   "cell_type": "code",
   "execution_count": 3,
   "metadata": {},
   "outputs": [],
   "source": [
    "pd.set_option('display.max_columns', None)\n",
    "pd.set_option('display.max_rows', None)"
   ]
  },
  {
   "cell_type": "code",
   "execution_count": 4,
   "metadata": {},
   "outputs": [],
   "source": [
    "from sklearn.model_selection import train_test_split\n",
    "from sklearn.feature_extraction.text import CountVectorizer, TfidfVectorizer\n",
    "from sklearn.preprocessing import StandardScaler, OneHotEncoder\n",
    "from sklearn import metrics\n",
    "from sklearn.linear_model import LogisticRegression\n",
    "from sklearn.ensemble import RandomForestClassifier, GradientBoostingClassifier\n",
    "from sklearn.model_selection import cross_val_score\n",
    "from sklearn.compose import ColumnTransformer\n",
    "from sklearn.pipeline import Pipeline\n"
   ]
  },
  {
   "cell_type": "code",
   "execution_count": 5,
   "metadata": {},
   "outputs": [],
   "source": [
    "from nltk.corpus import stopwords\n",
    "from nltk.tokenize import word_tokenize\n",
    "from nltk.stem import WordNetLemmatizer"
   ]
  },
  {
   "cell_type": "code",
   "execution_count": 6,
   "metadata": {},
   "outputs": [],
   "source": [
    "import warnings\n",
    "warnings.filterwarnings('ignore')"
   ]
  },
  {
   "cell_type": "code",
   "execution_count": 7,
   "metadata": {},
   "outputs": [],
   "source": [
    "import xgboost\n",
    "from xgboost import XGBClassifier"
   ]
  },
  {
   "cell_type": "code",
   "execution_count": 8,
   "metadata": {},
   "outputs": [],
   "source": [
    "# create empty list at beginning of every jupyter notebook\n",
    "hyperparameter_table  = []"
   ]
  },
  {
   "cell_type": "markdown",
   "metadata": {},
   "source": [
    "# 2. Load Datasets"
   ]
  },
  {
   "cell_type": "code",
   "execution_count": 9,
   "metadata": {},
   "outputs": [
    {
     "data": {
      "application/vnd.microsoft.datawrangler.viewer.v0+json": {
       "columns": [
        {
         "name": "index",
         "rawType": "int64",
         "type": "integer"
        },
        {
         "name": "title",
         "rawType": "object",
         "type": "string"
        },
        {
         "name": "text",
         "rawType": "object",
         "type": "string"
        },
        {
         "name": "subject",
         "rawType": "object",
         "type": "string"
        },
        {
         "name": "date",
         "rawType": "datetime64[ns]",
         "type": "datetime"
        },
        {
         "name": "label",
         "rawType": "object",
         "type": "string"
        },
        {
         "name": "char_count_text",
         "rawType": "int64",
         "type": "integer"
        },
        {
         "name": "word_count_text",
         "rawType": "int64",
         "type": "integer"
        },
        {
         "name": "avg_word_length_text",
         "rawType": "float64",
         "type": "float"
        },
        {
         "name": "char_count_title",
         "rawType": "int64",
         "type": "integer"
        },
        {
         "name": "word_count_title",
         "rawType": "int64",
         "type": "integer"
        },
        {
         "name": "avg_word_length_title",
         "rawType": "float64",
         "type": "float"
        },
        {
         "name": "year",
         "rawType": "int64",
         "type": "integer"
        },
        {
         "name": "month",
         "rawType": "int64",
         "type": "integer"
        },
        {
         "name": "day",
         "rawType": "int64",
         "type": "integer"
        },
        {
         "name": "day_of_week",
         "rawType": "int64",
         "type": "integer"
        },
        {
         "name": "election_day",
         "rawType": "datetime64[ns]",
         "type": "datetime"
        },
        {
         "name": "days_to_election",
         "rawType": "int64",
         "type": "integer"
        }
       ],
       "ref": "ae109ce6-214a-4b66-9907-a14835fd10c5",
       "rows": [
        [
         "22216",
         "Ben Stein Calls Out 9th Circuit Court: Committed a ‘Coup d’état’ Against the Constitution",
         "21st Century Wire says Ben Stein, reputable professor from, Pepperdine University (also of some Hollywood fame appearing in TV shows and films such as Ferris Bueller s Day Off) made some provocative statements on Judge Jeanine Pirro s show recently. While discussing the halt that was imposed on President Trump s Executive Order on travel. Stein referred to the judgement by the 9th Circuit Court in Washington state as a  Coup d tat against the executive branch and against the constitution.  Stein went on to call the Judges in Seattle  political puppets  and the judiciary  political pawns. Watch the interview below for the complete statements and note the stark contrast to the rhetoric of the leftist media and pundits who neglect to note that no court has ever blocked any Presidential orders in immigration in the past or discuss the legal efficacy of the halt or the actual text of the Executive Order.READ MORE TRUMP NEWS AT: 21st Century Wire Trump FilesSUPPORT OUR WORK BY SUBSCRIBING & BECOMING A MEMBER @21WIRE.TV",
         "US_News",
         "2017-02-13 00:00:00",
         "fake_news",
         "1028",
         "171",
         "6.011695906432749",
         "89",
         "14",
         "6.357142857142857",
         "2017",
         "2",
         "13",
         "0",
         "2016-11-08 00:00:00",
         "97"
        ],
        [
         "27917",
         "Trump drops Steve Bannon from National Security Council",
         "WASHINGTON (Reuters) - U.S. President Donald Trump removed his chief strategist Steve Bannon from the National Security Council on Wednesday, reversing his controversial decision early this year to give a political adviser an unprecedented role in security discussions. Trump’s overhaul of the NSC, confirmed by a White House official, also elevated General Joseph Dunford, chairman of the Joint Chiefs of Staff and Dan Coats, the director of National Intelligence who heads all 17 U.S. intelligence agencies. The official said the change moves the NSC “back to its core function of what it’s supposed to do.” It also appears to mark a victory for national security adviser H.R. McMaster, who had told some national security experts he felt he was in a “battle to the death” with Bannon and others on the White House staff. Vice President Mike Pence said Bannon would continue to play an important role in policy and played down the shake-up as routine. “This is just a natural evolution to ensure the National Security Council is organized in a way that best serves the president in resolving and making those difficult decisions,” Pence said on Fox News.  Bannon said in a statement he had succeeded in returning the NSC back to its traditional role of coordinating foreign policy rather than running it. He cited President Barack Obama’s national security adviser, Susan Rice, for why he advocated a change. “Susan Rice operationalized the NSC during the last administration so I was put on NSC to ensure it was ‘de-operationalized.’ General McMaster has NSC back to its proper function,” he said. Trump’s White House team has grappled with infighting and intrigue that has hobbled his young presidency. In recent days, several other senior U.S. foreign policy and national security officials have said the mechanisms for shaping the Trump administration’s response to pressing challenges such as Syria, North Korea and Iran still were not in place.  Critics of Bannon’s role on the NSC said it gave too much weight in decision-making to someone who lacked foreign policy expertise. Bannon, who was chief executive of Trump’s presidential campaign in the months leading to his election in November, in some respects represents Trump’s “America First” nationalistic voice, helping fuel his anti-Washington fervor and pushing for the president to part ways at times with mainstream Republicans. Before joining the Trump administration, Bannon headed Breitbart News, a right-wing website. U.S. Representative Adam Schiff, ranking Democrat on the House of Representatives Intelligence Committee, called the shift in the NSC a positive step that will help McMaster “gain control over a body that was being politicized by Bannon’s involvement.” “As the administration’s policy over North Korea, China, Russia and Syria continues to drift, we can only hope this shake-up brings some level of strategic vision to the body,” he said. Bannon’s removal from the NSC was a potential setback for his sphere of influence in the Trump White House, where he has a voice in most major decisions. But a Trump confidant said Bannon remained as influential as ever. “He is still involved in everything and still has the full confidence of the president but to be fair he can only do so much stuff,” the confidant said, speaking on condition of anonymity. The White House official said Bannon was no longer needed on the NSC after the departure of Trump’s first national security adviser, Michael Flynn. Flynn was forced to resign on Feb. 13 over his contacts with Russia’s ambassador to the United States, Sergei Kislyak, prior to Trump taking office on Jan. 20. The official said Bannon had been placed on the NSC originally as a check on Flynn and had only attended one of the NSC’s regular meetings. The official dismissed questions about a power struggle between Bannon and McMaster, saying they shared the same world view. However, two current national security officials rejected the White House explanation, noting that two months have passed since Flynn’s departure. McMaster, they said, speaking on the condition of anonymity, also has dueled with Bannon and others over direct access to Trump; the future of deputy national security adviser K.T. McFarland, a former Fox News commentator; intelligence director Ezra Cohen-Watnick, a Flynn appointee; and other staffing decisions. Trump is preparing for his first face-to-face meeting on Thursday and Friday with Chinese President Xi Jinping with the threat of North Korea’s nuclear and missile programs a key component of their talks. Bannon’s seat on the NSC’s “principals’ committee,” a group that includes the secretaries of state, defense and other ranking aides, was taken by Rick Perry, who as energy secretary is charged with overseeing the U.S. nuclear weapons arsenal. ",
         "politicsNews",
         "2017-04-05 00:00:00",
         "real_news",
         "4820",
         "771",
         "6.251621271076524",
         "55",
         "8",
         "6.875",
         "2017",
         "4",
         "5",
         "2",
         "2016-11-08 00:00:00",
         "148"
        ],
        [
         "25007",
         "Puerto Rico expects U.S. to lift Jones Act shipping restrictions",
         "(Reuters) - Puerto Rico Governor Ricardo Rossello said on Wednesday he expected the federal government to waive the Jones Act, which would lift restrictions on ships that can provide aid to the island devastated by Hurricane Maria. He said he has been speaking with members of Congress from both parties who have supported an emergency waiver.      “We expect them to waive it,” Rossello said in an interview with CNN. He noted there was a seven-day waiver after Hurricane Irma, which was much less devastating to the island.     On Tuesday, the Trump administration said there was no need to waive shipping restrictions to help get fuel and supplies to storm-ravaged Puerto Rico, saying it would do nothing to address the island’s damaged ports, the main impediment to shipping. A waiver would allow Puerto Rico to get help not only from U.S. ships but from any ships that can bring aid.     “That is critical, particularly for fuel,” he said. “One of the considerations right now is the priority of getting fuel, diesel, gasoline, all across the island. Right now we have enough fuel. We’re limited by the transportation logistics, but at some point of course, getting fuel into the island is going to be critical so that we can have the major functions of telecoms, hospitals, water, to be running appropriately.”     The Jones Act requires that all goods shipped between U.S. ports be carried by American owned-and-operated ships. U.S. Senator John McCain asked acting Department of Homeland Security Secretary Elaine Duke on Tuesday to grant an emergency waiver of the law. He said that Puerto Rican residents would have to pay at least twice as much for food, drinking water and other supplies without the waiver. (This corrected version of the story fixes paragraph four to show the administration has not formally denied a waiver request). ",
         "politicsNews",
         "2017-09-27 00:00:00",
         "real_news",
         "1848",
         "304",
         "6.078947368421052",
         "64",
         "10",
         "6.4",
         "2017",
         "9",
         "27",
         "2",
         "2016-11-08 00:00:00",
         "323"
        ],
        [
         "1377",
         " OOPS: Trump Just Accidentally Confirmed He Leaked Israeli Intelligence To Russia (VIDEO)",
         "On Monday, Donald Trump once again embarrassed himself and his country by accidentally revealing the source of the extremely classified information he leaked to Russia earlier this month.While it was speculated that the source of the information was Israel, Trump made things crystal clear during a press conference with Prime Minister Benjamin Netanyahu. President Pussygrabber explained that he never   not once   said  Israel  during his conversation with the Russian recipients of the leaked information. Not a single time. Just so you understand I never mentioned the word or the name  Israel,  Trump said.  I never mentioned it during that conversation. They were all saying I did,  Trump said, gesturing to reporters.  So you had another story wrong. Never mentioned the word  Israel . He may not have said the word Israel,  but according to reports Israeli intelligence officials  were shouting at US counterparts  over the leaked information.Now, he accidentally-perhaps-on-purpose confirmed where it came from.Watch it happen below:President Trump says he  never mentioned the word Israel  in his Oval Office meeting with Russian officials https://t.co/84ZCW64hcE  CNN Politics (@CNNPolitics) May 22, 2017Featured image via screengrab",
         "News",
         "2017-05-22 00:00:00",
         "fake_news",
         "1244",
         "183",
         "6.797814207650274",
         "89",
         "12",
         "7.416666666666667",
         "2017",
         "5",
         "22",
         "0",
         "2016-11-08 00:00:00",
         "195"
        ],
        [
         "32476",
         "Donald Trump heads for Scotland to reopen a golf resort",
         "GLASGOW, Scotland (Reuters) - Most U.S. presidential candidates go abroad to sharpen their foreign policy credentials. Donald Trump arrives in Scotland on Friday to reopen a golf resort. The presumptive Republican nominee, 70, visits his family’s ancestral homeland to showcase his far-flung business empire. His mother was born on Scotland’s Isle of Lewis. With a throng of reporters watching, he will make a dramatic arrival by helicopter at his seaside Trump Turnberry resort. He has scheduled a news conference on the 9th hole at noon (7 a.m. ET/1100 GMT). His visit to Turnberry, to be followed by a stop at his resort in Aberdeen on Saturday, will allow him to comment on the outcome of Britain’s vote on Thursday on whether to remain in the European Union. “I don’t think opening a golf resort gets you many foreign policy chops,” said Saul Anuzis, former chairman of the Michigan Republican Party. “But since he’s there right in the middle of the EU vote, it may end up being a PR bonanza for him.” The risk is that the real-estate tycoon, who has yet to hold public office and rates unfavorably with 70 percent of Americans in an opinion poll, will make a foreign policy misstep at a time when Republican leaders are urging a more serious demeanor. Trump has said he would be inclined to leave the EU. He has exchanged insults with British Prime Minister David Cameron, who has called the New Yorker’s anti-immigrant policy ideas divisive and wrong. There are no plans for the two to meet. His trip has baffled Republican officials who say he should concentrate on strengthening his campaign and taking the fight to the presumptive Democratic nominee, former U.S. Secretary of State Hillary Clinton, who is 68. Trump defeated a crowded field of opponents for the Republican nomination but has faced one controversy after another, the latest over his firing of his campaign manager this week, a month before the party convention. “His campaign has got all kinds of growing pains and it doesn’t make sense that he would spend any kind of time going out of the country,” said David Yepsen, director of the Paul Simon Public Policy Institute at Southern Illinois University.  Turnberry is a storied course where the Open Championship has been staged four times. Trump invested $290 million in renovating the resort and golf course on Scotland’s West Coast 85 km (53 miles) southwest of Glasgow. He has portrayed his determination to build up courses in Turnberry and Aberdeen and overcome local opposition as an example of the type of leadership skills that Americans would get if he wins the White House on Nov. 8. “Well, Scotland has already been won – and so will the United States,” Trump wrote in a column for The Press and Journal newspaper in Aberdeen. An Aberdeen family opposed to his development there has threatened to raise a Mexican flag as a reminder of his proposal to build a wall along the U.S. southern border to keep out immigrants who enter illegally. The last Republican presidential nominee, former Massachusetts Governor Mitt Romney, in 2012 made a gaffe-filled campaign trip to London, Jerusalem and Poland. ",
         "politicsNews",
         "2016-06-24 00:00:00",
         "real_news",
         "3137",
         "529",
         "5.930056710775047",
         "55",
         "10",
         "5.5",
         "2016",
         "6",
         "24",
         "4",
         "2016-11-08 00:00:00",
         "-137"
        ]
       ],
       "shape": {
        "columns": 17,
        "rows": 5
       }
      },
      "text/html": [
       "<div>\n",
       "<style scoped>\n",
       "    .dataframe tbody tr th:only-of-type {\n",
       "        vertical-align: middle;\n",
       "    }\n",
       "\n",
       "    .dataframe tbody tr th {\n",
       "        vertical-align: top;\n",
       "    }\n",
       "\n",
       "    .dataframe thead th {\n",
       "        text-align: right;\n",
       "    }\n",
       "</style>\n",
       "<table border=\"1\" class=\"dataframe\">\n",
       "  <thead>\n",
       "    <tr style=\"text-align: right;\">\n",
       "      <th></th>\n",
       "      <th>title</th>\n",
       "      <th>text</th>\n",
       "      <th>subject</th>\n",
       "      <th>date</th>\n",
       "      <th>label</th>\n",
       "      <th>char_count_text</th>\n",
       "      <th>word_count_text</th>\n",
       "      <th>avg_word_length_text</th>\n",
       "      <th>char_count_title</th>\n",
       "      <th>word_count_title</th>\n",
       "      <th>avg_word_length_title</th>\n",
       "      <th>year</th>\n",
       "      <th>month</th>\n",
       "      <th>day</th>\n",
       "      <th>day_of_week</th>\n",
       "      <th>election_day</th>\n",
       "      <th>days_to_election</th>\n",
       "    </tr>\n",
       "  </thead>\n",
       "  <tbody>\n",
       "    <tr>\n",
       "      <th>22216</th>\n",
       "      <td>Ben Stein Calls Out 9th Circuit Court: Committ...</td>\n",
       "      <td>21st Century Wire says Ben Stein, reputable pr...</td>\n",
       "      <td>US_News</td>\n",
       "      <td>2017-02-13</td>\n",
       "      <td>fake_news</td>\n",
       "      <td>1028</td>\n",
       "      <td>171</td>\n",
       "      <td>6.011696</td>\n",
       "      <td>89</td>\n",
       "      <td>14</td>\n",
       "      <td>6.357143</td>\n",
       "      <td>2017</td>\n",
       "      <td>2</td>\n",
       "      <td>13</td>\n",
       "      <td>0</td>\n",
       "      <td>2016-11-08</td>\n",
       "      <td>97</td>\n",
       "    </tr>\n",
       "    <tr>\n",
       "      <th>27917</th>\n",
       "      <td>Trump drops Steve Bannon from National Securit...</td>\n",
       "      <td>WASHINGTON (Reuters) - U.S. President Donald T...</td>\n",
       "      <td>politicsNews</td>\n",
       "      <td>2017-04-05</td>\n",
       "      <td>real_news</td>\n",
       "      <td>4820</td>\n",
       "      <td>771</td>\n",
       "      <td>6.251621</td>\n",
       "      <td>55</td>\n",
       "      <td>8</td>\n",
       "      <td>6.875000</td>\n",
       "      <td>2017</td>\n",
       "      <td>4</td>\n",
       "      <td>5</td>\n",
       "      <td>2</td>\n",
       "      <td>2016-11-08</td>\n",
       "      <td>148</td>\n",
       "    </tr>\n",
       "    <tr>\n",
       "      <th>25007</th>\n",
       "      <td>Puerto Rico expects U.S. to lift Jones Act shi...</td>\n",
       "      <td>(Reuters) - Puerto Rico Governor Ricardo Rosse...</td>\n",
       "      <td>politicsNews</td>\n",
       "      <td>2017-09-27</td>\n",
       "      <td>real_news</td>\n",
       "      <td>1848</td>\n",
       "      <td>304</td>\n",
       "      <td>6.078947</td>\n",
       "      <td>64</td>\n",
       "      <td>10</td>\n",
       "      <td>6.400000</td>\n",
       "      <td>2017</td>\n",
       "      <td>9</td>\n",
       "      <td>27</td>\n",
       "      <td>2</td>\n",
       "      <td>2016-11-08</td>\n",
       "      <td>323</td>\n",
       "    </tr>\n",
       "    <tr>\n",
       "      <th>1377</th>\n",
       "      <td>OOPS: Trump Just Accidentally Confirmed He Le...</td>\n",
       "      <td>On Monday, Donald Trump once again embarrassed...</td>\n",
       "      <td>News</td>\n",
       "      <td>2017-05-22</td>\n",
       "      <td>fake_news</td>\n",
       "      <td>1244</td>\n",
       "      <td>183</td>\n",
       "      <td>6.797814</td>\n",
       "      <td>89</td>\n",
       "      <td>12</td>\n",
       "      <td>7.416667</td>\n",
       "      <td>2017</td>\n",
       "      <td>5</td>\n",
       "      <td>22</td>\n",
       "      <td>0</td>\n",
       "      <td>2016-11-08</td>\n",
       "      <td>195</td>\n",
       "    </tr>\n",
       "    <tr>\n",
       "      <th>32476</th>\n",
       "      <td>Donald Trump heads for Scotland to reopen a go...</td>\n",
       "      <td>GLASGOW, Scotland (Reuters) - Most U.S. presid...</td>\n",
       "      <td>politicsNews</td>\n",
       "      <td>2016-06-24</td>\n",
       "      <td>real_news</td>\n",
       "      <td>3137</td>\n",
       "      <td>529</td>\n",
       "      <td>5.930057</td>\n",
       "      <td>55</td>\n",
       "      <td>10</td>\n",
       "      <td>5.500000</td>\n",
       "      <td>2016</td>\n",
       "      <td>6</td>\n",
       "      <td>24</td>\n",
       "      <td>4</td>\n",
       "      <td>2016-11-08</td>\n",
       "      <td>-137</td>\n",
       "    </tr>\n",
       "  </tbody>\n",
       "</table>\n",
       "</div>"
      ],
      "text/plain": [
       "                                                   title  \\\n",
       "22216  Ben Stein Calls Out 9th Circuit Court: Committ...   \n",
       "27917  Trump drops Steve Bannon from National Securit...   \n",
       "25007  Puerto Rico expects U.S. to lift Jones Act shi...   \n",
       "1377    OOPS: Trump Just Accidentally Confirmed He Le...   \n",
       "32476  Donald Trump heads for Scotland to reopen a go...   \n",
       "\n",
       "                                                    text       subject  \\\n",
       "22216  21st Century Wire says Ben Stein, reputable pr...       US_News   \n",
       "27917  WASHINGTON (Reuters) - U.S. President Donald T...  politicsNews   \n",
       "25007  (Reuters) - Puerto Rico Governor Ricardo Rosse...  politicsNews   \n",
       "1377   On Monday, Donald Trump once again embarrassed...          News   \n",
       "32476  GLASGOW, Scotland (Reuters) - Most U.S. presid...  politicsNews   \n",
       "\n",
       "            date      label  char_count_text  word_count_text  \\\n",
       "22216 2017-02-13  fake_news             1028              171   \n",
       "27917 2017-04-05  real_news             4820              771   \n",
       "25007 2017-09-27  real_news             1848              304   \n",
       "1377  2017-05-22  fake_news             1244              183   \n",
       "32476 2016-06-24  real_news             3137              529   \n",
       "\n",
       "       avg_word_length_text  char_count_title  word_count_title  \\\n",
       "22216              6.011696                89                14   \n",
       "27917              6.251621                55                 8   \n",
       "25007              6.078947                64                10   \n",
       "1377               6.797814                89                12   \n",
       "32476              5.930057                55                10   \n",
       "\n",
       "       avg_word_length_title  year  month  day  day_of_week election_day  \\\n",
       "22216               6.357143  2017      2   13            0   2016-11-08   \n",
       "27917               6.875000  2017      4    5            2   2016-11-08   \n",
       "25007               6.400000  2017      9   27            2   2016-11-08   \n",
       "1377                7.416667  2017      5   22            0   2016-11-08   \n",
       "32476               5.500000  2016      6   24            4   2016-11-08   \n",
       "\n",
       "       days_to_election  \n",
       "22216                97  \n",
       "27917               148  \n",
       "25007               323  \n",
       "1377                195  \n",
       "32476              -137  "
      ]
     },
     "execution_count": 9,
     "metadata": {},
     "output_type": "execute_result"
    }
   ],
   "source": [
    "# load dataset\n",
    "news = pd.read_csv('../Data/news_classification_Feb06_24.csv', index_col=0, parse_dates=['date', 'election_day'])\n",
    "news.head()"
   ]
  },
  {
   "cell_type": "code",
   "execution_count": 10,
   "metadata": {},
   "outputs": [
    {
     "data": {
      "text/plain": [
       "(37924, 17)"
      ]
     },
     "execution_count": 10,
     "metadata": {},
     "output_type": "execute_result"
    }
   ],
   "source": [
    "# check shape, rows and columns\n",
    "news.shape"
   ]
  },
  {
   "cell_type": "code",
   "execution_count": 11,
   "metadata": {},
   "outputs": [
    {
     "data": {
      "text/plain": [
       "Index(['title', 'text', 'subject', 'date', 'label', 'char_count_text',\n",
       "       'word_count_text', 'avg_word_length_text', 'char_count_title',\n",
       "       'word_count_title', 'avg_word_length_title', 'year', 'month', 'day',\n",
       "       'day_of_week', 'election_day', 'days_to_election'],\n",
       "      dtype='object')"
      ]
     },
     "execution_count": 11,
     "metadata": {},
     "output_type": "execute_result"
    }
   ],
   "source": [
    "# check column names\n",
    "news.columns"
   ]
  },
  {
   "cell_type": "code",
   "execution_count": 12,
   "metadata": {},
   "outputs": [],
   "source": [
    "news['month'] = news['month'].map({1:'Jan', 2:'Feb', 3:'Mar', 4:'Apr', 5:'May', 6:'Jun',\\\n",
    "                                  7:'Jul', 8:'Aug', 9:'Sept', 10:'Oct', 11:'Nov', 12:'Dec'})\n",
    "news['day_of_week'] = news['day_of_week'].map({0:'Monday', 1:'Tuesday', 2:'Wednesday', 3:'Thursday', 4:'Friday',\\\n",
    "                                               5:'Saturday', 6:'Sunday'})"
   ]
  },
  {
   "cell_type": "code",
   "execution_count": 13,
   "metadata": {},
   "outputs": [],
   "source": [
    "news['label'] = news['label'].map({\"real_news\":0, \"fake_news\":1})"
   ]
  },
  {
   "cell_type": "code",
   "execution_count": 14,
   "metadata": {},
   "outputs": [],
   "source": [
    "# remove news sources, especially locations and reuters\n",
    "news['text'] = news['text'].apply(lambda x: x.split('-', 1)[1].strip()\\\n",
    "                                        if 'Reuters' in x and '-' in x and len(x.split('-')) > 1 else x)\n",
    "# remove all reuters\n",
    "news['text'] = news['text'].str.replace(r'Reuters|reuters|REUTERS', '', regex=True)"
   ]
  },
  {
   "cell_type": "code",
   "execution_count": 15,
   "metadata": {},
   "outputs": [],
   "source": [
    "def remove_last_sentence(text):\n",
    "        sentences = nltk.sent_tokenize(text)\n",
    "        sentence = sentences[:-1] if sentences else \"\"\n",
    "        return ''.join(sentence)\n",
    "\n",
    "# remove news note, which is always last sentence.\n",
    "news['text'] = news['text'].apply(remove_last_sentence)"
   ]
  },
  {
   "cell_type": "code",
   "execution_count": 16,
   "metadata": {},
   "outputs": [
    {
     "name": "stdout",
     "output_type": "stream",
     "text": [
      "<class 'pandas.core.frame.DataFrame'>\n",
      "Index: 37924 entries, 22216 to 28254\n",
      "Data columns (total 17 columns):\n",
      " #   Column                 Non-Null Count  Dtype         \n",
      "---  ------                 --------------  -----         \n",
      " 0   title                  37924 non-null  object        \n",
      " 1   text                   37924 non-null  object        \n",
      " 2   subject                37924 non-null  object        \n",
      " 3   date                   37924 non-null  datetime64[ns]\n",
      " 4   label                  37924 non-null  int64         \n",
      " 5   char_count_text        37924 non-null  int64         \n",
      " 6   word_count_text        37924 non-null  int64         \n",
      " 7   avg_word_length_text   37924 non-null  float64       \n",
      " 8   char_count_title       37924 non-null  int64         \n",
      " 9   word_count_title       37924 non-null  int64         \n",
      " 10  avg_word_length_title  37924 non-null  float64       \n",
      " 11  year                   37924 non-null  int64         \n",
      " 12  month                  37924 non-null  object        \n",
      " 13  day                    37924 non-null  int64         \n",
      " 14  day_of_week            37924 non-null  object        \n",
      " 15  election_day           37924 non-null  datetime64[ns]\n",
      " 16  days_to_election       37924 non-null  int64         \n",
      "dtypes: datetime64[ns](2), float64(2), int64(8), object(5)\n",
      "memory usage: 5.2+ MB\n"
     ]
    }
   ],
   "source": [
    "news.info()"
   ]
  },
  {
   "attachments": {},
   "cell_type": "markdown",
   "metadata": {},
   "source": [
    "# 3. Data Preprocessing and Modeling\n",
    "**Two methods will be used for modeling:**\n",
    "\n",
    "**The method 1 use features new created including character count, word count, average word length in title and text, year, month, day, day of week and days to election.**\n",
    "\n",
    "**The method 2 use only the text column and vectorize with CountVectorizer() or TfidfVectorizer() with different parameters like ngram_range, max_df and min_df.**"
   ]
  },
  {
   "cell_type": "markdown",
   "metadata": {},
   "source": [
    "## 3.1 Data Preparation"
   ]
  },
  {
   "cell_type": "code",
   "execution_count": 17,
   "metadata": {},
   "outputs": [],
   "source": [
    "X = news[['text', 'char_count_text', 'word_count_text', 'avg_word_length_text', 'char_count_title',\n",
    "       'word_count_title', 'avg_word_length_title', 'year', 'month', 'day', 'day_of_week', 'days_to_election']]\n",
    "y = news.label"
   ]
  },
  {
   "cell_type": "code",
   "execution_count": 18,
   "metadata": {},
   "outputs": [],
   "source": [
    "# Create training and test sets\n",
    "X_train, X_val, y_train, y_val = train_test_split(X, y, test_size=0.2, random_state=42, stratify=y)"
   ]
  },
  {
   "cell_type": "code",
   "execution_count": 19,
   "metadata": {},
   "outputs": [
    {
     "data": {
      "text/plain": [
       "((30339, 12), (7585, 12))"
      ]
     },
     "execution_count": 19,
     "metadata": {},
     "output_type": "execute_result"
    }
   ],
   "source": [
    "# check shapes\n",
    "X_train.shape, X_val.shape"
   ]
  },
  {
   "cell_type": "code",
   "execution_count": 20,
   "metadata": {},
   "outputs": [
    {
     "name": "stdout",
     "output_type": "stream",
     "text": [
      "<class 'pandas.core.frame.DataFrame'>\n",
      "Index: 30339 entries, 40274 to 42397\n",
      "Data columns (total 12 columns):\n",
      " #   Column                 Non-Null Count  Dtype  \n",
      "---  ------                 --------------  -----  \n",
      " 0   text                   30339 non-null  object \n",
      " 1   char_count_text        30339 non-null  int64  \n",
      " 2   word_count_text        30339 non-null  int64  \n",
      " 3   avg_word_length_text   30339 non-null  float64\n",
      " 4   char_count_title       30339 non-null  int64  \n",
      " 5   word_count_title       30339 non-null  int64  \n",
      " 6   avg_word_length_title  30339 non-null  float64\n",
      " 7   year                   30339 non-null  int64  \n",
      " 8   month                  30339 non-null  object \n",
      " 9   day                    30339 non-null  int64  \n",
      " 10  day_of_week            30339 non-null  object \n",
      " 11  days_to_election       30339 non-null  int64  \n",
      "dtypes: float64(2), int64(7), object(3)\n",
      "memory usage: 3.0+ MB\n"
     ]
    }
   ],
   "source": [
    "X_train.info()"
   ]
  },
  {
   "cell_type": "code",
   "execution_count": 21,
   "metadata": {},
   "outputs": [],
   "source": [
    "# 1. Define which columns should be processed in which way\n",
    "numeric_features = ['char_count_text','word_count_text', 'avg_word_length_text',\n",
    "                    'char_count_title','word_count_title','avg_word_length_title',\n",
    "                    'year','day','days_to_election']\n",
    "\n",
    "categorical_features = ['month', 'day_of_week']\n",
    "\n",
    "# This is our text feature\n",
    "text_feature = 'text'\n",
    "\n",
    "\n",
    "# 2. Create the preprocessing pipelines for each data type\n",
    "# Pipeline for numeric features: Scale them!\n",
    "numeric_transformer = StandardScaler()\n",
    "\n",
    "# Pipeline for categorical features: One-hot encode them\n",
    "categorical_transformer = OneHotEncoder(handle_unknown='ignore')\n",
    "\n",
    "# Pipeline for text features: Vectorize using TF-IDF\n",
    "# We add a few common parameters for better performance\n",
    "text_transformer = CountVectorizer(\n",
    "    stop_words='english')\n",
    "\n",
    "\n",
    "# 3. Combine preprocessing steps into a single transformer\n",
    "preprocessor = ColumnTransformer(\n",
    "    transformers=[\n",
    "        ('num', numeric_transformer, numeric_features),\n",
    "        ('cat', categorical_transformer, categorical_features),\n",
    "        ('count', text_transformer, text_feature)\n",
    "    ],\n",
    "    remainder='drop' # Drop any columns we haven't specified\n",
    ")"
   ]
  },
  {
   "cell_type": "markdown",
   "metadata": {},
   "source": [
    "## 3.2 Modeling"
   ]
  },
  {
   "cell_type": "markdown",
   "metadata": {},
   "source": [
    "### 3.2.1 Method_1 Exp_1 Logistic Regression"
   ]
  },
  {
   "cell_type": "code",
   "execution_count": 22,
   "metadata": {},
   "outputs": [],
   "source": [
    "# create empty dict at start of every experiment. \n",
    "hyperparameters = {}\n",
    "hyperparameter_table.append(hyperparameters)"
   ]
  },
  {
   "cell_type": "code",
   "execution_count": 23,
   "metadata": {},
   "outputs": [],
   "source": [
    "# 1. Create the full pipeline by chaining the preprocessor and the classifier\n",
    "lr_pipeline = Pipeline(steps=[\n",
    "    ('preprocessor', preprocessor),\n",
    "    ('classifier', LogisticRegression(max_iter=1000, random_state=42))\n",
    "])\n",
    "\n",
    "# 2. Train the entire pipeline on the training data\n",
    "lr_pipeline.fit(X_train, y_train)\n",
    "\n",
    "# 3. Evaluate the model\n",
    "# (No need for cross-validation on the training set for this example, we'll use the validation set)\n",
    "y_val_pred = lr_pipeline.predict(X_val)"
   ]
  },
  {
   "cell_type": "code",
   "execution_count": 24,
   "metadata": {},
   "outputs": [],
   "source": [
    "train_accuracy = lr_pipeline.score(X_train, y_train) # Get accuracy on the training set\n",
    "val_accuracy = metrics.accuracy_score(y_val, y_val_pred)\n",
    "val_recall = metrics.recall_score(y_val, y_val_pred)\n",
    "val_precision = metrics.precision_score(y_val, y_val_pred)\n",
    "val_f1 = metrics.f1_score(y_val, y_val_pred)"
   ]
  },
  {
   "cell_type": "code",
   "execution_count": 25,
   "metadata": {},
   "outputs": [
    {
     "name": "stdout",
     "output_type": "stream",
     "text": [
      "Train Accuracy: 0.9986\n",
      "Validation Accuracy: 0.9814\n",
      "Validation F1-Score: 0.9792\n"
     ]
    }
   ],
   "source": [
    "print(f\"Train Accuracy: {train_accuracy:.4f}\")\n",
    "print(f\"Validation Accuracy: {val_accuracy:.4f}\")\n",
    "print(f\"Validation F1-Score: {val_f1:.4f}\")"
   ]
  },
  {
   "cell_type": "code",
   "execution_count": 26,
   "metadata": {},
   "outputs": [],
   "source": [
    "# Update your results table\n",
    "parameters = dict(Exp='1_Hybrid', Model_Name='Logistic Regression (Pipeline)', \n",
    "                  Features='Text+Meta', Scale='StandardScaler', \n",
    "                  Vectorizer='CountVectorizer', Train_Accuracy=round(train_accuracy,3),\n",
    "                  Val_Accuracy=round(val_accuracy,3), Val_Recall=round(val_recall,3), \n",
    "                  Val_Precision=round(val_precision,3), Val_F1=round(val_f1,3))\n",
    "\n",
    "hyperparameter_table[-1].update(parameters)"
   ]
  },
  {
   "cell_type": "code",
   "execution_count": 27,
   "metadata": {},
   "outputs": [
    {
     "data": {
      "image/png": "[encoded data removed]",
      "text/plain": [
       "<Figure size 640x480 with 2 Axes>"
      ]
     },
     "metadata": {},
     "output_type": "display_data"
    }
   ],
   "source": [
    "cm = metrics.confusion_matrix(y_val, y_val_pred, labels = lr_pipeline.classes_)\n",
    "fig, ax = plt.subplots()\n",
    "display_cm = metrics.ConfusionMatrixDisplay(confusion_matrix = cm, \n",
    "                                    display_labels = ['Real_news','Fake_news'])\n",
    "\n",
    "ax.set_xticks([0, 1])\n",
    "ax.set_yticks([0, 1])\n",
    "ax.set_xticklabels(labels = ['Real_news','Fake_news'], fontsize = 12)\n",
    "ax.set_yticklabels(labels = ['Real_news','Fake_news'], fontsize = 12)\n",
    "\n",
    "display_cm.plot(ax = ax)\n",
    "plt.show()"
   ]
  },
  {
   "cell_type": "markdown",
   "metadata": {},
   "source": [
    "### 3.2.2 Method_1 Exp_2 Random Forest Classifier"
   ]
  },
  {
   "cell_type": "code",
   "execution_count": 28,
   "metadata": {},
   "outputs": [],
   "source": [
    "# create empty dict at start of every experiment. \n",
    "hyperparameters = {}\n",
    "hyperparameter_table.append(hyperparameters)"
   ]
  },
  {
   "cell_type": "code",
   "execution_count": 29,
   "metadata": {},
   "outputs": [],
   "source": [
    "# 1. Create the full pipeline by chaining the preprocessor and the classifier\n",
    "rf_pipeline = Pipeline(steps=[\n",
    "    ('preprocessor', preprocessor),\n",
    "    ('classifier', RandomForestClassifier(random_state=42))\n",
    "])\n",
    "\n",
    "# 2. Train the entire pipeline on the training data\n",
    "rf_pipeline.fit(X_train, y_train)\n",
    "\n",
    "# 3. Evaluate the model\n",
    "# (No need for cross-validation on the training set for this example, we'll use the validation set)\n",
    "y_val_pred = rf_pipeline.predict(X_val)"
   ]
  },
  {
   "cell_type": "code",
   "execution_count": 30,
   "metadata": {},
   "outputs": [],
   "source": [
    "train_accuracy = rf_pipeline.score(X_train, y_train) # Get accuracy on the training set\n",
    "val_accuracy = metrics.accuracy_score(y_val, y_val_pred)\n",
    "val_recall = metrics.recall_score(y_val, y_val_pred)\n",
    "val_precision = metrics.precision_score(y_val, y_val_pred)\n",
    "val_f1 = metrics.f1_score(y_val, y_val_pred)"
   ]
  },
  {
   "cell_type": "code",
   "execution_count": 31,
   "metadata": {},
   "outputs": [
    {
     "name": "stdout",
     "output_type": "stream",
     "text": [
      "Train Accuracy: 1.0000\n",
      "Validation Accuracy: 0.9721\n",
      "Validation F1-Score: 0.9685\n"
     ]
    }
   ],
   "source": [
    "print(f\"Train Accuracy: {train_accuracy:.4f}\")\n",
    "print(f\"Validation Accuracy: {val_accuracy:.4f}\")\n",
    "print(f\"Validation F1-Score: {val_f1:.4f}\")"
   ]
  },
  {
   "cell_type": "code",
   "execution_count": 32,
   "metadata": {},
   "outputs": [],
   "source": [
    "# Update your results table\n",
    "parameters = dict(Exp='2_Hybrid', Model_Name='Random Forest (Pipeline)', \n",
    "                  Features='Text+Meta', Scale='StandardScaler', \n",
    "                  Vectorizer='CountVectorizer', Train_Accuracy=round(train_accuracy,3),\n",
    "                  Val_Accuracy=round(val_accuracy,3), Val_Recall=round(val_recall,3), \n",
    "                  Val_Precision=round(val_precision,3), Val_F1=round(val_f1,3))\n",
    "\n",
    "hyperparameter_table[-1].update(parameters)"
   ]
  },
  {
   "cell_type": "code",
   "execution_count": 33,
   "metadata": {},
   "outputs": [
    {
     "data": {
      "image/png": "[encoded data removed]",
      "text/plain": [
       "<Figure size 640x480 with 2 Axes>"
      ]
     },
     "metadata": {},
     "output_type": "display_data"
    }
   ],
   "source": [
    "cm = metrics.confusion_matrix(y_val, y_val_pred, labels = rf_pipeline.classes_)\n",
    "fig, ax = plt.subplots()\n",
    "display_cm = metrics.ConfusionMatrixDisplay(confusion_matrix = cm, \n",
    "                                    display_labels = ['Real_news','Fake_news'])\n",
    "\n",
    "ax.set_xticks([0, 1])\n",
    "ax.set_yticks([0, 1])\n",
    "ax.set_xticklabels(labels = ['Real_news','Fake_news'], fontsize = 12)\n",
    "ax.set_yticklabels(labels = ['Real_news','Fake_news'], fontsize = 12)\n",
    "\n",
    "display_cm.plot(ax = ax)\n",
    "plt.show()"
   ]
  },
  {
   "cell_type": "markdown",
   "metadata": {},
   "source": [
    "### 3.2.3 Method_1 Exp_3 Gradient Boost Classifier"
   ]
  },
  {
   "cell_type": "code",
   "execution_count": 34,
   "metadata": {},
   "outputs": [],
   "source": [
    "# create empty dict at start of every experiment. \n",
    "hyperparameters = {}\n",
    "hyperparameter_table.append(hyperparameters)"
   ]
  },
  {
   "cell_type": "code",
   "execution_count": 35,
   "metadata": {},
   "outputs": [],
   "source": [
    "# 1. Create the full pipeline by chaining the preprocessor and the classifier\n",
    "gb_pipeline = Pipeline(steps=[\n",
    "    ('preprocessor', preprocessor),\n",
    "    ('classifier', GradientBoostingClassifier(random_state=42))\n",
    "])\n",
    "\n",
    "# 2. Train the entire pipeline on the training data\n",
    "gb_pipeline.fit(X_train, y_train)\n",
    "\n",
    "# 3. Evaluate the model\n",
    "# (No need for cross-validation on the training set for this example, we'll use the validation set)\n",
    "y_val_pred = gb_pipeline.predict(X_val)"
   ]
  },
  {
   "cell_type": "code",
   "execution_count": 36,
   "metadata": {},
   "outputs": [],
   "source": [
    "train_accuracy = gb_pipeline.score(X_train, y_train) # Get accuracy on the training set\n",
    "val_accuracy = metrics.accuracy_score(y_val, y_val_pred)\n",
    "val_recall = metrics.recall_score(y_val, y_val_pred)\n",
    "val_precision = metrics.precision_score(y_val, y_val_pred)\n",
    "val_f1 = metrics.f1_score(y_val, y_val_pred)"
   ]
  },
  {
   "cell_type": "code",
   "execution_count": 37,
   "metadata": {},
   "outputs": [
    {
     "name": "stdout",
     "output_type": "stream",
     "text": [
      "Train Accuracy: 0.9761\n",
      "Validation Accuracy: 0.9711\n",
      "Validation F1-Score: 0.9675\n"
     ]
    }
   ],
   "source": [
    "print(f\"Train Accuracy: {train_accuracy:.4f}\")\n",
    "print(f\"Validation Accuracy: {val_accuracy:.4f}\")\n",
    "print(f\"Validation F1-Score: {val_f1:.4f}\")"
   ]
  },
  {
   "cell_type": "code",
   "execution_count": 38,
   "metadata": {},
   "outputs": [],
   "source": [
    "# Update your results table\n",
    "parameters = dict(Exp='3_Hybrid', Model_Name='Gradient Boost (Pipeline)', \n",
    "                  Features='Text+Meta', Scale='StandardScaler', \n",
    "                  Vectorizer='CountVectorizer', Train_Accuracy=round(train_accuracy,3),\n",
    "                  Val_Accuracy=round(val_accuracy,3), Val_Recall=round(val_recall,3), \n",
    "                  Val_Precision=round(val_precision,3), Val_F1=round(val_f1,3))\n",
    "\n",
    "hyperparameter_table[-1].update(parameters)"
   ]
  },
  {
   "cell_type": "code",
   "execution_count": 39,
   "metadata": {},
   "outputs": [
    {
     "data": {
      "image/png": "[encoded data removed]",
      "text/plain": [
       "<Figure size 640x480 with 2 Axes>"
      ]
     },
     "metadata": {},
     "output_type": "display_data"
    }
   ],
   "source": [
    "cm = metrics.confusion_matrix(y_val, y_val_pred, labels = gb_pipeline.classes_)\n",
    "fig, ax = plt.subplots()\n",
    "display_cm = metrics.ConfusionMatrixDisplay(confusion_matrix = cm, \n",
    "                                    display_labels = ['Real_news','Fake_news'])\n",
    "\n",
    "ax.set_xticks([0, 1])\n",
    "ax.set_yticks([0, 1])\n",
    "ax.set_xticklabels(labels = ['Real_news','Fake_news'], fontsize = 12)\n",
    "ax.set_yticklabels(labels = ['Real_news','Fake_news'], fontsize = 12)\n",
    "\n",
    "display_cm.plot(ax = ax)\n",
    "plt.show()"
   ]
  },
  {
   "cell_type": "markdown",
   "metadata": {},
   "source": [
    "### 3.2.4 Method_1 Exp_4 XGBoost Classifier"
   ]
  },
  {
   "cell_type": "code",
   "execution_count": 40,
   "metadata": {},
   "outputs": [],
   "source": [
    "# create empty dict at start of every experiment. \n",
    "hyperparameters = {}\n",
    "hyperparameter_table.append(hyperparameters)"
   ]
  },
  {
   "cell_type": "code",
   "execution_count": 41,
   "metadata": {},
   "outputs": [],
   "source": [
    "# 1. Create the full pipeline by chaining the preprocessor and the classifier\n",
    "xgb_pipeline = Pipeline(steps=[\n",
    "    ('preprocessor', preprocessor),\n",
    "    ('classifier', XGBClassifier(random_state=42))\n",
    "])\n",
    "\n",
    "# 2. Train the entire pipeline on the training data\n",
    "xgb_pipeline.fit(X_train, y_train)\n",
    "\n",
    "# 3. Evaluate the model\n",
    "# (No need for cross-validation on the training set for this example, we'll use the validation set)\n",
    "y_val_pred = xgb_pipeline.predict(X_val)"
   ]
  },
  {
   "cell_type": "code",
   "execution_count": 42,
   "metadata": {},
   "outputs": [],
   "source": [
    "train_accuracy = xgb_pipeline.score(X_train, y_train) # Get accuracy on the training set\n",
    "val_accuracy = metrics.accuracy_score(y_val, y_val_pred)\n",
    "val_recall = metrics.recall_score(y_val, y_val_pred)\n",
    "val_precision = metrics.precision_score(y_val, y_val_pred)\n",
    "val_f1 = metrics.f1_score(y_val, y_val_pred)"
   ]
  },
  {
   "cell_type": "code",
   "execution_count": 43,
   "metadata": {},
   "outputs": [
    {
     "name": "stdout",
     "output_type": "stream",
     "text": [
      "Train Accuracy: 0.9988\n",
      "Validation Accuracy: 0.9872\n",
      "Validation F1-Score: 0.9857\n"
     ]
    }
   ],
   "source": [
    "print(f\"Train Accuracy: {train_accuracy:.4f}\")\n",
    "print(f\"Validation Accuracy: {val_accuracy:.4f}\")\n",
    "print(f\"Validation F1-Score: {val_f1:.4f}\")"
   ]
  },
  {
   "cell_type": "code",
   "execution_count": 44,
   "metadata": {},
   "outputs": [],
   "source": [
    "# Update your results table\n",
    "parameters = dict(Exp='4_Hybrid', Model_Name='XGboost (Pipeline)', \n",
    "                  Features='Text+Meta', Scale='StandardScaler', \n",
    "                  Vectorizer='CountVectorizer', Train_Accuracy=round(train_accuracy,3),\n",
    "                  Val_Accuracy=round(val_accuracy,3), Val_Recall=round(val_recall,3), \n",
    "                  Val_Precision=round(val_precision,3), Val_F1=round(val_f1,3))\n",
    "\n",
    "hyperparameter_table[-1].update(parameters)"
   ]
  },
  {
   "cell_type": "code",
   "execution_count": 45,
   "metadata": {},
   "outputs": [
    {
     "data": {
      "image/png": "[encoded data removed]",
      "text/plain": [
       "<Figure size 640x480 with 2 Axes>"
      ]
     },
     "metadata": {},
     "output_type": "display_data"
    }
   ],
   "source": [
    "cm = metrics.confusion_matrix(y_val, y_val_pred, labels = xgb_pipeline.classes_)\n",
    "fig, ax = plt.subplots()\n",
    "display_cm = metrics.ConfusionMatrixDisplay(confusion_matrix = cm, \n",
    "                                    display_labels = ['Real_news','Fake_news'])\n",
    "\n",
    "ax.set_xticks([0, 1])\n",
    "ax.set_yticks([0, 1])\n",
    "ax.set_xticklabels(labels = ['Real_news','Fake_news'], fontsize = 12)\n",
    "ax.set_yticklabels(labels = ['Real_news','Fake_news'], fontsize = 12)\n",
    "\n",
    "display_cm.plot(ax = ax)\n",
    "plt.show()"
   ]
  },
  {
   "cell_type": "code",
   "execution_count": 46,
   "metadata": {},
   "outputs": [
    {
     "data": {
      "application/vnd.microsoft.datawrangler.viewer.v0+json": {
       "columns": [
        {
         "name": "index",
         "rawType": "int64",
         "type": "integer"
        },
        {
         "name": "Exp",
         "rawType": "object",
         "type": "string"
        },
        {
         "name": "Model_Name",
         "rawType": "object",
         "type": "string"
        },
        {
         "name": "Features",
         "rawType": "object",
         "type": "string"
        },
        {
         "name": "Scale",
         "rawType": "object",
         "type": "string"
        },
        {
         "name": "Vectorizer",
         "rawType": "object",
         "type": "string"
        },
        {
         "name": "Train_Accuracy",
         "rawType": "float64",
         "type": "float"
        },
        {
         "name": "Val_Accuracy",
         "rawType": "float64",
         "type": "float"
        },
        {
         "name": "Val_Recall",
         "rawType": "float64",
         "type": "float"
        },
        {
         "name": "Val_Precision",
         "rawType": "float64",
         "type": "float"
        },
        {
         "name": "Val_F1",
         "rawType": "float64",
         "type": "float"
        }
       ],
       "ref": "19737847-6e32-45d7-89a1-a8d29b28b11c",
       "rows": [
        [
         "0",
         "1_Hybrid",
         "Logistic Regression (Pipeline)",
         "Text+Meta",
         "StandardScaler",
         "CountVectorizer",
         "0.999",
         "0.981",
         "0.976",
         "0.982",
         "0.979"
        ],
        [
         "1",
         "2_Hybrid",
         "Random Forest (Pipeline)",
         "Text+Meta",
         "StandardScaler",
         "CountVectorizer",
         "1.0",
         "0.972",
         "0.957",
         "0.98",
         "0.968"
        ],
        [
         "2",
         "3_Hybrid",
         "Gradient Boost (Pipeline)",
         "Text+Meta",
         "StandardScaler",
         "CountVectorizer",
         "0.976",
         "0.971",
         "0.957",
         "0.978",
         "0.967"
        ],
        [
         "3",
         "4_Hybrid",
         "XGboost (Pipeline)",
         "Text+Meta",
         "StandardScaler",
         "CountVectorizer",
         "0.999",
         "0.987",
         "0.983",
         "0.989",
         "0.986"
        ]
       ],
       "shape": {
        "columns": 10,
        "rows": 4
       }
      },
      "text/html": [
       "<div>\n",
       "<style scoped>\n",
       "    .dataframe tbody tr th:only-of-type {\n",
       "        vertical-align: middle;\n",
       "    }\n",
       "\n",
       "    .dataframe tbody tr th {\n",
       "        vertical-align: top;\n",
       "    }\n",
       "\n",
       "    .dataframe thead th {\n",
       "        text-align: right;\n",
       "    }\n",
       "</style>\n",
       "<table border=\"1\" class=\"dataframe\">\n",
       "  <thead>\n",
       "    <tr style=\"text-align: right;\">\n",
       "      <th></th>\n",
       "      <th>Exp</th>\n",
       "      <th>Model_Name</th>\n",
       "      <th>Features</th>\n",
       "      <th>Scale</th>\n",
       "      <th>Vectorizer</th>\n",
       "      <th>Train_Accuracy</th>\n",
       "      <th>Val_Accuracy</th>\n",
       "      <th>Val_Recall</th>\n",
       "      <th>Val_Precision</th>\n",
       "      <th>Val_F1</th>\n",
       "    </tr>\n",
       "  </thead>\n",
       "  <tbody>\n",
       "    <tr>\n",
       "      <th>0</th>\n",
       "      <td>1_Hybrid</td>\n",
       "      <td>Logistic Regression (Pipeline)</td>\n",
       "      <td>Text+Meta</td>\n",
       "      <td>StandardScaler</td>\n",
       "      <td>CountVectorizer</td>\n",
       "      <td>0.999</td>\n",
       "      <td>0.981</td>\n",
       "      <td>0.976</td>\n",
       "      <td>0.982</td>\n",
       "      <td>0.979</td>\n",
       "    </tr>\n",
       "    <tr>\n",
       "      <th>1</th>\n",
       "      <td>2_Hybrid</td>\n",
       "      <td>Random Forest (Pipeline)</td>\n",
       "      <td>Text+Meta</td>\n",
       "      <td>StandardScaler</td>\n",
       "      <td>CountVectorizer</td>\n",
       "      <td>1.000</td>\n",
       "      <td>0.972</td>\n",
       "      <td>0.957</td>\n",
       "      <td>0.980</td>\n",
       "      <td>0.968</td>\n",
       "    </tr>\n",
       "    <tr>\n",
       "      <th>2</th>\n",
       "      <td>3_Hybrid</td>\n",
       "      <td>Gradient Boost (Pipeline)</td>\n",
       "      <td>Text+Meta</td>\n",
       "      <td>StandardScaler</td>\n",
       "      <td>CountVectorizer</td>\n",
       "      <td>0.976</td>\n",
       "      <td>0.971</td>\n",
       "      <td>0.957</td>\n",
       "      <td>0.978</td>\n",
       "      <td>0.967</td>\n",
       "    </tr>\n",
       "    <tr>\n",
       "      <th>3</th>\n",
       "      <td>4_Hybrid</td>\n",
       "      <td>XGboost (Pipeline)</td>\n",
       "      <td>Text+Meta</td>\n",
       "      <td>StandardScaler</td>\n",
       "      <td>CountVectorizer</td>\n",
       "      <td>0.999</td>\n",
       "      <td>0.987</td>\n",
       "      <td>0.983</td>\n",
       "      <td>0.989</td>\n",
       "      <td>0.986</td>\n",
       "    </tr>\n",
       "  </tbody>\n",
       "</table>\n",
       "</div>"
      ],
      "text/plain": [
       "        Exp                      Model_Name   Features           Scale  \\\n",
       "0  1_Hybrid  Logistic Regression (Pipeline)  Text+Meta  StandardScaler   \n",
       "1  2_Hybrid        Random Forest (Pipeline)  Text+Meta  StandardScaler   \n",
       "2  3_Hybrid       Gradient Boost (Pipeline)  Text+Meta  StandardScaler   \n",
       "3  4_Hybrid              XGboost (Pipeline)  Text+Meta  StandardScaler   \n",
       "\n",
       "        Vectorizer  Train_Accuracy  Val_Accuracy  Val_Recall  Val_Precision  \\\n",
       "0  CountVectorizer           0.999         0.981       0.976          0.982   \n",
       "1  CountVectorizer           1.000         0.972       0.957          0.980   \n",
       "2  CountVectorizer           0.976         0.971       0.957          0.978   \n",
       "3  CountVectorizer           0.999         0.987       0.983          0.989   \n",
       "\n",
       "   Val_F1  \n",
       "0   0.979  \n",
       "1   0.968  \n",
       "2   0.967  \n",
       "3   0.986  "
      ]
     },
     "execution_count": 46,
     "metadata": {},
     "output_type": "execute_result"
    }
   ],
   "source": [
    "pd.DataFrame(hyperparameter_table)"
   ]
  },
  {
   "cell_type": "markdown",
   "metadata": {},
   "source": [
    "## 3.3 Performance Test\n",
    "### 3.3.1 Data Preparation"
   ]
  },
  {
   "cell_type": "markdown",
   "metadata": {},
   "source": [
    "**Get real news from reuters, cnn and npr.**     \n",
    "**Get fake news from breitbart and thegatewaypundit.**    \n",
    "**Totally 25 news**"
   ]
  },
  {
   "cell_type": "code",
   "execution_count": 47,
   "metadata": {},
   "outputs": [
    {
     "data": {
      "application/vnd.microsoft.datawrangler.viewer.v0+json": {
       "columns": [
        {
         "name": "index",
         "rawType": "int64",
         "type": "integer"
        },
        {
         "name": "title",
         "rawType": "object",
         "type": "string"
        },
        {
         "name": "text",
         "rawType": "object",
         "type": "string"
        },
        {
         "name": "label",
         "rawType": "object",
         "type": "string"
        },
        {
         "name": "source",
         "rawType": "object",
         "type": "string"
        },
        {
         "name": "url",
         "rawType": "object",
         "type": "string"
        },
        {
         "name": "date",
         "rawType": "datetime64[ns]",
         "type": "datetime"
        }
       ],
       "ref": "34e8429c-f154-436b-b441-3d5b7ecbf717",
       "rows": [
        [
         "0",
         "Exclusive: Former Biden Aide Paid Fani Willis’s Deputy DA Jeff DiSantis $131K in 2023",
         "The money flow is significant because sources with direct knowledge of Fulton County’s office told Breitbart News DiSantis is a Biden plant inside a Fulton County office to target former President Donald Trump.DiSantis’ payments were previously unreported. DiSantis was working at county DA’s office while operating a consulting firm named “20/20 Insights, LLC.” Sources told Breitbart News deputy district attorneys would likely have to sign an oath that prohibits them from working outside their county employment agreement. DiSantis’s oath, if he signed one, remains undisclosed. It is also curious that DiSantis contracted with Amo, who worked in the Biden administration as the deputy director of the White House Office of Intergovernmental Affairs before running for Congress in 2023. There he worked as the principal liaison to mayors and “local elected officials,” according to his White House bio. Amo also served as an adviser on President Joe Biden’s 2020 campaign and later served on his transition team. “That is the connection to the White House,” one source told Breitbart News. “DiSantis did this. He’s the one. He is the one pulling all the strings. He was the one that walled her [Willis] off. He was in every important meeting. He is the brainchild behind this.” DiSantis is a wealthy and successful Democrat operative. He ran Willis’ 2020 campaign and raised $4 million dollars. “He had over $4 million in donations for running the district attorney’s race,” one source told Breitbart News about DiSantis’s fundraising. “Why would you want to take a major pay cut to get a $70,000 or $80,000 prosecutorial job?” the source asked. “I have no idea why.” DiSantis has professional experience far greater than the average county employee. He was the former Executive Director of the Democrat Party of Georgia with extensive knowledge of campaign finance law. He was also the Deputy Director of Compliance for the DNC, according to his official bio: Jeff has also worked for candidates in 30 states running for a variety of offices, including President of the United States, United States Senator, Governor, United States Representative, Attorney General, District Attorney, and Mayor, as well as for a national political party committee. He has served as a campaign manager, media consultant, pollster, press spokesman, research director, and policy advisor. DiSantis founded 20/20 Insights, LLC in 2010, and he was the registered agent for the company until this month. On February 2, 2024, the company replaced his name as the registered agent with Christopher Huttman, DiSantis’ business partner. The timing of the change is suspicious. 20/20 Insights, LLC replaced DiSantis as the registered agent just weeks before Willis testified about her affair with fellow Trump prosecutor, Nathan Wade, and two days after a court filing alleging Willis’ romantic relationship with Wade.",
         "fake_news",
         "breitbart",
         "https://www.breitbart.com/politics/2024/02/29/exclusive-former-biden-aide-paid-fani-williss-deputy-jeff-disantis-131k-2023/",
         "2024-02-29 00:00:00"
        ],
        [
         "1",
         "Judges in Trump-related cases face unprecedented wave of threats",
         "U.S.District Judge Royce Lamberth has been threatened by angry criminals. Drug cartels. Even al Qaeda. But nothing, Lamberth says, prepared him for the wave of harassment after he began hearing cases against supporters of former President Donald Trump who attacked the U.S. Capitol in a bid to overturn the 2020 election. Right-wing websites painted Lamberth, appointed to the bench by Republican President Ronald Reagan, as part of a “deep state” conspiracy to destroy Trump and his followers. Calls for his execution cropped up on Trump-friendly websites. “Traitors get ropes,” one wrote. After he issued a prison sentence to a 69-year-old Idaho woman who pleaded guilty to joining the Jan. 6, 2021, riot, his chambers’ voicemail filled with death threats. One man found Lamberth’s home phone number and called repeatedly with graphic vows to murder him. “I could not believe how many death threats I got,” Lamberth told Reuters, revealing the calls to his home for the first time. As Trump faces a welter of indictments and lawsuits ahead of this year’s election, his loyalists have been waging a campaign of threats and intimidation at judges, prosecutors and other court officials, according to a Reuters review of threat data compiled by the U.S. Marshals Service, posts on right-wing message boards, and interviews with more than two dozen law-enforcement agents, judicial officials and legal experts. As the frontrunner for the 2024 Republican presidential nomination – and a defendant in four criminal cases alleging 91 felonies – Trump has fused the roles of candidate and defendant. He attacks judges as political foes, demonizes prosecutors and casts the judicial system as biased against him and his supporters. These broadsides frequently trigger surges in threats against the judges, prosecutors and other court officials he targets, Reuters found. Since Trump launched his first presidential campaign in June 2015, the average number of threats and hostile communications directed at judges, federal prosecutors, judicial staff and court buildings has more than tripled, according to the Reuters review of data from the Marshals Service, which is responsible for protecting federal court personnel. The annual average rose from 1,180 incidents in the decade prior to Trump’s campaign to 3,810 in the seven years after he declared his candidacy and began his practice of criticizing judges. In all, the Marshals documented nearly 27,000 threatening and harassing communications targeting federal courts from the fall of 2015 through the fall of 2022, a volume they consider unprecedented in their 234-year history. There is no national data collection for threats against state and local judges. Many states do not even track the problem. Since late 2020, Trump has ramped up his criticism of the judiciary dramatically, first amid his dozens of failed lawsuits seeking to overturn his election loss and, more recently, amid a cascade of criminal and civil litigation. In that time, serious threats against federal judges alone have more than doubled, from 220 in 2020 to 457 in 2023, as Reuters reported on Feb. 13. “Donald Trump set the stage,” retired Ohio Supreme Court Chief Justice Maureen O’Connor, a Republican who stepped down at the end of 2022, said in an interview. Trump “gave permission by his actions and words for others to come forward and talk about judges in terms not just criticizing their decisions, but disparaging them and the entire judiciary.” Trump and his spokespeople did not respond to requests for comment. He has appeared defiant in public comments on the judiciary, saying in January that if the criminal cases against him hurt his election prospects, “it’ll be bedlam in the country.” Despite the rise in threats, arrests are rare. The U.S. Justice Department says it does not track the number of people charged or convicted for threatening judges. Reuters identified just 57 federal prosecutions for threats to judges since 2020 in a review of court databases, Justice Department records and news accounts. Whether to press federal charges is typically up to the Justice Department and its prosecutors based on evidence gathered by the Federal Bureau of Investigation. The Justice Department declined to comment on judicial threats and prosecutions. The FBI and Marshals would not comment on specific incidents. Marshals Director Ronald Davis told Reuters that the agency is dedicating unprecedented resources to judicial protection. The FBI said it “takes all potential threats seriously.” In the case of Lamberth, the federal judge in Washington, D.C., U.S. Marshals found the culprit, who has not been identified, and warned the man to stop. No arrest was made. The Marshals upgraded Lamberth’s home security system. The calls stopped, but his concerns lingered about threats that now come from “ordinary people you wouldn’t suspect,” Lamberth said. For judges, threats have always been part of the job. But traditionally they have come from aggrieved parties – a criminal angered by a long sentence, a spouse by a divorce ruling, a businessman by a bankruptcy decision. Today, a single politically charged case can generate hundreds of threats from people with no direct interest in the matter. Those cases can generate rage across the political spectrum. The U.S. Supreme Court’s 2022 decision to end the legal right to abortion stoked left-wing anger against the court’s conservatives, including an alleged assassination attempt against Justice Brett Kavanaugh. After a draft of the ruling leaked, police arrested Nicholas John Roske outside Kavanaugh’s home, armed with a gun, a knife and tactical gear. He said he was enraged by the draft ruling and planned to kill the justice. He has pleaded not guilty to attempted murder and awaits trial.",
         "real_news",
         "reuters",
         "https://www.reuters.com/investigates/special-report/usa-election-judges-threats/",
         "2024-02-29 00:00:00"
        ],
        [
         "2",
         "Meet the Experienced Democrat Operative the Biden Regime Placed In Fani Willis’s Office to Target President Trump – Operative Is Reportedly the “Brainchild” Behind the Collusion",
         "The Biden regime’s collusion with corrupt Fulton County District Attorney Fani Willis runs even deeper than believed, with an experienced Democrat operative reportedly serving as the “brainchild” behind it. Breitbart News today uncovered explosive information that the Regime planted the operative inside Willis’s office to target President Donald Trump. Sources told Breitbart News that the Regime planting the operative presents a “strong argument” that they have interfered in the 2024 presidential election. Breitbart reports the operative in question is Jeff DiSantis, who serves as the county’s Deputy District Attorney and has far more extensive professional experience than your usual county employee. For example, DiSantis worked on Willis’s 2020 campaign and was the former Executive Director of the Democrat Party of Georgia with extensive knowledge of campaign finance law. He also served as the Deputy Director of Compliance for the DNC. Critical Medications Every American Can Have On Hand (Including Ivermectin) – And How To Get Them Prescribed Here is more from DiSantis’s official campaign bio, which illustrates the breadth of his experience in Democrat politics: Jeff has also worked for candidates in 30 states running for a variety of offices, including President of the United States, United States Senator, Governor, United States Representative, Attorney General, District Attorney, and Mayor, as well as for a national political party committee. He has served as a campaign manager, media consultant, pollster, press spokesman, research director, and policy advisor. Sources told Breitbart that DiSantis is the “brainchild” behind the collusion: DiSantis did this. He’s the one. He is the one pulling all the strings. He was the one that walled her (Willis) off. He was in every important meeting. He is the brainchild behind this. That is the connection to the White House. DiSantis is the one pulling the strings on this whole thing. Everybody heard Fani testify. It’s no secret that she’s not smart. That is how she sounds and acts every day of the week. The Gateway Pundit’s Cristina Laila previously reported Willis received two letters from Joe Biden’s White House Counsel amid its Trump witch hunt, providing incontrovertible evidence that the Regime coordinated with her office. In August, she hit Trump and 18 others with garbage RICO and conspiracy charges for challenging the 2020 election results in Georgia. Willis then visited the White House just DAYS after the Georgia grand jury recommended indictments, perhaps to receive further instructions from Regime officials. Given Biden’s awful poll numbers, his most straightforward path to “victory” in November is seeing Trump convicted and thrown in jail. The lengths he and his handlers are going to disqualify Trump rivals similar efforts by third-world dictators to shove their opponents aside.",
         "fake_news",
         "thegatewaypundit",
         "https://www.thegatewaypundit.com/2024/02/meet-experienced-democrat-operative-biden-regime-placed-fani/",
         "2024-02-26 00:00:00"
        ],
        [
         "3",
         "Biden pressures Trump to unblock migrant plan during dueling border visits",
         "U.S. President Joe Biden and Donald Trump, his likely Republican opponent in the November election, will make dueling visits to the U.S.-Mexico border on Thursday as a large influx of immigrants has become a dominant issue for voters. Biden, who has been on the defensive on the issue in recent months, will use a visit to the border town of Brownsville, Texas, to try to shame Republican lawmakers for rejecting a bipartisan effort to toughen immigration policies after Trump told them not to pass it and give Biden a policy victory. Biden will meet with border patrol agents and customs and law enforcement officials and deliver remarks. \"He is going because it's important to highlight that Republicans are getting in the way here,\" said White House press secretary Karine Jean-Pierre. Biden took office in 2021 promising to reverse the hardline immigration policies of Trump, but has since toughened his own approach. Under pressure from Republicans who accuse him of failing to control the border, Biden called on Congress last year to provide more enforcement funding and said he would \"shut down the border\" if given new authority to turn back migrants. The White House is also considering using executive authority to deny more migrants asylum at the border, a source familiar with the matter has said. Biden will be joined by Homeland Security Secretary Alejandro Mayorkas, who Republican lawmakers earlier this month narrowly voted to impeach over his handling of the border. The Democratic-led Senate, however, is unlikely to vote to remove Mayorkas from office. Trump, who as president from 2017 to early 2021 considered a tough border stance to be a signature issue for him, will be on the offense in accusing Biden of bungling border issues. He will visit Eagle Pass, Texas, where border-crossers have posed a major problem for authorities in recent months. Karoline Leavitt, National Press Secretary for the Trump Campaign, called the border a \"crime scene\" in a statement and said the former president on the visit will outline a plan to \"secure the border immediately upon taking office.\" But Democratic Senate Majority Leader Chuck Schumer in a speech on Thursday morning sought to blame Trump for the failure of the border deal. \"When Donald Trump goes in front of the cameras to lament the mess at the border, he should look in the mirror,\" Schumer said. A Reuters-Ipsos poll from Jan. 31 found rising concern among Americans about immigration, with 17% of respondents listing it as the most important problem facing the U.S. today, up sharply from 11% in December. It was the top concern of Republican respondents, with 36% citing it as their main worry, above the 29% who cited the economy. Trump will be joined by Texas Governor Greg Abbott, whose administration has been building a military \"base camp\" at Eagle Pass to deter migrants. Eagle Pass remains a flashpoint in a heated partisan debate over border security even though the number of migrants caught crossing illegally into both there and Brownsville dropped sharply in January and February. The number of migrants caught crossing the U.S.-Mexico border illegally hit a monthly record of 250,000 in December but dropped by half in January, a trend U.S. officials attribute to increased Mexican enforcement and seasonal trends. The number of migrants caught crossing illegally has plummeted in the parts of the border around Brownsville and Eagle Pass, with hundreds caught daily in the past week instead of thousands in December, according to internal U.S. government figures reviewed by Reuters. U.S. Border Patrol on Monday had more than 50% of its capacity available in both areas. Abbott, a Republican, has deployed thousands of National Guard troops and laid concertina wire and river buoys to deter illegal immigration through a program called Operation Lone Star. Immigration enforcement historically has been the purview of the federal government, and Abbott's actions have sparked legal and political standoffs with the Biden administration and immigrant rights activists.",
         "real_news",
         "reuters",
         "https://www.reuters.com/world/us/biden-trump-make-competing-election-year-visits-southern-us-border-2024-02-29/",
         "2024-02-29 00:00:00"
        ],
        [
         "4",
         "Biden and Trump’s dueling border visits will encapsulate a building election clash",
         "Two presidents will visit the southern US border Thursday, highlighting the centrality of migrant surges to November’s election in a spectacle that will explain why America’s polarized politics has for decades failed to fix a broken immigration system. Joe Biden and his predecessor and possible successor, Donald Trump, will tour different sectors of the border in Texas as they spell out dueling arguments on what everyone now agrees is a crisis. They’re already feuding over their first-term records on immigration, and their visits will mark the most visible and intense manifestation yet of their likely rematch. The ex-president will be in Eagle Pass, scene of a border showdown between the Biden administration and Texas Republican Gov. Greg Abbott. His visit will showcase his dark portrayal of a nation under siege from a torrent of what he claims are migrant criminals and invaders. It’s a narrative that he hopes will vault him to the presidency, just as it did in 2016. Trump is promising mass deportations and detention camps if he wins back the White House and is unleashing some of the most extreme anti-migrant rhetoric in modern American history. The apparent inhumanity is the point as he promises a strongman presidency of retribution and channels the anger of his base voters. Biden, who’s been on the defensive over the border for much of his term, will visit Brownsville following his embrace of tougher rhetoric and policies. The president hopes to turn the tables on Republicans, including Trump, who crashed a bipartisan Senate bill brimming with many conservative goals, apparently to deprive him of an election-year victory. Biden’s first visit to the border in 13 months follows tense discussions in his inner circle as the immigration crisis morphed into a political liability after months of the White House seeking to keep it in the background, sources told CNN. His aides believe the derailing of the immigration bill gives him an opening to hammer the GOP. But Thursday’s theatrics will also show how the treacherous politics of the border lend themselves to stunts and photo-ops that only thicken the partisan stew that has destroyed successive bipartisan efforts to overhaul an overwhelmed asylum and border enforcement system since the Reagan administration. Trump and Biden’s rival border visits will almost certainly do little to combat the flow of desperate people fleeing economic deprivation, environmental disasters, drug and gang violence and political persecution, which is confronting developed states the world over and almost certain to worsen in the years ahead. The failure of weakened, hyper-polarized democracies to tackle immigration is ironically creating the conditions for demagogues like Trump and European populists to exploit the issue in a way that further weakens those democracies. Biden’s campaign is taking a risk in showcasing the president at the border — the symbol of one of his most glaring political vulnerabilities. And although the trip has been in the works before this week, it comes on the heels of Michigan’s nominating contest on Tuesday night, when the strength of the “uncommitted” vote in the Democratic primary exposed some of the fragility of Biden’s base, with key Arab American and progressive voters upset over his handling of Israel’s war in Gaza. Yet Biden’s border visit is a step that epitomizes a more aggressive campaign strategy designed to repair weaknesses in his electoral coalition that have seen him court Black Americans and unionized workers and aggressively confront Trump in recent weeks. The offensive will culminate in the president’s annual State of the Union address next week – a critical symbolic pillar of his reelection bid before a huge television audience – where he is expected to chide GOP lawmakers for failing to act to end the border crisis and to try to ease some of his vulnerability on the issue. His chutzpah appears to have irritated Trump, who is used to a monopoly on political gamesmanship over immigration. “He spent three years not going to the border,” Trump told Real America’s Voice Tuesday. “So, now he’s coming down because I’m going down,” Trump said, blasting the president as a “chaser.” Biden, who seems to enjoy poking his rival, told reporters on Monday, “I planned it for Thursday, what I didn’t know was that my good friend apparently is going.” Joking aside, the president needs to address a glaring weakness over immigration. A CNN poll earlier this month showed just 30% of Americans approve of his performance on the issue and 79% of voters – including majorities across party lines – say that the situation on the border represents a crisis. It’s true that conservative media and politicians have spent years trolling the president with over-hyped and misleading coverage about migrant caravan invasions and open borders. But it’s also the case that high levels of interceptions of border crossers deeply worries many voters. Republican governors like Abbott and Florida Gov. Ron DeSantis appear to have succeeded in nationalizing the issue by transporting undocumented migrants from the border to democratic jurisdictions and cities. The immigration issue is particularly tricky for the president since his attempts to adopt tougher positions – and even suggesting he might close the border – risk further alienating progressives, some of whom are already lukewarm about his presidency and whose votes will be critical in November. But White House and Biden campaign officials see a unique opportunity for Biden to point the finger at Republicans on border security. They are counting on many voters to understand that a border security package that could have improved the situation at the US southern border was within reach – but that it was tanked by Republicans trying to please Trump. “It’s really about trying to fix the problems and the Republicans don’t want to do it. The American voters will see it,” Cedric Richmond, a Biden campaign co-chair, told CNN. “You have a former president saying, ‘Let’s keep it as a problem – it may help me win an election.’” One senior Biden campaign official said if many Democrats in recent years had tried to avoid talking about immigration, there is now a new opportunity to present a stark split screen thanks to Republican lawmakers’ inaction. “Trump killing the deal is an opportunity for Democrats and Biden to talk about who is actually to going to deliver on solutions,” the official said. Biden administration officials argue, with some justification, that the Trump administration left the immigration system a disaster. They had, for instance, to spend months tracing kids that the ex-president’s officials separated from their parents as part of a draconian attempt to deter families from crossing the US-Mexico frontier. Some of Biden’s comments during the 2020 campaign were construed, however, as inviting more undocumented migrants to seek asylum in a system already plagued by yearslong backlogs of case loads. Republicans also seized on his repudiation of the “Remain in Mexico” policy that meant asylum seekers had to stay on the other side of the border while their claims were processed. And Biden’s decision to immediately undo multiple Trump immigration policies offered an opening to the GOP. The culmination of the Republican assault over immigration came with the GOP-controlled House’s impeachment of Homeland Security Secretary Alejandro Mayorkas, although Democratic Senate control means he’s unlikely to be ousted after a trial. As he seeks to defuse Republican attacks, Biden was handed a lifeline – by the GOP. The House’s refusal to even allow a vote on the Senate border compromise package after party figures spent years demanding more spending on enforcement and changes to asylum policy came across as an attempt by Trump to put his own interests before the country’s in trying to keep the crisis alive until the election. House Speaker Mike Johnson, meanwhile, is still being tied in hypocritical knots over the issue. On Tuesday at the White House, he justified his unwillingness to vote on the latest $60 billion lifeline for Ukraine by saying, “We must take care of America’s needs first” – even though he was instrumental in sabotaging the most conservative immigration measure in years. Trump pioneered shocking and often racist rhetoric against migrants in the opening moments of his campaign launch in 2015. In retrospect, that was the moment that he started his transformation of a party that reacted to its 2012 White House defeat by resolving to be court minority voters. As he seeks to win back the White House, despite his disgraced exit from Washington, DC, in 2021 after trying to steal an election and as he faces four criminal trials, Trump is turning up the dial against migrants even more. “They’re coming from Asia, they’re coming from the Middle East, coming from all over the world, coming from Africa, and we’re not going to stand for it. … They’re destroying our country,” Trump said at the Conservative Political Action Conference over the weekend. He added: “They’re killing our people. They’re killing our country. We have no choice” and complained that “we have languages coming into our country … they have languages that nobody in this country has ever heard of. It’s a horrible thing.” The ex-president’s comments, and his vows to launch the biggest deportation operation in American history, are among the growing pile of evidence that suggests his potential second term would provoke even greater challenges to the rule of law and democracy that his riotous first go-around in the Oval Office. While he is in Texas, Trump is expected to meet members of the state’s national guard and to tour Shelby Park alongside the Rio Grande, where Texas has been blocking access for federal border patrol agents. One Trump adviser said the former president would lean into recent “impact stories” like those of the killing of Laken Hope Riley, an Augusta University nursing student, allegedly by an undocumented migrant. Trump is also expected to be interviewed by Sean Hannity of Fox News. While Thursday’s exchanges may have a tangible political impact ahead of the likely general election rematch, they will almost certainly do nothing to resolve the genuine crisis in the immigration system. And tackling the root cause of the migrant crisis – shattered public order, corruption, and poor governance in developing nations in the Western hemisphere – would need a major international initiative that a fractured global political consensus is as incapable of addressing as Washington is of fixing the domestic immigration mess.",
         "real_news",
         "cnn",
         "https://www.cnn.com/2024/02/29/politics/border-visits-biden-trump/index.html",
         "2024-02-29 00:00:00"
        ],
        [
         "5",
         "WOW! Biden’s Stiff Gait as He Shuffles Along Desolate Stretch of Texas Border Shocks the Public (VIDEO)",
         "Joe Biden arrived in Brownsville, Texas on Thursday for a drive-by photo-op border visit. Brownsville is a desolate stretch with virtually no illegal alien invasion compared to other hot spots such as El Paso and Eagle Pass. Trump supporters protested Biden’s arrival. Since then, millions of military-age men from Africa, the Middle East, Latin America and China have invaded the US. Americans are being murdered by Joe Biden’s illegal aliens and he responds by visiting a desolate part of the southern border in a choreographed photo-op. Biden’s stiff gait as he shuffled along a calm part of the border in Brownsville shocked the public. He barely moved his arms as he struggled to walk. “Where am I going?” Biden said on a hot mic. Trump is also at the Texas border, but he actually visited a place where Biden’s border invasion is much worse – Eagle Pass – hundreds of thousands of illegals have poured into Eagle Pass in the past few months. ",
         "fake_news",
         "thegatewaypundit",
         "https://www.thegatewaypundit.com/2024/02/wow-bidens-stiff-gait-as-he-shuffles-along/",
         "2024-02-29 00:00:00"
        ],
        [
         "6",
         "Biden has eight months to fix his Michigan problem",
         "If the Democratic voters of Michigan – and a handful of other swing states – are feeling uncommitted in November, Joe Biden could lose reelection. Tuesday’s primary – in which tens of thousands of Democratic primary votes cast protest ballots over the president’s support for Israel – made clear that he faces a battle for his own coalition and political base that he must win if he is to defeat likely Republican nominee Donald Trump. The stakes could not be higher since there’s a good chance that the candidate who captures Michigan in the fall will return to the White House for a second term. But while Biden can seek to mitigate his issues with the state’s thousands of suburban Arab American voters, his chances of easing his vulnerabilities may depend on something that may be out of his power – the return of peace to the Middle East and the end of Israel’s operation in response to the Hamas terror attacks last October. Democratic primary voters in Michigan have the option to mark their ballot as “uncommitted.” In 2012, even President Barack Obama suffered 20,000 such defections. That was a blip in a cruise to reelection. But on Tuesday night, Biden got an unmistakable message. With 95% of the vote in, Biden had 81% of votes cast. But more than 101,000 voters had made their point by casting an uncommitted ballot. The size of the uncommitted vote after an organized campaign by Arab American and progressive critics of Biden’s Middle East policy is the most tangible sign yet of how the war in Gaza is tearing at the fabric of the Democratic Party. Biden’s campaign released a statement in the president’s name late Tuesday about his Michigan victory that did not mention the uncommitted vote in the state. A few hours later, a senior campaign adviser sent an unprompted message that addressed the matter directly. “President Biden shares the goal of many of the folks who voted uncommitted, which is an end to the violence and a just and lasting peace,” a senior Biden campaign adviser said. “That is what he is working towards.” One primary in February will not dictate the results of the general election. And it’s impossible to predict how Biden will fare in a rematch against Trump, who seems an even worse fit for voters of Arab descent after suggesting he’d try to reimpose his Muslim travel ban in a second term. Trump also has his general election liabilities to worry about – and that’s before any possible convictions he could face in four criminal trials. His last remaining rival, former South Carolina Gov. Nikki Haley, won more than a quarter of the votes in Michigan. This meant that more than 294,000 Republicans there would prefer her at the top of the GOP ticket, even though the ex-president has a 100% record so far in his party’s nominating contests this year in his quest to win his third straight GOP presidential nod. But on Tuesday night at least, Biden had the bigger headache. Even largely uncontested primary elections can identify weaknesses in an incumbent president’s appeal. The Michigan result will only bolster questions about the solidity of Biden’s coalition and the enthusiasm of key Democratic voting blocs, including minority voters, younger voters and progressives – who are among those that have reacted most viscerally to scenes of carnage in Gaza. In 2016, Trump’s shock win by nearly 11,000 votes over Democratic nominee Hillary Clinton paved the way for the most disruptive presidency in modern American history. Four years later, Biden rebuilt the blue wall and carried Michigan by around 150,000 votes. There’s every sign that the race will be closer this time, owing to Biden’s unpopularity and the scrutiny afforded to incumbents. If the thousands of uncommitted voters on Tuesday don’t return to Biden or stay home in November, they could have an outsize impact on the destiny of the White House. What Democrats will see as the alarming possibility of a second Trump term should be sufficient to galvanize the Biden campaign into an intense effort to try to mitigate his liabilities exposed in a primary in which he racked up 80% of the vote. What Democrats will see as the alarming possibility of a second Trump term should be sufficient to galvanize the Biden campaign into an intense effort to try to mitigate his liabilities exposed in a primary in which he racked up 80% of the vote. But a president who often stresses his capacity to understand the grief of others after a life punctuated by personal tragedies is yet to travel in person to console Arab American voters, many of whom have families caught up in the horror, and to explain his lack of success in tempering the scale of Israeli operations. Such a visit now seems like a step the president must take sooner rather than later. And Biden is likely to lean heavily on second-term Michigan Gov. Gretchen Whitmer and her Democratic turnout machine as he seeks to heal differences with some of his party’s own voters and to win over some Haley voters who disdain Trump. “I think he does need to sit down with this community,” Democratic Rep. Debbie Dingell of Michigan told CNN on Tuesday evening, adding that after watching so many Palestinians die, many of her constituents were “raw” and “hurting.” Another prominent Democrat, California Rep. Ro Khanna, also told CNN that voters in Michigan were sending the president a message that he could not afford to miss and that Democrats still needed to “understand” their coalition better. Biden’s need to ease the domestic political blowback from his Middle East policy is clear. But the prospects for making a decisive intervention in the conflict are more cloudy. The president, for instance, made headlines when he said on Monday – on the eve of the Michigan primary – that he was optimistic a pause in the fighting, which would allow for the release of more Israeli hostages by Hamas and spare civilians, could be agreed by next week. His comments appeared to spark surprise in the Middle East despite weeks of ceasefire talks that are yet to justify the president’s optimism. After decades of sparring between Biden and Netanyahu, it now appears that the leaders’ political interests are diverging. After Tuesday, the president has an even greater need for the fighting to stop soon and to produce evidence that the aspiration of a Palestinian state, shared by many American Muslims, is not a mirage. But many analysts believe that Netanyahu, who sits atop a fragile governing coalition, has a strong political interest in extending the hostilities in order to stave off the prospect of a general election that polls suggest he would lose after the October 7 Hamas attacks – one of the worst days in Israel’s history –– took place on his watch. In some ways, Biden’s reelection prospects and the chances of a lessening of the intensity of the Gaza war could be helped if Netanyahu’s government falls. That, however, is something no one from the White House would dare say out loud. “The American president can’t say who he wants the prime minister of Israel to be,” Biden campaign official Mitch Landrieu told CNN as the results from Michigan rolled in. The former mayor of New Orleans said Democrats in Michigan were making their views known. But he also acknowledged that the president didn’t have the capacity to control everything about a “very complicated and difficult issue which we are really not driving the train on.” In that sense, the Middle East crisis and its domestic political blowback is typical of foreign crises that seriously hamper incumbents during reelection bids.",
         "real_news",
         "cnn",
         "https://www.cnn.com/2024/02/28/politics/biden-michigan-vulnerabilities-israel-gaza/index.html",
         "2024-02-28 00:00:00"
        ],
        [
         "7",
         "Some Democrats turn toward Trump in Texas border city hit by immigration",
         "Asalia Casares, 52, is a lifelong Democrat who voted for U.S. President Joe Biden in 2020 just like many in Maverick County near the U.S.-Mexico border, a rare Democratic stronghold in the majority Republican state of Texas. But Casares said she is concerned about the high levels of illegal immigration straining her hometown of Eagle Pass, Texas, which sits alongside the Rio Grande and where she was born and raised. While she sympathizes with the migrants, she worries about the safety of residents and migrant families, citing the dangers of crossing the Rio Grande and pointing to an incident where three people were found hiding behind an elderly neighbor's house. Casares, a Maverick County tax official campaigning for another term, thinks Republican former President Donald Trump would discourage border crossings with his tougher stance. Outside an early voting site on Wednesday she said she would likely vote for him in a head-to-head with Biden in the November presidential election. \"If it's Biden and Trump, that's a little bit tough because I am a Democrat, but I don't like what we're living. I don't like what's happening in our borders,\" she said \"I would probably say Trump.\" Trump, the likely Republican Party nominee, aims to tap into that frustration during a visit to Eagle Pass on Thursday. He has vowed to intensify his first-term immigration crackdown and resume his signature policies, such as building a wall on the U.S.-Mexico border and the \"remain in Mexico\" program, which forced some non-Mexican migrants to wait in Mexico for the resolution of their U.S. asylum cases. Maverick County, the largely Hispanic county where Eagle Pass is located, has backed Democratic presidential candidates for nearly a century. Biden bested Trump in the county in 2020 despite losing to Trump in Texas. The Maverick County Republican Party, however, has cited research by political analyst Dave Wasserman showing growing for Trump seen from the 2016 to the 2020 presidential races. The county's Democratic Party did not immediately respond to a request for comment. ",
         "real_news",
         "reuters",
         "https://www.reuters.com/world/us/some-democrats-turn-toward-trump-texas-border-city-hit-by-immigration-2024-02-29/",
         "2024-02-29 00:00:00"
        ],
        [
         "8",
         "WAYNE ROOT: “Do You Believe in Miracles?” Something Supernatural is Happening with President Trump. We are All Witnessing “The Trump Miracle.”",
         "“Do you believe in miracles?” Remember those words by sports broadcaster Al Michaels when the underdog US Hockey team won the Olympic Gold in the 1980 Winter Olympics. History has branded that game… “The Miracle on Ice.” See, in real life miracles do happen. We live in a negative, cynical world. Few of us really believe in miracles…and even fewer believe a miracle is happening, even when it’s happening right in front of us. But miracles happen all the time. You just have to be open to seeing and believing in miracles. I believe a miracle, sent directly by God, is happening right in front of us, right now. You just have to open your eyes. He’s sometimes crude and rude. He offends so many. He angers so many. “The powers that be” want him stopped at any cost- even if they have to frame him by making up crimes that never happened. He faces so many indictments and trials. He faces over 700 years in prison. He is being fined hundreds of millions of dollars and banned from conducting business. If he doesn’t spend the rest of his life in prison, he could end up losing his empire to bankruptcy. He is painted as “Hitler” and “KKK” and a “white supremacist.” We are told he is “a threat to democracy.” If elected, his critics say, he will destroy America. Virtually everyone in power is against him- from the DC Swamp, to the Deep State, to the Military Industrial Complex (that wants wars around the world), to his own government agencies (CIA, FBI, DOJ, NSA) who frame him and spy on him. All the groups who hold the most wealth and power in America are out to stop him- Wall Street, mainstream media, Silicon Valley, the Bar Association, the teachers union, Hollywood, Madison Avenue. They all hate him. Foreign governments are desperate to stop him from ever gaining power again. Global organizations like the WEF, WHO and United Nations despise him. Almost every globalist billionaire in the world is arrayed against him- George Soros, Klaus Schwab, Bill Gates, Jeff Bezos and all the rest. Women call him “sexist.” Black Democrats call him “racist.” Gays call him “homophobic.” Muslims call him “Islamophobic” because of his unswerving faith and support for Israel. But American Jews vote against him. Yet after all of that, President Trump holds the lead over Joe Biden in virtually every national poll; leads in every battleground state that determines the election; leads among Generation Z (the youngest voters); and in some polls leads among Latino and black males. A recent poll showed Trump leading among Jewish voters in New York state. How is this possible? It’s supernatural. It’s biblical. It can’t be explained. It’s a real-life miracle. Let me finish with two real-life stories that back my belief that a “Trump Miracle” is happening in front of our eyes. My nephew is a young doctor in California. He recently graduated medical school after being born with severe physical disabilities. He is a walking miracle and testament to the power of faith and prayer. For the past decade of college, medical school, and medical internship in California, everyone he met was a liberal Trump-hater. 48 hours ago, my nephew the doctor was working at a medical office in Los Angeles and he witnessed what he describes as a “supernatural miracle.” The news came on the television in the doctors office. The topic was Trump’s primary landslide in Michigan. He was expecting either groans, or hatred from everyone in the office. But then he witnessed something that shocked him like never before… Someone in the office cheered Trump. And then another. And another. Soon the entire medical office was cheering and celebrating President Trump. Everyone. Patients, staff, doctors. Once they realized it was safe to express support for Trump, everyone let it all out. Everyone admitted they are on Trump’s side. In Los Angeles. And then real life story #2. My childhood best friend is a strong believer in God. But he is non-political. Yesterday he reached out to me via text to say, “I’m going to say something very odd now. I don’t believe Trump can be stopped. He’s touched by God. He’s super-human. He’s got something supernatural supporting him. I don’t think anyone can stop him. In my lifetime, I’ve never seen a human being on the earth surrounded by this supernatural force. Trump doesn’t even age like all the other presidents in history. He looks the same as 8 years ago – even after all he’s been through. He doesn’t ever get down, even though he’s taking deadly shots left and right. He’s superhuman, unstoppable, unflappable. We are witnessing a miracle.” Do you believe in miracles? It’s time to start believing. What’s happening is supernatural. Everyone is starting to see it. Everyone is starting to believe. The signs are there. Trump is “the Chosen One.” Trump is sent by God and blessed by God. What we are all witnessing is “The Trump Miracle.” ",
         "fake_news",
         "thegatewaypundit",
         "https://www.thegatewaypundit.com/2024/02/wayne-root-do-you-believe-miracles-something-supernatural/",
         "2024-02-29 00:00:00"
        ],
        [
         "9",
         "Trump says he cannot get fair trial this year in classified documents case",
         "Donald Trump's lawyers told a U.S. judge on Thursday that he believes he cannot get a fair trial this year on charges of mishandling classified documents after leaving the White House, while he campaigns to try to recapture the presidency. U.S. Special Counsel Jack Smith, who is bringing the case against Trump, asked on Thursday for a July 8 start to the trial. Lawyers for the former president said in their filing that Trump \"strongly asserts that a fair trial cannot be conducted this year in a manner consistent with the Constitution.\" After making that assertion on the filing's first page, however, they went on to suggest an Aug. 12, 2024, start to the trial on the seventh page. A Trump attorney did not immediately respond to a request for comment on the discrepancy. The filings were made ahead of a Friday court hearing where U.S. District Judge Aileen Cannon plans to consider arguments on when to start the trial, one of four criminal prosecutions facing Trump, the clear frontrunner for the Republican presidential nomination. Cannon previously pushed back several pre-trial deadlines, but said she would wait until Friday to consider moving the scheduled May 20 trial. Trump has pleaded not guilty to 40 federal counts accusing him of retaining sensitive national security documents at his Florida resort after leaving office in 2021 and obstructing U.S. government efforts to retrieve them. Trump is charged alongside his personal aide Walt Nauta and Carlos de Oliveira, a property manager at his Mar-a-Lago resort. Both have pleaded not guilty. Trump has repeatedly sought to delay all four of the criminal cases against him, which he has claimed are part of a politically motivated effort to damage his election campaign. Trump is due to face trial in state court in New York beginning on March 25 on charges that he falsified records to pay hush money to a porn star ahead of the 2016 election. The timing of the other three cases remains uncertain and it is unclear whether any will go to trial before the November election. ",
         "real_news",
         "reuters",
         "https://www.reuters.com/world/us/trump-asks-delay-federal-classified-documents-trial-until-after-2024-2024-02-29/",
         "2024-02-29 00:00:00"
        ],
        [
         "10",
         "UN chief says Gaza killing could require independent investigation",
         "United Nations Secretary-General Antonio Guterres on Thursday said the killing of over 100 people seeking humanitarian aid in Gaza was a situation that would require an effective independent investigation. Speaking in St. Vincent and the Grenadines ahead of a regional summit, Guterres said he was \"shocked\" by the latest episode in the war with Israel, in which Palestinian authorities say over 30,000 civilians have been killed since Oct. 7. Responding to questions on the failure of a recent Security Council resolution seeking a ceasefire, Guterres said worsening geopolitical divides have \"transformed the veto power into an effective instrument of paralysis of the action of the Security Council.\" \"I am totally convinced that we need a humanitarian ceasefire and we need the unconditional and immediate release of hostages and that we should have a Security Council able to achieve these objectives,\" Guterres said. ",
         "real_news",
         "reuters",
         "https://www.reuters.com/world/middle-east/un-chief-says-gaza-killing-could-require-independent-investigation-2024-03-01/",
         "2024-03-01 00:00:00"
        ],
        [
         "11",
         "Kamala Harris Called Out on Twitter/X After Praising ‘Non-Partisan’ Poll Worker Who is Actually a Far Left Activist",
         "Kamala Harris recently took to Twitter and heaped praise on a pair of supposedly non-partisan poll workers, saying that ‘our democracy’ could not function without such people. She was almost immediately called out however, by sharp-eyed Twitter/X users who recognized one of the men as a far left activist. What are the odds that Harris didn’t know this when she sent her initial tweet? Kamala Harris praises ‘nonpartisan poll worker,’ which immediately backfires when people learn who he is Vice President Harris took to social media to praise the efforts of poll workers amid the presidential primaries and just months ahead of the 2024 election, but her complimentary remarks quickly backfired. “Our democracy could not function without nonpartisan poll workers like Vasu and Rob whom I met in Georgia. President Biden and I thank you and we support you,” she said Tuesday on X, sharing a photo of her appearing to listen to Vasu Abhiraman. Instead of applauding a “nonpartisan” poll worker, X’s Community Notes immediately tagged the tweet with additional context that readers “might want to know,” including that Abhiraman is actually a liberal advocate who promotes the progressive movement. “The ‘nonpartisan poll worker’ on the left is Vasu Abhiraman, a staffer at the left-wing Alliance for Justice and formerly of ACLU Georgia,” reads a notice on Harris’ tweet. Of course, you’ll never hear about this on CNN or MSNBC. This is the value of Twitter/X. ",
         "fake_news",
         "thegatewaypundit",
         "https://www.thegatewaypundit.com/2024/02/kamala-harris-called-twitter-x-after-praising-non/",
         "2024-02-29 00:00:00"
        ],
        [
         "12",
         "Liberal Hollywood Celebs Are Throwing a Fit Over Supreme Court’s Decision to Hear Trump Immunity Case",
         "As you probably know, the United States Supreme Court has agreed to hear the Trump immunity case and liberals in Hollywood are not taking the news well. Rob Reiner and his fellow leftist travelers in tinseltown are having an absolute meltdown on social media, calling the SCOTUS illegitimate and worse. They simply cannot control their hatred of Trump. They’re seething with rage. Hollywood Celebrities Freak as SCOTUS Takes Up Trump Immunity Case: ‘F**k The Supreme Court’ The day after the Supreme Court ruled that it would take up former President Donald Trump’s immunity case, Hollywood celebrities appear to have received their marching orders — to smear and delegitimize the court in the mind of the American public. With alarming ferocity, Hollywood stars are trying to gin up popular outrage, using the ruling as an opportunity to push the Democrats’ agenda of packing the court and singling out Justice Clarence Thomas for more political persecution. “Fuck the Supreme Court,” wrote Ellen Barkin. “Thomas needs to be in jail,” rocker Steven van Zandt posted. “Dems must push to expand the court,” CBS’ Two and a Half Men star Jon Cryer wrote. ",
         "fake_news",
         "thegatewaypundit",
         "https://www.thegatewaypundit.com/2024/02/liberal-hollywood-celebs-are-throwing-fit-supreme-courts/",
         "2024-02-29 00:00:00"
        ],
        [
         "13",
         "Republican-controlled Alabama legislature passes bills to protect IVF",
         "Alabama's Republican-led legislature on Thursday passed bills aimed at protecting the IVF industry after the state Supreme Court ruled that frozen embryos should be considered children, A bill passed the Senate 34-0, with one member abstaining, after the House measure passed 94-6.  prompting at least three Alabama providers to halt the fertility procedure. Governor Kay Ivey, a Republican, has signaled that she will support the legislation. If signed by Ivey, the legislation would protect IVF providers from both criminal charges and civil lawsuits. It was unclear when the measure would reach Ivey's desk, and her office did not immediately return calls for comment on Thursday. The Feb. 16 Alabama Supreme Court ruling left unclear how to legally store, transport and use embryos, and some IVF patients sought to move their frozen embryos out of Alabama. Republicans nationwide have scrambled to contain backlash from the decision by the Alabama Supreme Court, whose elected judges are all Republican. Democrats have seized on it as more evidence that reproductive rights are under assault. The bill that passed both chambers of Alabama's legislature on Thursday would not necessarily mean IVF providers could revert to business as usual, according to its sponsor, Republican state Senator Tim Melson. Replying to another senator's question about what Alabama IVF providers could do with unused embryos under the proposed law, Melson said during Senate debate on Thursday that some providers told him they planned to start storing embryos that aren't implanted into a uterus perpetually as a result of the court ruling. \"That's going to probably become their policy,\" he said. \"That's not in effect, but that's what they're looking at doing.\" The Alabama legislature passed the bill the day after a similar effort to protect the IVF industry at a federal level was stymied in Congress. Republican U.S. Senator Cindy Hyde-Smith of Mississippi on Wednesday blocked an effort by Democrats to rush through federal legislation that would guarantee access to IVF treatments and facilities without fear of prosecution, while also shielding IVF providers and health insurance companies. IVF, or in vitro fertilization, involves combining eggs and sperm in a laboratory dish to create an embryo for couples having difficulty conceiving. The Alabama high court issued its ruling in response to three families' lawsuits against a fertility clinic and hospital for failing to properly safeguard their frozen embryos, resulting in their destruction when a patient improperly accessed them. The ruling was based on the state's 2018 Sanctity of Life Amendment approved by voters that supports \"the sanctity of unborn life and the rights of unborn children.\" On Friday, the Alabama Attorney General's office said it had \"no intention\" of prosecuting IVF providers or families who use their services. ",
         "real_news",
         "reuters",
         "https://www.reuters.com/world/us/republican-controlled-alabama-house-passes-bill-protect-ivf-2024-02-29/#:~:text=Feb%2029%20(Reuters)%20%2D%20Alabama's,to%20halt%20the%20fertility%20procedure.",
         "2024-02-29 00:00:00"
        ],
        [
         "14",
         "US Supreme Court's move to hear Trump's immunity claim gives him gift of delay",
         "The U.S. Supreme Court appears likely to reject Donald Trump's claim of immunity from prosecution for trying to undo his 2020 election loss, according to legal experts, but its decision to spend months on the matter could aid his quest to regain the presidency by further delaying a monumental criminal trial. Trump's lawyers have argued that he should be shielded from prosecution for his effort to reverse President Joe Biden's election victory over him because he was president when he took those actions, a sweeping assertion of immunity firmly rejected by lower courts. But the Supreme Court's decision not to schedule its arguments on the issue until late April reduces the chances that a trial on election subversion charges brought by Special Counsel Jack Smith could be finished before the Nov. 5 U.S. election. Trump is cruising toward the Republican nomination to challenge Biden, a Democrat. Some legal experts criticized the Supreme Court, whose 6-3 conservative majority includes three Trump appointees, for undue delay. \"They could have set a more aggressive briefing and argument schedule, as Smith requested,\" University of Michigan law professor Leah Litman said. \"The immunity claims are also outlandish. They could have been rejected on the papers (legal briefs) if they wanted to be the one to decide it.\" \"They'll reject his immunity bid,\" Litman added, but forecast that the soonest a decision would come is May. Legal experts said the justices would need to rule by about June 1 to leave enough time for Trump's trial on the charges to wrap up before Election Day. Smith, seeking to avoid trial delays, had asked the justices on Dec. 11 to launch a fast-track review of the immunity claim. Trump asked the justices to not expedite the review, and on Dec. 22 they did what he requested, opting to let the matter play out in a lower court rather than resolving it right away. The U.S. Court of Appeals for the District of Columbia Circuit on Feb. 6 upheld U.S. District Judge Tanya Chutkan's Dec. 1 ruling rejecting the immunity claim. Trump on Feb. 12 asked the Supreme Court to freeze the D.C. Circuit ruling. On Feb. 14, Smith asked the justices to reject Trump's bid to further delay the matter. It took the court two more weeks before it announced it would hear arguments in the matter, which it scheduled for the week of April 22. The trial had been scheduled to start on March 4 before the delays over the immunity issue. Now no trial date is set. The case is one of four criminal prosecutions Trump faces. A March 25 trial date has been set on charges in state court in New York involving hush money paid to porn star Stormy Daniels before the 2016 election. It is unclear when the other criminal cases will go to trial. Trump has pleaded not guilty in all four cases, seeking to portray them as politically motivated. \"I should not have to go through any fake prosecutions before the election,\" Trump wrote on social media on Feb. 19. A criminal conviction could harm Trump's election chances. In Reuters/Ipsos opinion polls, a quarter of Republicans and half of independents said they would not vote for Trump if a jury convicted him of a felony. If he is elected and becomes president again next January, he could order an end to this case and a second brought by Smith concerning Trump's handling of classified documents - or seek to pardon himself for any federal convictions. Republican strategist Ford O'Connell, who worked with Trump during the 2020 campaign, said of the delays in the trial timeline as the Supreme Court resolves the immunity matter: \"It's hard to overstate what a victory this is politically for the Trump legal team and for Donald Trump.\" \"This is a great benefit to Trump in terms of the timeline of these cases, and how they may interact with the election, particularly in the fall,\" O'Connell said. University of Michigan law professor Barbara McQuade, a former senior federal prosecutor appointed by President Barack Obama, said that a time frame for the election subversion trial \"is manageable as long as the Supreme Court acts promptly, and remains mindful of the public's right to a speedy trial.\" McQuade added that \"it seems likely that the court will uphold the D.C. Circuit ruling against Trump.\" \"I think that Trump's arguments are pretty thin,\" added Georgetown University law professor Erica Hashimoto. Chutkan has promised to give Trump about 90 days to prepare for trial once the case returns to her courtroom, with a trial expected to last six to eight weeks. For a verdict to come before the election, the trial would need to start by around Sept. 1, McQuade said. UCLA School of Law elections expert Richard Hasen said that if the Supreme Court's ruling comes in late June, \"it is not at all clear that there could be a trial before the election.\" \"I'm also skeptical the judge would make Trump go to trial if he's the general election candidate on the Republican side,\" Hasen added. Hasen forecast that the Supreme Court \"is likely to reject Trump's immunity argument on the merits.\" Delaying the trial gives Trump more time to rally supporters around his claim that the charges were politically motivated, an assertion that Reuters/Ipsos polls show is broadly held by Republican voters. Some experts cite Trump's long-established record of making strategic use of court delays for legal and political advantage. Hasen noted that \"given the weakness of Trump's position, it's reasonable to ask whether this is simply an attempt, now more likely to be successful, to run out the clock.\"  ",
         "real_news",
         "reuters",
         "https://www.reuters.com/world/us/us-supreme-courts-move-hear-trumps-immunity-claim-gives-him-gift-delay-2024-02-29/#:~:text=WASHINGTON%2C%20Feb%2029%20(Reuters),presidency%20by%20further%20delaying%20a",
         "2024-02-29 00:00:00"
        ],
        [
         "15",
         "DeSantis Signs Bill That Authorizes Release of Epstein Documents: ‘The Public Deserves to Know Who Participated’",
         "On Thursday, Florida Gov. Ron DeSantis signed a bill into law that officially authorizes the release of documents from a 2006 grand jury investigation in Palm Beach County regarding the late Jeffrey Epstein’s sexual assault of underage girls. “Today I signed HB 117, authorizing the public release of grand jury documents like those in the Jeffrey Epstein case,” DeSantis wrote on the social media platform X. “Nobody should be above the law, regardless of wealth, status, or connections,” he said. “The public deserves to know who participated in Jeffrey Epstein’s sex trafficking operation, and the survivors deserve justice.” WPTV reported, “The bill will take effect July 1, although a South Florida circuit judge might release the transcripts sooner as part of a lawsuit filed by the Palm Beach Post.” DeSantis held a news conference Thursday in Palm Beach, to coincide with the signing of HB 117, during which he stated, “they say that justice delayed is justice denied. And I think in many respects this whole ordeal has proven that to be true.” He said the lack of access to the grand jury materials led to the investigation being “stymied.” DeSantis added, “There needs to be a mechanism in some of these rare circumstances where people can get the truth and where we can try to pursue justice.” He continued, “How is that possible given the magnitude of what was going on? And what was going on in Florida was only a fraction of what was happening because you had activities and abuse in New York City, in the Virgin Islands, and this was a massive, massive operation here that was targeting these very, very young girls. And to not have justice on this is something that has been a big black spot on our justice system.” Before he signed, DeSantis invited two of Epstein’s accusers, Haley Robson and Jena-Lisa Jones, to speak at the podium. Both women thanked DeSantis. “I can’t express the gratitude I have for this bill,” said Robson as she looked at DeSantis with tears welling up in her eyes. “I just am trying to put pieces together on the final pieces of this puzzle to help me move on and finally get the peace that I deserve for my life. And I am just so grateful. And I would just really just want to know, why was Jeffrey Epstein given such grace and mercy for his inhumane crimes and why were we so outed in the media and treated so poorly?” DeSantis invited Jones to speak next. “We have been left in the dark for so long with no answers to what is going on and why things played out the way they did,” said Jones. DeSantis then invited Robson, Jones and a third person to join him at the table where he signed HB 117 into law. Epstein, a billionaire U.S. hedge fund manager, was arrested on July 6, 2019 on sex trafficking charges, which included minor girls as young as 14. Less than one month later, on August 10, he was found hanging dead in his cell at Manhattan’s Metropolitan Correctional Center while awaiting trial. Epstein was 66. Although autopsy reports confirmed Epstein died by suicide, there had been much speculation as to whether his death was, in fact, a murder staged as suicide. The cameras in Epstein’s cell were mysteriously shut off at the time of his death and his cellmate had been transferred out the day before he died. Epstein, who was on suicide watch, did not receive a new cellmate. In an interview with American media personality Tucker Carlson, which was released on Jan. 4, Epstein’s brother Mark also questioned whether Jeffrey died by suicide.",
         "fake_news",
         "thegatewaypundit",
         "https://www.thegatewaypundit.com/2024/02/desantis-signs-bill-authorizes-release-epstein-documents-public/",
         "2024-02-29 00:00:00"
        ],
        [
         "16",
         "Fmr. Biden Border Patrol Chief: ‘I Never Once Met’ with Biden or Harris in Nearly 2 Years",
         "On Thursday’s broadcast of the Fox News Channel’s “Your World,” former Border Patrol Chief Raul Ortiz stated that he “never once met” with either President Joe Biden or Vice President Kamala Harris during his tenure running the agency from August 2021 to the end of June 2023 and “it’s long overdue that they sit down and roll up their sleeves and start coming up with some solutions.” Ortiz said, “Well, certainly, I think it’s important that the President meet with Border Patrol officials to find out exactly what needs to be done to remedy the crisis that’s ongoing. And it’s not just in South Texas or West Texas. It’s happening in Tucson, San Diego, El Paso. Those are the three busiest areas along the southwest border right now. And the only way you’re going to actually hear firsthand is by talking to those Border Patrol officials, by meeting with the chief of the Border Patrol. I’ve made it perfectly clear, when I was the Chief, I never once met with the President or the Vice President. And I think it’s long overdue that they sit down and roll up their sleeves and start coming up with some solutions.” ",
         "fake_news",
         "breitbart",
         "https://www.breitbart.com/clips/2024/02/29/fmr-biden-border-patrol-chief-i-never-once-met-with-biden-or-harris-in-nearly-2-years/",
         "2024-02-29 00:00:00"
        ],
        [
         "17",
         "Trump at Texas Border: ‘This is a Joe Biden Invasion",
         "Former President Donald J. Trump visited the small Texas border town of Eagle Pass on Thursday, offering his assessment of the current border situation. Trump began by describing the horrible murder of Laken Riley, a nursing student at the University of Georgia at Athens. The former President blamed the murder of Riley and other crime victims on what he referred to as the “Joe Biden Invasion.” Trump’s remarks included details concerning his plan to regain control of the border as he lamented the deliberate destruction of the most secure border in history. The destruction occurred on January 21, 2021, with President Joe Biden canceling the former president’s strict and successful border policies. Trump’s statement described his assessment of the border, saying, “Three years ago, we had the most secure border in history, people weren’t coming because they knew they couldn’t get in, we weren’t promising free education, free medical, free everything.” Trump went on to tout the progress towards securing the border under his administration, saying, “We ended catch and release, we built 571 miles of border wall, much more than I promised I would build.” Trump added, “We purchased another 200 miles (of wall materials), and they sold that — much of it for five cents on the dollar.” Trump went on to describe the removal policies canceled President Biden’s watch, including “Remain in Mexico,” Asylum Cooperative Agreements (ACA’s) to speed asylum adjudication while migrants wait in Central American northern triangle countries, and the Title 42 COVID-19 expulsion mechanism.\n A statement from Texas Governor Greg Abbott followed Trump’s brief remarks. The governor touted the success of his border barrier project and the numerous narcotics seizures and migrant arrests through his Operation Lone Star initiatives. According to Abbott’s office, as of February 22, the state has made more than 40,000 criminal arrests and seized more than 114 million lethal doses of Fentanyl. The operation also netted 9,811 illegal firearms and resulted in the arrest of more than 500,000 migrants along the Texas-Mexico border. Abbott also described plans to construct an Army National Guard military base near Eagle Pass. The “fort” is designed to house 1,800 soldiers with an additional surge capacity of 500. According to Abbott, the facility will include a dining hall and space for welfare and recreation activities for the soldiers. After their brief remarks to media members present for the event, Abbott and Trump departed the small border park where nearly 5,000 migrants crossed daily into the United States during December. The number of migrant crossings has dropped in the area from a high of 71,048 in December to 13,101 for the first three weeks of February, according to Texas Governor Greg Abbott’s office. ",
         "fake_news",
         "breitbart",
         "https://www.breitbart.com/border/2024/02/29/trump-at-texas-border-this-is-a-joe-biden-invasion/",
         "2024-02-29 00:00:00"
        ],
        [
         "18",
         "Exclusive — House Majority Whip Tom Emmer: Joe Biden Has ‘Blood on His Hands’ over Illegal Alien Murders",
         "House Majority Whip Tom Emmer (R-MN) told Breitbart News in an exclusive interview on Thursday that President Joe Biden’s refusal to curb the migrant crisis means that he “has blood on his hands” over illegal alien murders. Both Joe Biden and former President Donald Trump visited on Thursday; however, they have drastically different records on curbing illegal immigration, said Emmer. Biden has so far declined to take action to curb the surge, yet in late February, he said that he would use his executive authority to stage a crackdown on the border. Emmer said the only reason Biden “even talked” about immigration and the border is because it has become a “political liability.” He explained, calling Biden’s trip to the border a “photo op,” saying, “This is their number one issue is this invasion at the southern border. You got eight to ten million illegals that have come across our southern border because of Joe Biden and border chief Alejandro Mayorkas.” The Minnesota Republican also said that the Biden administration has taken 64 executive actions to undermine border security. These have been aggregated by Speaker Mike Johnson (R-LA): Emmer added, “But that’s why I think he’s [Biden] flailing at this thing. And the people around him think they can just do some photo op.” Indeed, polls have shown that this has become a disastrous issue for the 46th president. Sixty-one percent of Americans believe that federal migration policy is a “very serious” issue. Sixty-two percent of voters support the House Republican-led movement to impeach Department of Homeland Security (DHS) Secretary Alejandro Mayorkas. Emmer also said that Biden is directly responsible for the repercussions of his open borders policies, which include fentanyl overdoses and murders committed by illegal aliens.\n He said, “It’s just now finally being reported by more than just one news [organization] out there because these are such gruesome crimes, but you’ve had because of Joe Biden’s open border policy, you have had a planeload of Americans like two to 300 a day – which would be a tragedy if we lost a plane with that many people – that you’re losing two to 300 Americans a day to fentanyl overdoses. And, the fentanyl as everybody knows is coming right across our southern border. So Joe Biden has caused death and destruction.” This also includes the tragic murders, including the murder of 22-year-old Laken Riley at the hands of an illegal alien. The suspect, 26-year-old illegal alien Jose Antonio Ibarra from Venezuela, was charged with murdering and kidnapping Riley when she was out jogging around the University of Georgia campus in Athens. Ibarra reportedly crossed the U.S.-Mexico border in September 2022 and was relased into the U.S. interior. He had been arrested for shoplifting in October 2023 but was not turned over to the Immigration and Customs Enforcement (ICE) agency. After he failed to appear in court, authorities issued a bench warrant for his arrest. Before traveling to the Peach State, Ibarra had been protected by New York’s sanctuary state policy. Emmer said that Biden “has blood on his hands. So does this entire administration, because they have not done the job of sealing the border and protecting Americans and their property.” The House Majority Whip said that House Republicans have taken action to curb the migrant crisis. He said that they have passed H.R. 2, the Secure the Border Act of 2023, a bill that would take drastic action to close the southern border. Emmer said, “It finishes the wall, too. It reforms parole, the president’s authority to decide who comes in and how many on an annual basis, it reforms asylum. It ends catch and release and it restores Remain in Mexico and our Customs and Border Patrol will tell you that just the last one, Remain in Mexico, would staunch the flow by 70%.” ",
         "fake_news",
         "breitbart",
         "https://www.breitbart.com/politics/2024/02/29/exclusive-house-majority-whip-tom-emmer-joe-biden-has-blood-on-his-hands-over-illegal-alien-murders/",
         "2024-02-29 00:00:00"
        ],
        [
         "19",
         "Congress passes stopgap spending bill, preventing a partial government shutdown",
         "The Senate voted 77 to 13 to approve a short-term spending bill that would prevent a partial government shutdown at the end of the day on Friday. The House passed the bill earlier in the day, giving Congress more time to finish work on long-term funding plans. The bill now heads to the White House for President Biden's signature. The stop-gap bill was part of a broader bipartisan agreement between all four leaders in the House and Senate. The deal also included an agreement on six of the twelve annual spending bills. Leaders committed to voting on those bills by Friday, March 8. The stop-gap under consideration today give them until March 22 to finish work on the remaining six bills. House Speaker Mike Johnson, Senate Majority Leader Chuck Schumer, Senate Minority leader Mitch McConnell and the House and Senate appropriations leads, released a joint statement on Wednesday committing to a plan to approve the legislation before the end of March. \n\"Negotiators have come to an agreement on six bills: Agriculture-FDA, Commerce-Justice and Science, Energy and Water Development, Interior, Military Construction-VA, and Transportation-HUD,\" they said in a statement. \"After preparing final text, this package of six full year Appropriations bills will be voted on and enacted prior to March 8,\" they wrote. \"The remaining six Appropriations bills – Defense, Financial Services and General Government, Homeland Security, Labor-HHS, Legislative Branch, and State and Foreign Operations - will be finalized, voted on, and enacted prior to March 22.\" ",
         "real_news",
         "npr",
         "https://www.npr.org/2024/02/28/1234679367/congress-spending-deal-government-shutdown",
         "2024-02-28 00:00:00"
        ],
        [
         "20",
         "Supporters chant 'We are not afraid' as Russia's Navalny is laid to rest",
         "Thousands of mourners attended the funeral of Russian opposition leader Alexei Navalny on Friday, despite being kept out of the church where only his parents and a handful of others could  gather around the open casket, holding candles and flowers during a religious service. His coffin was quickly closed and people were not allowed to walk past and pay their respects. But outside the Church of the Icon of the Mother of God Soothe My Sorrows in the Maryino district of Moscow, people chanted \"We won't forget you,\" \"Forgive us,\" and \"We are not afraid.\" Navalny died two weeks ago at the age of 47 in an Arctic penal colony under unclear circumstances. He was serving a 30-year sentence on charges of fraud and extremism, accusations his supporters and human rights groups say were trumped up to remove a threat to President Vladimir Putin's hold on power. After the service, giant crowds holding up bouquets of red carnations and roses braved the cold to walk 1.5 miles to the Borisovskoye Cemetery, where large wreaths surrounded the grave into which his casket was lowered to the theme of Terminator 2, which supporters said was his favorite movie. Navalny, a one-time lawyer, spearheaded the most robust opposition movement against Putin since the Russian leader assumed office in late 1999. He orchestrated public demonstrations and released prominent investigations on purported corruption within the ruling class, including a carefully researched exposé of a billion-dollar mansion built for Putin himself, made in a YouTube video viewed over 130 million times. In the days before the funeral, Navalny's supporters and wife expressed doubts it would even be allowed to take place. When Navalny's mother, Lyudmila Navalnaya, identified his body in the Arctic city of Salekhard, she said in a video statement posted to YouTube on Feb. 22 that authorities \"are blackmailing me, they are setting conditions where, when and how my son should be buried,\" and that they wanted a secret burial. When Navalny's mother, Lyudmila Navalnaya, identified his body in the Arctic city of Salekhard, she said in a video statement posted to YouTube on Feb. 22 that authorities \"are blackmailing me, they are setting conditions where, when and how my son should be buried,\" and that they wanted a secret burial. Then, as preparations for Friday's funeral began, funeral homes and hearse drivers allegedly received threats. \"Unknown people are calling up people and threatening them not to take Alexei's body anywhere,\" the spokeswoman for Navalny's team, Kira Yarmysh, said Thursday on social media. The mourners were of all ages and walks of life, and top foreign diplomats came as well, among them the ambassadors to Russia of the United States, France and Germany. Navalny's widow, Yulia Navalnaya, did not attend for fear of immediate arrest. That was the fate of Navalny himself when he returned to Moscow in 2021, after being treated for weeks in Berlin for poisoning with the deadly Novichok nerve agent, in an apparent assassination attempt an investigation revealed likely involved members of the federal security service in Russia. But Yulia Navalnaya paid tribute to her late husband on social media. \"I don't know how to live without you, but I will try my best to make you up there happy for me and proud of me,\" she wrote, thanking him for \"love, for always supporting me, for making me laugh even from prison, for always thinking about me.\" The Kremlin has denied any interest in the funeral or in trying to prevent it from happening. On the day of the funeral, Kremlin spokesman Dmitry Peskov said he had \"nothing to say\" to Navalny's family, and that accusations by his widow, the European Parliament and some Western leaders that the opposition leader was killed were \"vulgar.\" ",
         "real_news",
         "npr",
         "https://www.npr.org/2024/03/01/1235121398/kremlin-russia-navalny-funeral",
         "2024-03-01 00:00:00"
        ],
        [
         "21",
         "Nikki Haley raises $12 million in February as she marches toward Super Tuesday",
         " The former South Carolina governor has yet to win a single nominating contest. But Haley says she's stayed in the primary race in part because large and small donors have encouraged her to. \"They don't ask me what's your strategy, they don't ask me what's your plan,\" Haley said in a conversation with reporters Friday morning. \"All they say is thank you for giving me hope.\" \"We've had fundraisers in every place I've been. No one has said what y'all ask which is how long are you staying in. No one,\" she emphasized. Haley also provided more insight into how the campaign is spending those dollars. \"The accountant in me stretches and stretches and stretches those dollars,\" she said, explaining that the key to her strategy is to treat each dollar like it's her own. Plus: \"we're a lean mean operation. We don't have a ton of staff.\" The $12 million Haley brought in last month is a dip from $16 million in January, which was her largest fundraising month so far. Haley told reporters she is continuing to raise money. ",
         "real_news",
         "npr",
         "https://www.npr.org/2024/03/01/1235215068/nikki-haley-12-million-super-tuesday",
         "2024-03-01 00:00:00"
        ],
        [
         "22",
         "After CBS News Firing, Catherine Herridge Held in Civil Contempt by Obama Judge for Protecting Confidential Sources in FBI Investigation Case",
         "Catherine Herridge, an Emmy-winning and nominated reporter known for her work on national security and intelligence, was held in civil contempt by a federal judge on Thursday for her steadfast refusal to reveal her confidential sources in a case concerning an FBI investigation. U.S. District Court for the District of Columbia Christopher Cooper, an appointee of Barack Obama, imposed a daily fine of $800 on Herridge. This fine, however, will be delayed to allow Herridge the opportunity to appeal the decision. This coercive measure seeks to compel compliance with an order to testify about her sources for a series of stories published six years ago regarding a Chinese American scientist, Yanping Chen.\n In August, Cooper ordered Herridge to sit down for a sworn deposition regarding a confidential source she used for a 2017 story she covered on a Department of Defense-funded school that was at the center of federal investigations over Chinese military ties while she was at Fox News. The judge ordered Herridge to turn over her source(s) in response to a lawsuit that was filed by Chinese-American scientist Yanping Chen against the FBI. Chen subpoenaed Herridge in an effort to find out who her sources were. \nHowever, the Obama judge concluded that Chen’s right to evidence in the lawsuit supersedes the qualified privilege afforded to journalists under the First Amendment. “The Court recognizes both the vital importance of a free press and the critical role that confidential sources play in the work of investigative journalists like Herridge,” Cooper wrote in the ruling in August. “But applying the binding case law of this Circuit, the Court concludes that Chen’s need for the requested evidence overcomes Herridge’s qualified First Amendment privilege in this case.” In his order on Thursday, Cooper warned that his ruling would carry significant consequences for the journalistic community.\n This ruling followed CBS’ decision to seize all files from Catherine Herridge subsequent to her dismissal from the network.\nThis action included materials that may reveal information about confidential sources, according to an article by Jonathan Turley, Shapiro Chair of Public Interest Law at George Washington University, in The Hill.\nIn his article titled “CBS faces uproar after seizing investigative journalist’s files,” Turley sheds light on the concerns that have emerged within the journalistic community at CBS.\nHerridge’s colleagues were alarmed by the company’s unprecedented steps to take possession of her work materials, including sensitive information on sources promised confidentiality. “There is trouble brewing at Black Rock, the headquarters of CBS, after the firing of Catherine Herridge, an acclaimed investigative reporter. Many of us were shocked after Herridge was included in layoffs this month, but those concerns have increased after CBS officials took the unusual step of seizing her files, computers and records, including information on privileged sources.”\nThe seizure of Herridge’s files, which span her impressive career at both CBS and previously at Fox News, has sent a “chilling signal” through the ranks, suggesting a potential crackdown on journalistic freedom and source protection.\nThis week, CBS News has returned ‘several boxes’ containing reporting materials to award-winning journalist Catherine Herridge following an intervention by SAG-AFTRA amidst concerns over press freedom and the protection of confidential sources.\nThe materials were handed back to Herridge at her CBS News office in Washington D.C., with a union representative present to monitor the process. The contents of these boxes, which include files related to confidential sources, are currently under review by Herridge.",
         "fake_news",
         "thegatewaypundit",
         "https://www.thegatewaypundit.com/2024/03/after-cbs-news-firing-catherine-herridge-held-civil/",
         "2024-03-01 00:00:00"
        ],
        [
         "23",
         "Mitch McConnell will step down as Senate minority leader in November",
         "Senate Minority Leader Mitch McConnell will step down as Republican leader in November.\nMcConnell, of Kentucky, announced his plans in an emotional speech on the Senate floor shortly after aides confirmed his plans to reporters. The move gives McConnell an opportunity to influence the process of selecting the next leader of his party in the Senate at a time of intense divisions within the Republican Party.\n\"This will be my last term as Republican leader of the Senate,\" McConnell said, his voice cracking. \"I'm not going anywhere anytime soon, however. I will complete the job my colleagues have given me until we select a new leader in November and they take the helm next January.\" He talked about waiting for a day when he would have total clarity about the end of his work. \"That day arrived today,\" McConnell said. McConnell said he intends to serve out the rest of his Senate term, which ends in 2027 \"I still have enough gas in the tank to thoroughly disappoint my critics, and I intend to do so with all the enthusiasm which they have become accustomed,\" he joked. The Kentucky Republican, 82, had faced questions about his health for several months. Most recently, he abruptly froze and seemed unable to speak during two news conferences, in July and August. In March of last year, he fell during a dinner event at a D.C. hotel and spent five days in the hospital. His office said he received treatment for a concussion and spent about a week in inpatient rehab to also address a \"minor rib fracture.\" McConnell's announcement comes at a time when the base of the Republican Party is increasingly rejecting his brand of conservatism. He has consistently clashed with former President Donald Trump — most forcefully after the Jan. 6, 2021, attack on the Capitol — and Trump has in turn bashed McConnell as the \"establishment.\" In his floor remarks, McConnell noted that he was first elected to office during the \"Reagan Revolution.\" McConnell loudly rejects the isolationism growing within his party's right wing, urging his conference to provide support to foreign allies and be a leader on the global stage. But his urging was not enough to rally support for the bipartisan package that would have paired assistance to countries like Ukraine and Israel with major border policy reforms, after Trump and those in conservative media soured on it. McConnell openly acknowledged the shift within the GOP on foreign policy as he announced his upcoming departure. \"Believe me, I know the politics within my party at this particular moment in time,\" he said. \"I have many faults. Misunderstanding politics is not one of them. \"That said, I believe more strongly than ever that America's global leadership is essential to preserving the shining city on a hill that Ronald Reagan discussed. The Senate passed a security aid package recently with McConnell's aggressive support, but that bill has languished in the House and the fate of funding for Israel and Ukraine remains unclear. President Biden told reporters Wednesday that he was \"sorry to hear\" of McConnell's departure. Biden — who has negotiated with McConnell as both president and vice president and who served with him in the Senate — said the two men have a \"great relationship.\" \"We fight like hell, but he never, never, never misrepresented anything,\" Biden said.\n The men most likely in line to replace McConnell are often referred to as the \"three Johns\": Sens. John Thune of South Dakota, John Cornyn of Texas and John Barrasso of Wyoming. All three have endorsed Trump's reelection campaign — something McConnell has neglected to do. If more than one of them decides to run for leader, it could be the first competitive Senate leadership election since the early 1990s. Sen. Rick Scott, R-Fla., challenged McConnell for leader after the 2022 midterm elections. So far, Scott has not said whether he intends to vie for the position again. During his tenure as the longest-serving Senate GOP leader, McConnell has helped reshape the federal judiciary and the chamber itself. He is a frequent antagonist to Democratic presidents. First elected to the Senate in 1984, McConnell was soon driven by a singular political ambition to become majority leader. A cunning tactician, he worked his way up the ladder, serving as Senate campaign chair and party whip before being elected minority leader in 2007. McConnell became majority leader after Republicans won control of the Senate in 2014, 30 years after he was first elected to the chamber. McConnell entered politics toward the liberal side of the Republican Party, supporting abortion rights and union labor, but his politics shifted right under President Ronald Reagan — eventually landing him squarely as a hero of the conservative cause.\n Nowhere was that more evident than the federal bench. McConnell led the successful effort to keep Supreme Court Justice Antonin Scalia's seat vacant after his sudden death in February 2016, denying President Barack Obama's appointee, Merrick Garland, a single hearing. That decision helped Trump secure the White House, propelling white evangelicals to show up for him in higher numbers after he publicly pledged to fill the seat with a conservative. Trump went on to fill that seat with Justice Neil Gorsuch and appointed two more Supreme Court justices during his four years in office. McConnell told The New York Times in 2019 that the Garland decision was \"the most consequential thing I've ever done.\" But McConnell's influence extends beyond the high court. During Trump's four years in office, McConnell worked to push through as many conservative judicial nominations as possible while a Republican was in the White House. All told, McConnell helped guide 234 Trump-appointed judicial nominees to the bench in four years, shifting the balance of the judiciary toward conservatives for likely the next generation. ",
         "real_news",
         "npr",
         "https://www.npr.org/2024/02/28/1163447619/mitch-mcconnell-steps-down",
         "2024-02-28 00:00:00"
        ],
        [
         "24",
         "NYC Woman Nabbed After Attack on Subway Cellist Is Released Without Bail",
         "A suspect with a criminal history was caught Wednesday after being accused of attacking a cellist playing in the New York City subway.\nHowever, the 23 year old suspect identified as Amira Hunter was freed on Thursday, the New York Post reported. Hunter is accused of recently hitting musician Iain S. Forrest in the head with a bottle as he played his cello at the Union Square station. Due to the incident, Forrest suspended his performances “indefinitely,” according to Breitbart News.\nVideo footage shows the incident unfold: In regard to the suspect, the Post article said “At her arraignment Thursday on second-degree assault charges, Manhattan prosecutors argued for $15,000 cash bail or $45,000 bond, noting that Hunter has failed to appear at three of her five court dates in other criminal cases last year.”\nProsecutor Alexandra Robertson explained to Judge Marva Brown that it was not likely the suspect would come back to court of her own volition.  According to the Post, the young woman had a bench warrant out for her arrest in a pair of cases linked to petit larceny.\n“Her last arrest was in October on grand larceny charges for allegedly stealing two bathing suits worth $2,050 from Bergdorf Goodman, sources said,” the outlet continued, noting law enforcement reportedly previously arrested her two times for assaulting her mother.\nHowever, Brown cut Hunter loose on supervised release. The Post noted the decision came even after Manhattan District Attorney Alvin Bragg’s (D) office wanted the suspect jailed.\nCBS New York reported February 23 that crime in the city’s transit system had risen 18 percent this year compared to 2023: Per the Post, the cellist is part of the MTA’s Music Under New York program. In addition, he helped create the coalition dubbed Subway Performers Advocacy Group that pushes for more security around musicians. “NYC is practically lawless now. It is as if it were competing with SF or Chicago to see how bad things can get,” another user commented.\nSocial media users shared their thoughts on the Post article, one person writing, “You get what you vote for.” ",
         "fake_news",
         "breitbart",
         "https://www.breitbart.com/crime/2024/03/01/nyc-woman-nabbed-after-attack-on-subway-cellist-is-released-without-bail/",
         "2024-03-01 00:00:00"
        ]
       ],
       "shape": {
        "columns": 6,
        "rows": 25
       }
      },
      "text/html": [
       "<div>\n",
       "<style scoped>\n",
       "    .dataframe tbody tr th:only-of-type {\n",
       "        vertical-align: middle;\n",
       "    }\n",
       "\n",
       "    .dataframe tbody tr th {\n",
       "        vertical-align: top;\n",
       "    }\n",
       "\n",
       "    .dataframe thead th {\n",
       "        text-align: right;\n",
       "    }\n",
       "</style>\n",
       "<table border=\"1\" class=\"dataframe\">\n",
       "  <thead>\n",
       "    <tr style=\"text-align: right;\">\n",
       "      <th></th>\n",
       "      <th>title</th>\n",
       "      <th>text</th>\n",
       "      <th>label</th>\n",
       "      <th>source</th>\n",
       "      <th>url</th>\n",
       "      <th>date</th>\n",
       "    </tr>\n",
       "  </thead>\n",
       "  <tbody>\n",
       "    <tr>\n",
       "      <th>0</th>\n",
       "      <td>Exclusive: Former Biden Aide Paid Fani Willis’...</td>\n",
       "      <td>The money flow is significant because sources ...</td>\n",
       "      <td>fake_news</td>\n",
       "      <td>breitbart</td>\n",
       "      <td>https://www.breitbart.com/politics/2024/02/29/...</td>\n",
       "      <td>2024-02-29</td>\n",
       "    </tr>\n",
       "    <tr>\n",
       "      <th>1</th>\n",
       "      <td>Judges in Trump-related cases face unprecedent...</td>\n",
       "      <td>U.S.District Judge Royce Lamberth has been thr...</td>\n",
       "      <td>real_news</td>\n",
       "      <td>reuters</td>\n",
       "      <td>https://www.reuters.com/investigates/special-r...</td>\n",
       "      <td>2024-02-29</td>\n",
       "    </tr>\n",
       "    <tr>\n",
       "      <th>2</th>\n",
       "      <td>Meet the Experienced Democrat Operative the Bi...</td>\n",
       "      <td>The Biden regime’s collusion with corrupt Fult...</td>\n",
       "      <td>fake_news</td>\n",
       "      <td>thegatewaypundit</td>\n",
       "      <td>https://www.thegatewaypundit.com/2024/02/meet-...</td>\n",
       "      <td>2024-02-26</td>\n",
       "    </tr>\n",
       "    <tr>\n",
       "      <th>3</th>\n",
       "      <td>Biden pressures Trump to unblock migrant plan ...</td>\n",
       "      <td>U.S. President Joe Biden and Donald Trump, his...</td>\n",
       "      <td>real_news</td>\n",
       "      <td>reuters</td>\n",
       "      <td>https://www.reuters.com/world/us/biden-trump-m...</td>\n",
       "      <td>2024-02-29</td>\n",
       "    </tr>\n",
       "    <tr>\n",
       "      <th>4</th>\n",
       "      <td>Biden and Trump’s dueling border visits will e...</td>\n",
       "      <td>Two presidents will visit the southern US bord...</td>\n",
       "      <td>real_news</td>\n",
       "      <td>cnn</td>\n",
       "      <td>https://www.cnn.com/2024/02/29/politics/border...</td>\n",
       "      <td>2024-02-29</td>\n",
       "    </tr>\n",
       "    <tr>\n",
       "      <th>5</th>\n",
       "      <td>WOW! Biden’s Stiff Gait as He Shuffles Along D...</td>\n",
       "      <td>Joe Biden arrived in Brownsville, Texas on Thu...</td>\n",
       "      <td>fake_news</td>\n",
       "      <td>thegatewaypundit</td>\n",
       "      <td>https://www.thegatewaypundit.com/2024/02/wow-b...</td>\n",
       "      <td>2024-02-29</td>\n",
       "    </tr>\n",
       "    <tr>\n",
       "      <th>6</th>\n",
       "      <td>Biden has eight months to fix his Michigan pro...</td>\n",
       "      <td>If the Democratic voters of Michigan – and a h...</td>\n",
       "      <td>real_news</td>\n",
       "      <td>cnn</td>\n",
       "      <td>https://www.cnn.com/2024/02/28/politics/biden-...</td>\n",
       "      <td>2024-02-28</td>\n",
       "    </tr>\n",
       "    <tr>\n",
       "      <th>7</th>\n",
       "      <td>Some Democrats turn toward Trump in Texas bord...</td>\n",
       "      <td>Asalia Casares, 52, is a lifelong Democrat who...</td>\n",
       "      <td>real_news</td>\n",
       "      <td>reuters</td>\n",
       "      <td>https://www.reuters.com/world/us/some-democrat...</td>\n",
       "      <td>2024-02-29</td>\n",
       "    </tr>\n",
       "    <tr>\n",
       "      <th>8</th>\n",
       "      <td>WAYNE ROOT: “Do You Believe in Miracles?” Some...</td>\n",
       "      <td>“Do you believe in miracles?” Remember those w...</td>\n",
       "      <td>fake_news</td>\n",
       "      <td>thegatewaypundit</td>\n",
       "      <td>https://www.thegatewaypundit.com/2024/02/wayne...</td>\n",
       "      <td>2024-02-29</td>\n",
       "    </tr>\n",
       "    <tr>\n",
       "      <th>9</th>\n",
       "      <td>Trump says he cannot get fair trial this year ...</td>\n",
       "      <td>Donald Trump's lawyers told a U.S. judge on Th...</td>\n",
       "      <td>real_news</td>\n",
       "      <td>reuters</td>\n",
       "      <td>https://www.reuters.com/world/us/trump-asks-de...</td>\n",
       "      <td>2024-02-29</td>\n",
       "    </tr>\n",
       "    <tr>\n",
       "      <th>10</th>\n",
       "      <td>UN chief says Gaza killing could require indep...</td>\n",
       "      <td>United Nations Secretary-General Antonio Guter...</td>\n",
       "      <td>real_news</td>\n",
       "      <td>reuters</td>\n",
       "      <td>https://www.reuters.com/world/middle-east/un-c...</td>\n",
       "      <td>2024-03-01</td>\n",
       "    </tr>\n",
       "    <tr>\n",
       "      <th>11</th>\n",
       "      <td>Kamala Harris Called Out on Twitter/X After Pr...</td>\n",
       "      <td>Kamala Harris recently took to Twitter and hea...</td>\n",
       "      <td>fake_news</td>\n",
       "      <td>thegatewaypundit</td>\n",
       "      <td>https://www.thegatewaypundit.com/2024/02/kamal...</td>\n",
       "      <td>2024-02-29</td>\n",
       "    </tr>\n",
       "    <tr>\n",
       "      <th>12</th>\n",
       "      <td>Liberal Hollywood Celebs Are Throwing a Fit Ov...</td>\n",
       "      <td>As you probably know, the United States Suprem...</td>\n",
       "      <td>fake_news</td>\n",
       "      <td>thegatewaypundit</td>\n",
       "      <td>https://www.thegatewaypundit.com/2024/02/liber...</td>\n",
       "      <td>2024-02-29</td>\n",
       "    </tr>\n",
       "    <tr>\n",
       "      <th>13</th>\n",
       "      <td>Republican-controlled Alabama legislature pass...</td>\n",
       "      <td>Alabama's Republican-led legislature on Thursd...</td>\n",
       "      <td>real_news</td>\n",
       "      <td>reuters</td>\n",
       "      <td>https://www.reuters.com/world/us/republican-co...</td>\n",
       "      <td>2024-02-29</td>\n",
       "    </tr>\n",
       "    <tr>\n",
       "      <th>14</th>\n",
       "      <td>US Supreme Court's move to hear Trump's immuni...</td>\n",
       "      <td>The U.S. Supreme Court appears likely to rejec...</td>\n",
       "      <td>real_news</td>\n",
       "      <td>reuters</td>\n",
       "      <td>https://www.reuters.com/world/us/us-supreme-co...</td>\n",
       "      <td>2024-02-29</td>\n",
       "    </tr>\n",
       "    <tr>\n",
       "      <th>15</th>\n",
       "      <td>DeSantis Signs Bill That Authorizes Release of...</td>\n",
       "      <td>On Thursday, Florida Gov. Ron DeSantis signed ...</td>\n",
       "      <td>fake_news</td>\n",
       "      <td>thegatewaypundit</td>\n",
       "      <td>https://www.thegatewaypundit.com/2024/02/desan...</td>\n",
       "      <td>2024-02-29</td>\n",
       "    </tr>\n",
       "    <tr>\n",
       "      <th>16</th>\n",
       "      <td>Fmr. Biden Border Patrol Chief: ‘I Never Once ...</td>\n",
       "      <td>On Thursday’s broadcast of the Fox News Channe...</td>\n",
       "      <td>fake_news</td>\n",
       "      <td>breitbart</td>\n",
       "      <td>https://www.breitbart.com/clips/2024/02/29/fmr...</td>\n",
       "      <td>2024-02-29</td>\n",
       "    </tr>\n",
       "    <tr>\n",
       "      <th>17</th>\n",
       "      <td>Trump at Texas Border: ‘This is a Joe Biden In...</td>\n",
       "      <td>Former President Donald J. Trump visited the s...</td>\n",
       "      <td>fake_news</td>\n",
       "      <td>breitbart</td>\n",
       "      <td>https://www.breitbart.com/border/2024/02/29/tr...</td>\n",
       "      <td>2024-02-29</td>\n",
       "    </tr>\n",
       "    <tr>\n",
       "      <th>18</th>\n",
       "      <td>Exclusive — House Majority Whip Tom Emmer: Joe...</td>\n",
       "      <td>House Majority Whip Tom Emmer (R-MN) told Brei...</td>\n",
       "      <td>fake_news</td>\n",
       "      <td>breitbart</td>\n",
       "      <td>https://www.breitbart.com/politics/2024/02/29/...</td>\n",
       "      <td>2024-02-29</td>\n",
       "    </tr>\n",
       "    <tr>\n",
       "      <th>19</th>\n",
       "      <td>Congress passes stopgap spending bill, prevent...</td>\n",
       "      <td>The Senate voted 77 to 13 to approve a short-t...</td>\n",
       "      <td>real_news</td>\n",
       "      <td>npr</td>\n",
       "      <td>https://www.npr.org/2024/02/28/1234679367/cong...</td>\n",
       "      <td>2024-02-28</td>\n",
       "    </tr>\n",
       "    <tr>\n",
       "      <th>20</th>\n",
       "      <td>Supporters chant 'We are not afraid' as Russia...</td>\n",
       "      <td>Thousands of mourners attended the funeral of ...</td>\n",
       "      <td>real_news</td>\n",
       "      <td>npr</td>\n",
       "      <td>https://www.npr.org/2024/03/01/1235121398/krem...</td>\n",
       "      <td>2024-03-01</td>\n",
       "    </tr>\n",
       "    <tr>\n",
       "      <th>21</th>\n",
       "      <td>Nikki Haley raises $12 million in February as ...</td>\n",
       "      <td>The former South Carolina governor has yet to...</td>\n",
       "      <td>real_news</td>\n",
       "      <td>npr</td>\n",
       "      <td>https://www.npr.org/2024/03/01/1235215068/nikk...</td>\n",
       "      <td>2024-03-01</td>\n",
       "    </tr>\n",
       "    <tr>\n",
       "      <th>22</th>\n",
       "      <td>After CBS News Firing, Catherine Herridge Held...</td>\n",
       "      <td>Catherine Herridge, an Emmy-winning and nomina...</td>\n",
       "      <td>fake_news</td>\n",
       "      <td>thegatewaypundit</td>\n",
       "      <td>https://www.thegatewaypundit.com/2024/03/after...</td>\n",
       "      <td>2024-03-01</td>\n",
       "    </tr>\n",
       "    <tr>\n",
       "      <th>23</th>\n",
       "      <td>Mitch McConnell will step down as Senate minor...</td>\n",
       "      <td>Senate Minority Leader Mitch McConnell will st...</td>\n",
       "      <td>real_news</td>\n",
       "      <td>npr</td>\n",
       "      <td>https://www.npr.org/2024/02/28/1163447619/mitc...</td>\n",
       "      <td>2024-02-28</td>\n",
       "    </tr>\n",
       "    <tr>\n",
       "      <th>24</th>\n",
       "      <td>NYC Woman Nabbed After Attack on Subway Cellis...</td>\n",
       "      <td>A suspect with a criminal history was caught W...</td>\n",
       "      <td>fake_news</td>\n",
       "      <td>breitbart</td>\n",
       "      <td>https://www.breitbart.com/crime/2024/03/01/nyc...</td>\n",
       "      <td>2024-03-01</td>\n",
       "    </tr>\n",
       "  </tbody>\n",
       "</table>\n",
       "</div>"
      ],
      "text/plain": [
       "                                                title  \\\n",
       "0   Exclusive: Former Biden Aide Paid Fani Willis’...   \n",
       "1   Judges in Trump-related cases face unprecedent...   \n",
       "2   Meet the Experienced Democrat Operative the Bi...   \n",
       "3   Biden pressures Trump to unblock migrant plan ...   \n",
       "4   Biden and Trump’s dueling border visits will e...   \n",
       "5   WOW! Biden’s Stiff Gait as He Shuffles Along D...   \n",
       "6   Biden has eight months to fix his Michigan pro...   \n",
       "7   Some Democrats turn toward Trump in Texas bord...   \n",
       "8   WAYNE ROOT: “Do You Believe in Miracles?” Some...   \n",
       "9   Trump says he cannot get fair trial this year ...   \n",
       "10  UN chief says Gaza killing could require indep...   \n",
       "11  Kamala Harris Called Out on Twitter/X After Pr...   \n",
       "12  Liberal Hollywood Celebs Are Throwing a Fit Ov...   \n",
       "13  Republican-controlled Alabama legislature pass...   \n",
       "14  US Supreme Court's move to hear Trump's immuni...   \n",
       "15  DeSantis Signs Bill That Authorizes Release of...   \n",
       "16  Fmr. Biden Border Patrol Chief: ‘I Never Once ...   \n",
       "17  Trump at Texas Border: ‘This is a Joe Biden In...   \n",
       "18  Exclusive — House Majority Whip Tom Emmer: Joe...   \n",
       "19  Congress passes stopgap spending bill, prevent...   \n",
       "20  Supporters chant 'We are not afraid' as Russia...   \n",
       "21  Nikki Haley raises $12 million in February as ...   \n",
       "22  After CBS News Firing, Catherine Herridge Held...   \n",
       "23  Mitch McConnell will step down as Senate minor...   \n",
       "24  NYC Woman Nabbed After Attack on Subway Cellis...   \n",
       "\n",
       "                                                 text      label  \\\n",
       "0   The money flow is significant because sources ...  fake_news   \n",
       "1   U.S.District Judge Royce Lamberth has been thr...  real_news   \n",
       "2   The Biden regime’s collusion with corrupt Fult...  fake_news   \n",
       "3   U.S. President Joe Biden and Donald Trump, his...  real_news   \n",
       "4   Two presidents will visit the southern US bord...  real_news   \n",
       "5   Joe Biden arrived in Brownsville, Texas on Thu...  fake_news   \n",
       "6   If the Democratic voters of Michigan – and a h...  real_news   \n",
       "7   Asalia Casares, 52, is a lifelong Democrat who...  real_news   \n",
       "8   “Do you believe in miracles?” Remember those w...  fake_news   \n",
       "9   Donald Trump's lawyers told a U.S. judge on Th...  real_news   \n",
       "10  United Nations Secretary-General Antonio Guter...  real_news   \n",
       "11  Kamala Harris recently took to Twitter and hea...  fake_news   \n",
       "12  As you probably know, the United States Suprem...  fake_news   \n",
       "13  Alabama's Republican-led legislature on Thursd...  real_news   \n",
       "14  The U.S. Supreme Court appears likely to rejec...  real_news   \n",
       "15  On Thursday, Florida Gov. Ron DeSantis signed ...  fake_news   \n",
       "16  On Thursday’s broadcast of the Fox News Channe...  fake_news   \n",
       "17  Former President Donald J. Trump visited the s...  fake_news   \n",
       "18  House Majority Whip Tom Emmer (R-MN) told Brei...  fake_news   \n",
       "19  The Senate voted 77 to 13 to approve a short-t...  real_news   \n",
       "20  Thousands of mourners attended the funeral of ...  real_news   \n",
       "21   The former South Carolina governor has yet to...  real_news   \n",
       "22  Catherine Herridge, an Emmy-winning and nomina...  fake_news   \n",
       "23  Senate Minority Leader Mitch McConnell will st...  real_news   \n",
       "24  A suspect with a criminal history was caught W...  fake_news   \n",
       "\n",
       "              source                                                url  \\\n",
       "0          breitbart  https://www.breitbart.com/politics/2024/02/29/...   \n",
       "1            reuters  https://www.reuters.com/investigates/special-r...   \n",
       "2   thegatewaypundit  https://www.thegatewaypundit.com/2024/02/meet-...   \n",
       "3            reuters  https://www.reuters.com/world/us/biden-trump-m...   \n",
       "4                cnn  https://www.cnn.com/2024/02/29/politics/border...   \n",
       "5   thegatewaypundit  https://www.thegatewaypundit.com/2024/02/wow-b...   \n",
       "6                cnn  https://www.cnn.com/2024/02/28/politics/biden-...   \n",
       "7            reuters  https://www.reuters.com/world/us/some-democrat...   \n",
       "8   thegatewaypundit  https://www.thegatewaypundit.com/2024/02/wayne...   \n",
       "9            reuters  https://www.reuters.com/world/us/trump-asks-de...   \n",
       "10           reuters  https://www.reuters.com/world/middle-east/un-c...   \n",
       "11  thegatewaypundit  https://www.thegatewaypundit.com/2024/02/kamal...   \n",
       "12  thegatewaypundit  https://www.thegatewaypundit.com/2024/02/liber...   \n",
       "13           reuters  https://www.reuters.com/world/us/republican-co...   \n",
       "14           reuters  https://www.reuters.com/world/us/us-supreme-co...   \n",
       "15  thegatewaypundit  https://www.thegatewaypundit.com/2024/02/desan...   \n",
       "16         breitbart  https://www.breitbart.com/clips/2024/02/29/fmr...   \n",
       "17         breitbart  https://www.breitbart.com/border/2024/02/29/tr...   \n",
       "18         breitbart  https://www.breitbart.com/politics/2024/02/29/...   \n",
       "19               npr  https://www.npr.org/2024/02/28/1234679367/cong...   \n",
       "20               npr  https://www.npr.org/2024/03/01/1235121398/krem...   \n",
       "21               npr  https://www.npr.org/2024/03/01/1235215068/nikk...   \n",
       "22  thegatewaypundit  https://www.thegatewaypundit.com/2024/03/after...   \n",
       "23               npr  https://www.npr.org/2024/02/28/1163447619/mitc...   \n",
       "24         breitbart  https://www.breitbart.com/crime/2024/03/01/nyc...   \n",
       "\n",
       "         date  \n",
       "0  2024-02-29  \n",
       "1  2024-02-29  \n",
       "2  2024-02-26  \n",
       "3  2024-02-29  \n",
       "4  2024-02-29  \n",
       "5  2024-02-29  \n",
       "6  2024-02-28  \n",
       "7  2024-02-29  \n",
       "8  2024-02-29  \n",
       "9  2024-02-29  \n",
       "10 2024-03-01  \n",
       "11 2024-02-29  \n",
       "12 2024-02-29  \n",
       "13 2024-02-29  \n",
       "14 2024-02-29  \n",
       "15 2024-02-29  \n",
       "16 2024-02-29  \n",
       "17 2024-02-29  \n",
       "18 2024-02-29  \n",
       "19 2024-02-28  \n",
       "20 2024-03-01  \n",
       "21 2024-03-01  \n",
       "22 2024-03-01  \n",
       "23 2024-02-28  \n",
       "24 2024-03-01  "
      ]
     },
     "execution_count": 47,
     "metadata": {},
     "output_type": "execute_result"
    }
   ],
   "source": [
    "test = pd.read_csv('../Data/test_set_Feb29_2024.csv', parse_dates=['date'])\n",
    "test"
   ]
  },
  {
   "cell_type": "code",
   "execution_count": 48,
   "metadata": {},
   "outputs": [],
   "source": [
    "test['char_count_text'] = test['text'].str.len()\n",
    "test['word_count_text'] = test['text'].str.split().str.len()\n",
    "test['avg_word_length_text'] = test['char_count_text']/test['word_count_text']\n",
    "\n",
    "test['char_count_title'] = test['title'].str.len()\n",
    "test['word_count_title'] = test['title'].str.split().str.len()\n",
    "test['avg_word_length_title'] = test['char_count_title']/test['word_count_title']\n",
    "\n",
    "test['year'] = test['date'].dt.year\n",
    "test['month'] = test['date'].dt.month\n",
    "test['day'] = test['date'].dt.day\n",
    "test['day_of_week'] = test['date'].dt.weekday"
   ]
  },
  {
   "cell_type": "code",
   "execution_count": 49,
   "metadata": {},
   "outputs": [],
   "source": [
    "test['election_day'] = pd.to_datetime(\"2024-11-05\")\n",
    "test['days_to_election'] = (test['date'] - test['election_day']).dt.days"
   ]
  },
  {
   "cell_type": "code",
   "execution_count": 50,
   "metadata": {},
   "outputs": [],
   "source": [
    "test['month'] = test['month'].map({1:'Jan', 2:'Feb', 3:'Mar', 4:'Apr', 5:'May', 6:'Jun',\\\n",
    "                                  7:'Jul', 8:'Aug', 9:'Sept', 10:'Oct', 11:'Nov', 12:'Dec'})\n",
    "test['day_of_week'] = test['day_of_week'].map({0:'Monday', 1:'Tuesday', 2:'Wednesday', 3:'Thursday', 4:'Friday',\\\n",
    "                                               5:'Saturday', 6:'Sunday'})\n",
    "test['label'] = test['label'].map({\"real_news\":0, \"fake_news\":1})"
   ]
  },
  {
   "cell_type": "markdown",
   "metadata": {},
   "source": [
    "### 3.3.2 Test_1 "
   ]
  },
  {
   "cell_type": "code",
   "execution_count": 51,
   "metadata": {},
   "outputs": [],
   "source": [
    "X_test = test[['text', 'char_count_text', 'word_count_text', 'avg_word_length_text', \n",
    "               'char_count_title', 'word_count_title', 'avg_word_length_title', \n",
    "               'year', 'month', 'day', 'day_of_week', 'days_to_election']]\n",
    "y_test = test.label"
   ]
  },
  {
   "cell_type": "code",
   "execution_count": 52,
   "metadata": {},
   "outputs": [],
   "source": [
    "y_test_pred = xgb_pipeline.predict(X_test)\n",
    "test_accuracy = metrics.accuracy_score(y_test, y_test_pred)\n",
    "test_recall = metrics.recall_score(y_test, y_test_pred)\n",
    "test_precision = metrics.precision_score(y_test, y_test_pred)\n",
    "test_f1 = metrics.f1_score(y_test, y_test_pred)"
   ]
  },
  {
   "cell_type": "code",
   "execution_count": 53,
   "metadata": {},
   "outputs": [
    {
     "name": "stdout",
     "output_type": "stream",
     "text": [
      "The test set accuracy is 0.84\n",
      "The test set recall score is 0.917\n",
      "The test set precision score is 0.786\n",
      "The test set f1 score is 0.846\n"
     ]
    }
   ],
   "source": [
    "print(f\"The test set accuracy is {round(test_accuracy,3)}\")\n",
    "print(f\"The test set recall score is {round(test_recall,3)}\")\n",
    "print(f\"The test set precision score is {round(test_precision,3)}\")\n",
    "print(f\"The test set f1 score is {round(test_f1,3)}\")"
   ]
  },
  {
   "cell_type": "code",
   "execution_count": 54,
   "metadata": {},
   "outputs": [
    {
     "data": {
      "image/png": "[encoded data removed]",
      "text/plain": [
       "<Figure size 640x480 with 2 Axes>"
      ]
     },
     "metadata": {},
     "output_type": "display_data"
    }
   ],
   "source": [
    "cm = metrics.confusion_matrix(y_test, y_test_pred, labels = xgb_pipeline.classes_)\n",
    "fig, ax = plt.subplots()\n",
    "display_cm = metrics.ConfusionMatrixDisplay(confusion_matrix = cm, \n",
    "                                    display_labels = ['Real_news','Fake_news'])\n",
    "\n",
    "ax.set_xticks([0, 1])\n",
    "ax.set_yticks([0, 1])\n",
    "ax.set_xticklabels(labels = ['Real_news','Fake_news'], fontsize = 12)\n",
    "ax.set_yticklabels(labels = ['Real_news','Fake_news'], fontsize = 12)\n",
    "\n",
    "display_cm.plot(ax = ax)\n",
    "plt.show()"
   ]
  },
  {
   "cell_type": "code",
   "execution_count": 55,
   "metadata": {},
   "outputs": [],
   "source": [
    "result = dict(Test_Accuracy=round(test_accuracy,3), Test_Recall=round(test_recall,3), Test_Precision=round(test_precision,3),\\\n",
    "             Test_F1=round(test_f1,3))\n",
    "\n",
    "hyperparameter_table[3].update(result)"
   ]
  },
  {
   "cell_type": "code",
   "execution_count": 56,
   "metadata": {},
   "outputs": [
    {
     "data": {
      "application/vnd.microsoft.datawrangler.viewer.v0+json": {
       "columns": [
        {
         "name": "index",
         "rawType": "int64",
         "type": "integer"
        },
        {
         "name": "Exp",
         "rawType": "object",
         "type": "string"
        },
        {
         "name": "Model_Name",
         "rawType": "object",
         "type": "string"
        },
        {
         "name": "Features",
         "rawType": "object",
         "type": "string"
        },
        {
         "name": "Scale",
         "rawType": "object",
         "type": "string"
        },
        {
         "name": "Vectorizer",
         "rawType": "object",
         "type": "string"
        },
        {
         "name": "Train_Accuracy",
         "rawType": "float64",
         "type": "float"
        },
        {
         "name": "Val_Accuracy",
         "rawType": "float64",
         "type": "float"
        },
        {
         "name": "Val_Recall",
         "rawType": "float64",
         "type": "float"
        },
        {
         "name": "Val_Precision",
         "rawType": "float64",
         "type": "float"
        },
        {
         "name": "Val_F1",
         "rawType": "float64",
         "type": "float"
        },
        {
         "name": "Test_Accuracy",
         "rawType": "float64",
         "type": "float"
        },
        {
         "name": "Test_Recall",
         "rawType": "float64",
         "type": "float"
        },
        {
         "name": "Test_Precision",
         "rawType": "float64",
         "type": "float"
        },
        {
         "name": "Test_F1",
         "rawType": "float64",
         "type": "float"
        }
       ],
       "ref": "68254ee2-d63d-45c0-a030-e627377d741b",
       "rows": [
        [
         "0",
         "1_Hybrid",
         "Logistic Regression (Pipeline)",
         "Text+Meta",
         "StandardScaler",
         "CountVectorizer",
         "0.999",
         "0.981",
         "0.976",
         "0.982",
         "0.979",
         null,
         null,
         null,
         null
        ],
        [
         "1",
         "2_Hybrid",
         "Random Forest (Pipeline)",
         "Text+Meta",
         "StandardScaler",
         "CountVectorizer",
         "1.0",
         "0.972",
         "0.957",
         "0.98",
         "0.968",
         null,
         null,
         null,
         null
        ],
        [
         "2",
         "3_Hybrid",
         "Gradient Boost (Pipeline)",
         "Text+Meta",
         "StandardScaler",
         "CountVectorizer",
         "0.976",
         "0.971",
         "0.957",
         "0.978",
         "0.967",
         null,
         null,
         null,
         null
        ],
        [
         "3",
         "4_Hybrid",
         "XGboost (Pipeline)",
         "Text+Meta",
         "StandardScaler",
         "CountVectorizer",
         "0.999",
         "0.987",
         "0.983",
         "0.989",
         "0.986",
         "0.84",
         "0.917",
         "0.786",
         "0.846"
        ]
       ],
       "shape": {
        "columns": 14,
        "rows": 4
       }
      },
      "text/html": [
       "<div>\n",
       "<style scoped>\n",
       "    .dataframe tbody tr th:only-of-type {\n",
       "        vertical-align: middle;\n",
       "    }\n",
       "\n",
       "    .dataframe tbody tr th {\n",
       "        vertical-align: top;\n",
       "    }\n",
       "\n",
       "    .dataframe thead th {\n",
       "        text-align: right;\n",
       "    }\n",
       "</style>\n",
       "<table border=\"1\" class=\"dataframe\">\n",
       "  <thead>\n",
       "    <tr style=\"text-align: right;\">\n",
       "      <th></th>\n",
       "      <th>Exp</th>\n",
       "      <th>Model_Name</th>\n",
       "      <th>Features</th>\n",
       "      <th>Scale</th>\n",
       "      <th>Vectorizer</th>\n",
       "      <th>Train_Accuracy</th>\n",
       "      <th>Val_Accuracy</th>\n",
       "      <th>Val_Recall</th>\n",
       "      <th>Val_Precision</th>\n",
       "      <th>Val_F1</th>\n",
       "      <th>Test_Accuracy</th>\n",
       "      <th>Test_Recall</th>\n",
       "      <th>Test_Precision</th>\n",
       "      <th>Test_F1</th>\n",
       "    </tr>\n",
       "  </thead>\n",
       "  <tbody>\n",
       "    <tr>\n",
       "      <th>0</th>\n",
       "      <td>1_Hybrid</td>\n",
       "      <td>Logistic Regression (Pipeline)</td>\n",
       "      <td>Text+Meta</td>\n",
       "      <td>StandardScaler</td>\n",
       "      <td>CountVectorizer</td>\n",
       "      <td>0.999</td>\n",
       "      <td>0.981</td>\n",
       "      <td>0.976</td>\n",
       "      <td>0.982</td>\n",
       "      <td>0.979</td>\n",
       "      <td>NaN</td>\n",
       "      <td>NaN</td>\n",
       "      <td>NaN</td>\n",
       "      <td>NaN</td>\n",
       "    </tr>\n",
       "    <tr>\n",
       "      <th>1</th>\n",
       "      <td>2_Hybrid</td>\n",
       "      <td>Random Forest (Pipeline)</td>\n",
       "      <td>Text+Meta</td>\n",
       "      <td>StandardScaler</td>\n",
       "      <td>CountVectorizer</td>\n",
       "      <td>1.000</td>\n",
       "      <td>0.972</td>\n",
       "      <td>0.957</td>\n",
       "      <td>0.980</td>\n",
       "      <td>0.968</td>\n",
       "      <td>NaN</td>\n",
       "      <td>NaN</td>\n",
       "      <td>NaN</td>\n",
       "      <td>NaN</td>\n",
       "    </tr>\n",
       "    <tr>\n",
       "      <th>2</th>\n",
       "      <td>3_Hybrid</td>\n",
       "      <td>Gradient Boost (Pipeline)</td>\n",
       "      <td>Text+Meta</td>\n",
       "      <td>StandardScaler</td>\n",
       "      <td>CountVectorizer</td>\n",
       "      <td>0.976</td>\n",
       "      <td>0.971</td>\n",
       "      <td>0.957</td>\n",
       "      <td>0.978</td>\n",
       "      <td>0.967</td>\n",
       "      <td>NaN</td>\n",
       "      <td>NaN</td>\n",
       "      <td>NaN</td>\n",
       "      <td>NaN</td>\n",
       "    </tr>\n",
       "    <tr>\n",
       "      <th>3</th>\n",
       "      <td>4_Hybrid</td>\n",
       "      <td>XGboost (Pipeline)</td>\n",
       "      <td>Text+Meta</td>\n",
       "      <td>StandardScaler</td>\n",
       "      <td>CountVectorizer</td>\n",
       "      <td>0.999</td>\n",
       "      <td>0.987</td>\n",
       "      <td>0.983</td>\n",
       "      <td>0.989</td>\n",
       "      <td>0.986</td>\n",
       "      <td>0.84</td>\n",
       "      <td>0.917</td>\n",
       "      <td>0.786</td>\n",
       "      <td>0.846</td>\n",
       "    </tr>\n",
       "  </tbody>\n",
       "</table>\n",
       "</div>"
      ],
      "text/plain": [
       "        Exp                      Model_Name   Features           Scale  \\\n",
       "0  1_Hybrid  Logistic Regression (Pipeline)  Text+Meta  StandardScaler   \n",
       "1  2_Hybrid        Random Forest (Pipeline)  Text+Meta  StandardScaler   \n",
       "2  3_Hybrid       Gradient Boost (Pipeline)  Text+Meta  StandardScaler   \n",
       "3  4_Hybrid              XGboost (Pipeline)  Text+Meta  StandardScaler   \n",
       "\n",
       "        Vectorizer  Train_Accuracy  Val_Accuracy  Val_Recall  Val_Precision  \\\n",
       "0  CountVectorizer           0.999         0.981       0.976          0.982   \n",
       "1  CountVectorizer           1.000         0.972       0.957          0.980   \n",
       "2  CountVectorizer           0.976         0.971       0.957          0.978   \n",
       "3  CountVectorizer           0.999         0.987       0.983          0.989   \n",
       "\n",
       "   Val_F1  Test_Accuracy  Test_Recall  Test_Precision  Test_F1  \n",
       "0   0.979            NaN          NaN             NaN      NaN  \n",
       "1   0.968            NaN          NaN             NaN      NaN  \n",
       "2   0.967            NaN          NaN             NaN      NaN  \n",
       "3   0.986           0.84        0.917           0.786    0.846  "
      ]
     },
     "execution_count": 56,
     "metadata": {},
     "output_type": "execute_result"
    }
   ],
   "source": [
    "pd.DataFrame(hyperparameter_table)"
   ]
  },
  {
   "cell_type": "code",
   "execution_count": 57,
   "metadata": {},
   "outputs": [
    {
     "name": "stdout",
     "output_type": "stream",
     "text": [
      "--- Top 20 Most Important Words for the XGBoost Model ---\n",
      "(Note: Importance score does not indicate direction, only impact)\n",
      "                feature  importance\n",
      "40032               gop    0.020414\n",
      "70978               pic    0.020259\n",
      "50402              just    0.019156\n",
      "80709              said    0.014723\n",
      "55303              like    0.014556\n",
      "3425               21st    0.012039\n",
      "44752             https    0.010303\n",
      "34424              fact    0.009754\n",
      "48283               isn    0.009525\n",
      "12858            barack    0.008953\n",
      "22444               com    0.008916\n",
      "93357             trade    0.008432\n",
      "28294              didn    0.008086\n",
      "76173   realdonaldtrump    0.007804\n",
      "60861          ministry    0.007387\n",
      "60854          minister    0.007331\n",
      "7054           actually    0.007263\n",
      "99595         wednesday    0.006978\n",
      "100584             wire    0.006887\n",
      "94496           tuesday    0.006676\n"
     ]
    }
   ],
   "source": [
    "final_xgb_classifier = xgb_pipeline.named_steps['classifier']\n",
    "preprocessor = xgb_pipeline.named_steps['preprocessor']\n",
    "# For XGBoost, the attribute is .feature_importances_\n",
    "importances = final_xgb_classifier.feature_importances_\n",
    "\n",
    "# The feature names come from the preprocessor, same as before\n",
    "feature_names = preprocessor.get_feature_names_out()\n",
    "\n",
    "\n",
    "# --- Step 3: Create, filter, and sort the DataFrame ---\n",
    "all_features_df = pd.DataFrame({'feature': feature_names, 'importance': importances})\n",
    "\n",
    "# Filter to keep only the word features from the CountVectorizer\n",
    "word_features_df = all_features_df[all_features_df['feature'].str.startswith('count__')].copy()\n",
    "\n",
    "# Clean up the feature names by removing the \"count__\" prefix\n",
    "word_features_df['feature'] = word_features_df['feature'].str.removeprefix('count__')\n",
    "\n",
    "# Sort the DataFrame by importance in DESCENDING order\n",
    "word_features_df = word_features_df.sort_values(by='importance', ascending=False)\n",
    "\n",
    "\n",
    "# --- Step 4: Display the results ---\n",
    "print(\"--- Top 20 Most Important Words for the XGBoost Model ---\")\n",
    "print(\"(Note: Importance score does not indicate direction, only impact)\")\n",
    "print(word_features_df.head(20))"
   ]
  },
  {
   "cell_type": "code",
   "execution_count": 58,
   "metadata": {},
   "outputs": [
    {
     "data": {
      "image/png": "[encoded data removed]",
      "text/plain": [
       "<Figure size 1000x600 with 1 Axes>"
      ]
     },
     "metadata": {},
     "output_type": "display_data"
    }
   ],
   "source": [
    "plt.figure(figsize=(10, 6))  # Adjust figure size for better readability\n",
    "\n",
    "# Create the horizontal bar plot using seaborn\n",
    "sns.barplot(\n",
    "    x='importance', \n",
    "    y='feature', \n",
    "    data=word_features_df.head(20), \n",
    "    palette='viridis' # You can choose other palettes like 'plasma', 'mako', etc.\n",
    ")\n",
    "\n",
    "# Add a title and labels for clarity\n",
    "plt.title('Top 20 Most Important Words for the XGBoost Model with ngram (1, 1)', fontsize=16)\n",
    "plt.xlabel('Feature Importance Score (Gini Importance)', fontsize=12)\n",
    "plt.ylabel('Feature (Word)', fontsize=12)\n",
    "\n",
    "# Optional: Add a grid for easier reading of values\n",
    "plt.grid(axis='x', linestyle='--', alpha=0.6)\n",
    "\n",
    "# Ensure the layout is tight\n",
    "plt.tight_layout()\n",
    "\n",
    "# Display the plot\n",
    "plt.show()\n"
   ]
  },
  {
   "cell_type": "markdown",
   "metadata": {},
   "source": [
    "### 3.3.3 Test_2 "
   ]
  },
  {
   "cell_type": "code",
   "execution_count": 59,
   "metadata": {},
   "outputs": [],
   "source": [
    "hyperparameters = {}\n",
    "hyperparameter_table.append(hyperparameters)"
   ]
  },
  {
   "cell_type": "code",
   "execution_count": 60,
   "metadata": {},
   "outputs": [],
   "source": [
    "tuned_text_transformer = CountVectorizer(\n",
    "stop_words='english',\n",
    "max_features=2000, # Increased vocabulary size\n",
    "ngram_range=(1, 3), # Include bigrams\n",
    "max_df=0.80, # Ignore terms that are too frequent\n",
    "min_df=5 # Ignore terms that are too rare\n",
    ")"
   ]
  },
  {
   "cell_type": "code",
   "execution_count": 61,
   "metadata": {},
   "outputs": [],
   "source": [
    "preprocessor_tuned = ColumnTransformer(\n",
    "transformers=[\n",
    "('num', numeric_transformer, numeric_features),\n",
    "('cat', categorical_transformer, categorical_features),\n",
    "('count', tuned_text_transformer, text_feature) # Use the new transformer\n",
    "],\n",
    "remainder='drop'\n",
    ")"
   ]
  },
  {
   "cell_type": "code",
   "execution_count": 62,
   "metadata": {},
   "outputs": [
    {
     "data": {
      "text/html": [
       "<style>#sk-container-id-1 {\n",
       "  /* Definition of color scheme common for light and dark mode */\n",
       "  --sklearn-color-text: black;\n",
       "  --sklearn-color-line: gray;\n",
       "  /* Definition of color scheme for unfitted estimators */\n",
       "  --sklearn-color-unfitted-level-0: #fff5e6;\n",
       "  --sklearn-color-unfitted-level-1: #f6e4d2;\n",
       "  --sklearn-color-unfitted-level-2: #ffe0b3;\n",
       "  --sklearn-color-unfitted-level-3: chocolate;\n",
       "  /* Definition of color scheme for fitted estimators */\n",
       "  --sklearn-color-fitted-level-0: #f0f8ff;\n",
       "  --sklearn-color-fitted-level-1: #d4ebff;\n",
       "  --sklearn-color-fitted-level-2: #b3dbfd;\n",
       "  --sklearn-color-fitted-level-3: cornflowerblue;\n",
       "\n",
       "  /* Specific color for light theme */\n",
       "  --sklearn-color-text-on-default-background: var(--sg-text-color, var(--theme-code-foreground, var(--jp-content-font-color1, black)));\n",
       "  --sklearn-color-background: var(--sg-background-color, var(--theme-background, var(--jp-layout-color0, white)));\n",
       "  --sklearn-color-border-box: var(--sg-text-color, var(--theme-code-foreground, var(--jp-content-font-color1, black)));\n",
       "  --sklearn-color-icon: #696969;\n",
       "\n",
       "  @media (prefers-color-scheme: dark) {\n",
       "    /* Redefinition of color scheme for dark theme */\n",
       "    --sklearn-color-text-on-default-background: var(--sg-text-color, var(--theme-code-foreground, var(--jp-content-font-color1, white)));\n",
       "    --sklearn-color-background: var(--sg-background-color, var(--theme-background, var(--jp-layout-color0, #111)));\n",
       "    --sklearn-color-border-box: var(--sg-text-color, var(--theme-code-foreground, var(--jp-content-font-color1, white)));\n",
       "    --sklearn-color-icon: #878787;\n",
       "  }\n",
       "}\n",
       "\n",
       "#sk-container-id-1 {\n",
       "  color: var(--sklearn-color-text);\n",
       "}\n",
       "\n",
       "#sk-container-id-1 pre {\n",
       "  padding: 0;\n",
       "}\n",
       "\n",
       "#sk-container-id-1 input.sk-hidden--visually {\n",
       "  border: 0;\n",
       "  clip: rect(1px 1px 1px 1px);\n",
       "  clip: rect(1px, 1px, 1px, 1px);\n",
       "  height: 1px;\n",
       "  margin: -1px;\n",
       "  overflow: hidden;\n",
       "  padding: 0;\n",
       "  position: absolute;\n",
       "  width: 1px;\n",
       "}\n",
       "\n",
       "#sk-container-id-1 div.sk-dashed-wrapped {\n",
       "  border: 1px dashed var(--sklearn-color-line);\n",
       "  margin: 0 0.4em 0.5em 0.4em;\n",
       "  box-sizing: border-box;\n",
       "  padding-bottom: 0.4em;\n",
       "  background-color: var(--sklearn-color-background);\n",
       "}\n",
       "\n",
       "#sk-container-id-1 div.sk-container {\n",
       "  /* jupyter's `normalize.less` sets `[hidden] { display: none; }`\n",
       "     but bootstrap.min.css set `[hidden] { display: none !important; }`\n",
       "     so we also need the `!important` here to be able to override the\n",
       "     default hidden behavior on the sphinx rendered scikit-learn.org.\n",
       "     See: https://github.com/scikit-learn/scikit-learn/issues/21755 */\n",
       "  display: inline-block !important;\n",
       "  position: relative;\n",
       "}\n",
       "\n",
       "#sk-container-id-1 div.sk-text-repr-fallback {\n",
       "  display: none;\n",
       "}\n",
       "\n",
       "div.sk-parallel-item,\n",
       "div.sk-serial,\n",
       "div.sk-item {\n",
       "  /* draw centered vertical line to link estimators */\n",
       "  background-image: linear-gradient(var(--sklearn-color-text-on-default-background), var(--sklearn-color-text-on-default-background));\n",
       "  background-size: 2px 100%;\n",
       "  background-repeat: no-repeat;\n",
       "  background-position: center center;\n",
       "}\n",
       "\n",
       "/* Parallel-specific style estimator block */\n",
       "\n",
       "#sk-container-id-1 div.sk-parallel-item::after {\n",
       "  content: \"\";\n",
       "  width: 100%;\n",
       "  border-bottom: 2px solid var(--sklearn-color-text-on-default-background);\n",
       "  flex-grow: 1;\n",
       "}\n",
       "\n",
       "#sk-container-id-1 div.sk-parallel {\n",
       "  display: flex;\n",
       "  align-items: stretch;\n",
       "  justify-content: center;\n",
       "  background-color: var(--sklearn-color-background);\n",
       "  position: relative;\n",
       "}\n",
       "\n",
       "#sk-container-id-1 div.sk-parallel-item {\n",
       "  display: flex;\n",
       "  flex-direction: column;\n",
       "}\n",
       "\n",
       "#sk-container-id-1 div.sk-parallel-item:first-child::after {\n",
       "  align-self: flex-end;\n",
       "  width: 50%;\n",
       "}\n",
       "\n",
       "#sk-container-id-1 div.sk-parallel-item:last-child::after {\n",
       "  align-self: flex-start;\n",
       "  width: 50%;\n",
       "}\n",
       "\n",
       "#sk-container-id-1 div.sk-parallel-item:only-child::after {\n",
       "  width: 0;\n",
       "}\n",
       "\n",
       "/* Serial-specific style estimator block */\n",
       "\n",
       "#sk-container-id-1 div.sk-serial {\n",
       "  display: flex;\n",
       "  flex-direction: column;\n",
       "  align-items: center;\n",
       "  background-color: var(--sklearn-color-background);\n",
       "  padding-right: 1em;\n",
       "  padding-left: 1em;\n",
       "}\n",
       "\n",
       "\n",
       "/* Toggleable style: style used for estimator/Pipeline/ColumnTransformer box that is\n",
       "clickable and can be expanded/collapsed.\n",
       "- Pipeline and ColumnTransformer use this feature and define the default style\n",
       "- Estimators will overwrite some part of the style using the `sk-estimator` class\n",
       "*/\n",
       "\n",
       "/* Pipeline and ColumnTransformer style (default) */\n",
       "\n",
       "#sk-container-id-1 div.sk-toggleable {\n",
       "  /* Default theme specific background. It is overwritten whether we have a\n",
       "  specific estimator or a Pipeline/ColumnTransformer */\n",
       "  background-color: var(--sklearn-color-background);\n",
       "}\n",
       "\n",
       "/* Toggleable label */\n",
       "#sk-container-id-1 label.sk-toggleable__label {\n",
       "  cursor: pointer;\n",
       "  display: block;\n",
       "  width: 100%;\n",
       "  margin-bottom: 0;\n",
       "  padding: 0.5em;\n",
       "  box-sizing: border-box;\n",
       "  text-align: center;\n",
       "}\n",
       "\n",
       "#sk-container-id-1 label.sk-toggleable__label-arrow:before {\n",
       "  /* Arrow on the left of the label */\n",
       "  content: \"▸\";\n",
       "  float: left;\n",
       "  margin-right: 0.25em;\n",
       "  color: var(--sklearn-color-icon);\n",
       "}\n",
       "\n",
       "#sk-container-id-1 label.sk-toggleable__label-arrow:hover:before {\n",
       "  color: var(--sklearn-color-text);\n",
       "}\n",
       "\n",
       "/* Toggleable content - dropdown */\n",
       "\n",
       "#sk-container-id-1 div.sk-toggleable__content {\n",
       "  max-height: 0;\n",
       "  max-width: 0;\n",
       "  overflow: hidden;\n",
       "  text-align: left;\n",
       "  /* unfitted */\n",
       "  background-color: var(--sklearn-color-unfitted-level-0);\n",
       "}\n",
       "\n",
       "#sk-container-id-1 div.sk-toggleable__content.fitted {\n",
       "  /* fitted */\n",
       "  background-color: var(--sklearn-color-fitted-level-0);\n",
       "}\n",
       "\n",
       "#sk-container-id-1 div.sk-toggleable__content pre {\n",
       "  margin: 0.2em;\n",
       "  border-radius: 0.25em;\n",
       "  color: var(--sklearn-color-text);\n",
       "  /* unfitted */\n",
       "  background-color: var(--sklearn-color-unfitted-level-0);\n",
       "}\n",
       "\n",
       "#sk-container-id-1 div.sk-toggleable__content.fitted pre {\n",
       "  /* unfitted */\n",
       "  background-color: var(--sklearn-color-fitted-level-0);\n",
       "}\n",
       "\n",
       "#sk-container-id-1 input.sk-toggleable__control:checked~div.sk-toggleable__content {\n",
       "  /* Expand drop-down */\n",
       "  max-height: 200px;\n",
       "  max-width: 100%;\n",
       "  overflow: auto;\n",
       "}\n",
       "\n",
       "#sk-container-id-1 input.sk-toggleable__control:checked~label.sk-toggleable__label-arrow:before {\n",
       "  content: \"▾\";\n",
       "}\n",
       "\n",
       "/* Pipeline/ColumnTransformer-specific style */\n",
       "\n",
       "#sk-container-id-1 div.sk-label input.sk-toggleable__control:checked~label.sk-toggleable__label {\n",
       "  color: var(--sklearn-color-text);\n",
       "  background-color: var(--sklearn-color-unfitted-level-2);\n",
       "}\n",
       "\n",
       "#sk-container-id-1 div.sk-label.fitted input.sk-toggleable__control:checked~label.sk-toggleable__label {\n",
       "  background-color: var(--sklearn-color-fitted-level-2);\n",
       "}\n",
       "\n",
       "/* Estimator-specific style */\n",
       "\n",
       "/* Colorize estimator box */\n",
       "#sk-container-id-1 div.sk-estimator input.sk-toggleable__control:checked~label.sk-toggleable__label {\n",
       "  /* unfitted */\n",
       "  background-color: var(--sklearn-color-unfitted-level-2);\n",
       "}\n",
       "\n",
       "#sk-container-id-1 div.sk-estimator.fitted input.sk-toggleable__control:checked~label.sk-toggleable__label {\n",
       "  /* fitted */\n",
       "  background-color: var(--sklearn-color-fitted-level-2);\n",
       "}\n",
       "\n",
       "#sk-container-id-1 div.sk-label label.sk-toggleable__label,\n",
       "#sk-container-id-1 div.sk-label label {\n",
       "  /* The background is the default theme color */\n",
       "  color: var(--sklearn-color-text-on-default-background);\n",
       "}\n",
       "\n",
       "/* On hover, darken the color of the background */\n",
       "#sk-container-id-1 div.sk-label:hover label.sk-toggleable__label {\n",
       "  color: var(--sklearn-color-text);\n",
       "  background-color: var(--sklearn-color-unfitted-level-2);\n",
       "}\n",
       "\n",
       "/* Label box, darken color on hover, fitted */\n",
       "#sk-container-id-1 div.sk-label.fitted:hover label.sk-toggleable__label.fitted {\n",
       "  color: var(--sklearn-color-text);\n",
       "  background-color: var(--sklearn-color-fitted-level-2);\n",
       "}\n",
       "\n",
       "/* Estimator label */\n",
       "\n",
       "#sk-container-id-1 div.sk-label label {\n",
       "  font-family: monospace;\n",
       "  font-weight: bold;\n",
       "  display: inline-block;\n",
       "  line-height: 1.2em;\n",
       "}\n",
       "\n",
       "#sk-container-id-1 div.sk-label-container {\n",
       "  text-align: center;\n",
       "}\n",
       "\n",
       "/* Estimator-specific */\n",
       "#sk-container-id-1 div.sk-estimator {\n",
       "  font-family: monospace;\n",
       "  border: 1px dotted var(--sklearn-color-border-box);\n",
       "  border-radius: 0.25em;\n",
       "  box-sizing: border-box;\n",
       "  margin-bottom: 0.5em;\n",
       "  /* unfitted */\n",
       "  background-color: var(--sklearn-color-unfitted-level-0);\n",
       "}\n",
       "\n",
       "#sk-container-id-1 div.sk-estimator.fitted {\n",
       "  /* fitted */\n",
       "  background-color: var(--sklearn-color-fitted-level-0);\n",
       "}\n",
       "\n",
       "/* on hover */\n",
       "#sk-container-id-1 div.sk-estimator:hover {\n",
       "  /* unfitted */\n",
       "  background-color: var(--sklearn-color-unfitted-level-2);\n",
       "}\n",
       "\n",
       "#sk-container-id-1 div.sk-estimator.fitted:hover {\n",
       "  /* fitted */\n",
       "  background-color: var(--sklearn-color-fitted-level-2);\n",
       "}\n",
       "\n",
       "/* Specification for estimator info (e.g. \"i\" and \"?\") */\n",
       "\n",
       "/* Common style for \"i\" and \"?\" */\n",
       "\n",
       ".sk-estimator-doc-link,\n",
       "a:link.sk-estimator-doc-link,\n",
       "a:visited.sk-estimator-doc-link {\n",
       "  float: right;\n",
       "  font-size: smaller;\n",
       "  line-height: 1em;\n",
       "  font-family: monospace;\n",
       "  background-color: var(--sklearn-color-background);\n",
       "  border-radius: 1em;\n",
       "  height: 1em;\n",
       "  width: 1em;\n",
       "  text-decoration: none !important;\n",
       "  margin-left: 1ex;\n",
       "  /* unfitted */\n",
       "  border: var(--sklearn-color-unfitted-level-1) 1pt solid;\n",
       "  color: var(--sklearn-color-unfitted-level-1);\n",
       "}\n",
       "\n",
       ".sk-estimator-doc-link.fitted,\n",
       "a:link.sk-estimator-doc-link.fitted,\n",
       "a:visited.sk-estimator-doc-link.fitted {\n",
       "  /* fitted */\n",
       "  border: var(--sklearn-color-fitted-level-1) 1pt solid;\n",
       "  color: var(--sklearn-color-fitted-level-1);\n",
       "}\n",
       "\n",
       "/* On hover */\n",
       "div.sk-estimator:hover .sk-estimator-doc-link:hover,\n",
       ".sk-estimator-doc-link:hover,\n",
       "div.sk-label-container:hover .sk-estimator-doc-link:hover,\n",
       ".sk-estimator-doc-link:hover {\n",
       "  /* unfitted */\n",
       "  background-color: var(--sklearn-color-unfitted-level-3);\n",
       "  color: var(--sklearn-color-background);\n",
       "  text-decoration: none;\n",
       "}\n",
       "\n",
       "div.sk-estimator.fitted:hover .sk-estimator-doc-link.fitted:hover,\n",
       ".sk-estimator-doc-link.fitted:hover,\n",
       "div.sk-label-container:hover .sk-estimator-doc-link.fitted:hover,\n",
       ".sk-estimator-doc-link.fitted:hover {\n",
       "  /* fitted */\n",
       "  background-color: var(--sklearn-color-fitted-level-3);\n",
       "  color: var(--sklearn-color-background);\n",
       "  text-decoration: none;\n",
       "}\n",
       "\n",
       "/* Span, style for the box shown on hovering the info icon */\n",
       ".sk-estimator-doc-link span {\n",
       "  display: none;\n",
       "  z-index: 9999;\n",
       "  position: relative;\n",
       "  font-weight: normal;\n",
       "  right: .2ex;\n",
       "  padding: .5ex;\n",
       "  margin: .5ex;\n",
       "  width: min-content;\n",
       "  min-width: 20ex;\n",
       "  max-width: 50ex;\n",
       "  color: var(--sklearn-color-text);\n",
       "  box-shadow: 2pt 2pt 4pt #999;\n",
       "  /* unfitted */\n",
       "  background: var(--sklearn-color-unfitted-level-0);\n",
       "  border: .5pt solid var(--sklearn-color-unfitted-level-3);\n",
       "}\n",
       "\n",
       ".sk-estimator-doc-link.fitted span {\n",
       "  /* fitted */\n",
       "  background: var(--sklearn-color-fitted-level-0);\n",
       "  border: var(--sklearn-color-fitted-level-3);\n",
       "}\n",
       "\n",
       ".sk-estimator-doc-link:hover span {\n",
       "  display: block;\n",
       "}\n",
       "\n",
       "/* \"?\"-specific style due to the `<a>` HTML tag */\n",
       "\n",
       "#sk-container-id-1 a.estimator_doc_link {\n",
       "  float: right;\n",
       "  font-size: 1rem;\n",
       "  line-height: 1em;\n",
       "  font-family: monospace;\n",
       "  background-color: var(--sklearn-color-background);\n",
       "  border-radius: 1rem;\n",
       "  height: 1rem;\n",
       "  width: 1rem;\n",
       "  text-decoration: none;\n",
       "  /* unfitted */\n",
       "  color: var(--sklearn-color-unfitted-level-1);\n",
       "  border: var(--sklearn-color-unfitted-level-1) 1pt solid;\n",
       "}\n",
       "\n",
       "#sk-container-id-1 a.estimator_doc_link.fitted {\n",
       "  /* fitted */\n",
       "  border: var(--sklearn-color-fitted-level-1) 1pt solid;\n",
       "  color: var(--sklearn-color-fitted-level-1);\n",
       "}\n",
       "\n",
       "/* On hover */\n",
       "#sk-container-id-1 a.estimator_doc_link:hover {\n",
       "  /* unfitted */\n",
       "  background-color: var(--sklearn-color-unfitted-level-3);\n",
       "  color: var(--sklearn-color-background);\n",
       "  text-decoration: none;\n",
       "}\n",
       "\n",
       "#sk-container-id-1 a.estimator_doc_link.fitted:hover {\n",
       "  /* fitted */\n",
       "  background-color: var(--sklearn-color-fitted-level-3);\n",
       "}\n",
       "</style><div id=\"sk-container-id-1\" class=\"sk-top-container\"><div class=\"sk-text-repr-fallback\"><pre>Pipeline(steps=[(&#x27;preprocessor&#x27;,\n",
       "                 ColumnTransformer(transformers=[(&#x27;num&#x27;, StandardScaler(),\n",
       "                                                  [&#x27;char_count_text&#x27;,\n",
       "                                                   &#x27;word_count_text&#x27;,\n",
       "                                                   &#x27;avg_word_length_text&#x27;,\n",
       "                                                   &#x27;char_count_title&#x27;,\n",
       "                                                   &#x27;word_count_title&#x27;,\n",
       "                                                   &#x27;avg_word_length_title&#x27;,\n",
       "                                                   &#x27;year&#x27;, &#x27;day&#x27;,\n",
       "                                                   &#x27;days_to_election&#x27;]),\n",
       "                                                 (&#x27;cat&#x27;,\n",
       "                                                  OneHotEncoder(handle_unknown=&#x27;ignore&#x27;),\n",
       "                                                  [&#x27;month&#x27;, &#x27;day_of_week&#x27;]),\n",
       "                                                 (&#x27;count&#x27;,\n",
       "                                                  CountVectorizer(max_df=0.8...\n",
       "                               feature_types=None, feature_weights=None,\n",
       "                               gamma=None, grow_policy=None,\n",
       "                               importance_type=None,\n",
       "                               interaction_constraints=None, learning_rate=None,\n",
       "                               max_bin=None, max_cat_threshold=None,\n",
       "                               max_cat_to_onehot=None, max_delta_step=None,\n",
       "                               max_depth=None, max_leaves=None,\n",
       "                               min_child_weight=None, missing=nan,\n",
       "                               monotone_constraints=None, multi_strategy=None,\n",
       "                               n_estimators=None, n_jobs=None,\n",
       "                               num_parallel_tree=None, ...))])</pre><b>In a Jupyter environment, please rerun this cell to show the HTML representation or trust the notebook. <br />On GitHub, the HTML representation is unable to render, please try loading this page with nbviewer.org.</b></div><div class=\"sk-container\" hidden><div class=\"sk-item sk-dashed-wrapped\"><div class=\"sk-label-container\"><div class=\"sk-label fitted sk-toggleable\"><input class=\"sk-toggleable__control sk-hidden--visually\" id=\"sk-estimator-id-1\" type=\"checkbox\" ><label for=\"sk-estimator-id-1\" class=\"sk-toggleable__label fitted sk-toggleable__label-arrow fitted\">&nbsp;&nbsp;Pipeline<a class=\"sk-estimator-doc-link fitted\" rel=\"noreferrer\" target=\"_blank\" href=\"https://scikit-learn.org/1.5/modules/generated/sklearn.pipeline.Pipeline.html\">?<span>Documentation for Pipeline</span></a><span class=\"sk-estimator-doc-link fitted\">i<span>Fitted</span></span></label><div class=\"sk-toggleable__content fitted\"><pre>Pipeline(steps=[(&#x27;preprocessor&#x27;,\n",
       "                 ColumnTransformer(transformers=[(&#x27;num&#x27;, StandardScaler(),\n",
       "                                                  [&#x27;char_count_text&#x27;,\n",
       "                                                   &#x27;word_count_text&#x27;,\n",
       "                                                   &#x27;avg_word_length_text&#x27;,\n",
       "                                                   &#x27;char_count_title&#x27;,\n",
       "                                                   &#x27;word_count_title&#x27;,\n",
       "                                                   &#x27;avg_word_length_title&#x27;,\n",
       "                                                   &#x27;year&#x27;, &#x27;day&#x27;,\n",
       "                                                   &#x27;days_to_election&#x27;]),\n",
       "                                                 (&#x27;cat&#x27;,\n",
       "                                                  OneHotEncoder(handle_unknown=&#x27;ignore&#x27;),\n",
       "                                                  [&#x27;month&#x27;, &#x27;day_of_week&#x27;]),\n",
       "                                                 (&#x27;count&#x27;,\n",
       "                                                  CountVectorizer(max_df=0.8...\n",
       "                               feature_types=None, feature_weights=None,\n",
       "                               gamma=None, grow_policy=None,\n",
       "                               importance_type=None,\n",
       "                               interaction_constraints=None, learning_rate=None,\n",
       "                               max_bin=None, max_cat_threshold=None,\n",
       "                               max_cat_to_onehot=None, max_delta_step=None,\n",
       "                               max_depth=None, max_leaves=None,\n",
       "                               min_child_weight=None, missing=nan,\n",
       "                               monotone_constraints=None, multi_strategy=None,\n",
       "                               n_estimators=None, n_jobs=None,\n",
       "                               num_parallel_tree=None, ...))])</pre></div> </div></div><div class=\"sk-serial\"><div class=\"sk-item sk-dashed-wrapped\"><div class=\"sk-label-container\"><div class=\"sk-label fitted sk-toggleable\"><input class=\"sk-toggleable__control sk-hidden--visually\" id=\"sk-estimator-id-2\" type=\"checkbox\" ><label for=\"sk-estimator-id-2\" class=\"sk-toggleable__label fitted sk-toggleable__label-arrow fitted\">&nbsp;preprocessor: ColumnTransformer<a class=\"sk-estimator-doc-link fitted\" rel=\"noreferrer\" target=\"_blank\" href=\"https://scikit-learn.org/1.5/modules/generated/sklearn.compose.ColumnTransformer.html\">?<span>Documentation for preprocessor: ColumnTransformer</span></a></label><div class=\"sk-toggleable__content fitted\"><pre>ColumnTransformer(transformers=[(&#x27;num&#x27;, StandardScaler(),\n",
       "                                 [&#x27;char_count_text&#x27;, &#x27;word_count_text&#x27;,\n",
       "                                  &#x27;avg_word_length_text&#x27;, &#x27;char_count_title&#x27;,\n",
       "                                  &#x27;word_count_title&#x27;, &#x27;avg_word_length_title&#x27;,\n",
       "                                  &#x27;year&#x27;, &#x27;day&#x27;, &#x27;days_to_election&#x27;]),\n",
       "                                (&#x27;cat&#x27;, OneHotEncoder(handle_unknown=&#x27;ignore&#x27;),\n",
       "                                 [&#x27;month&#x27;, &#x27;day_of_week&#x27;]),\n",
       "                                (&#x27;count&#x27;,\n",
       "                                 CountVectorizer(max_df=0.8, max_features=2000,\n",
       "                                                 min_df=5, ngram_range=(1, 3),\n",
       "                                                 stop_words=&#x27;english&#x27;),\n",
       "                                 &#x27;text&#x27;)])</pre></div> </div></div><div class=\"sk-parallel\"><div class=\"sk-parallel-item\"><div class=\"sk-item\"><div class=\"sk-label-container\"><div class=\"sk-label fitted sk-toggleable\"><input class=\"sk-toggleable__control sk-hidden--visually\" id=\"sk-estimator-id-3\" type=\"checkbox\" ><label for=\"sk-estimator-id-3\" class=\"sk-toggleable__label fitted sk-toggleable__label-arrow fitted\">num</label><div class=\"sk-toggleable__content fitted\"><pre>[&#x27;char_count_text&#x27;, &#x27;word_count_text&#x27;, &#x27;avg_word_length_text&#x27;, &#x27;char_count_title&#x27;, &#x27;word_count_title&#x27;, &#x27;avg_word_length_title&#x27;, &#x27;year&#x27;, &#x27;day&#x27;, &#x27;days_to_election&#x27;]</pre></div> </div></div><div class=\"sk-serial\"><div class=\"sk-item\"><div class=\"sk-estimator fitted sk-toggleable\"><input class=\"sk-toggleable__control sk-hidden--visually\" id=\"sk-estimator-id-4\" type=\"checkbox\" ><label for=\"sk-estimator-id-4\" class=\"sk-toggleable__label fitted sk-toggleable__label-arrow fitted\">&nbsp;StandardScaler<a class=\"sk-estimator-doc-link fitted\" rel=\"noreferrer\" target=\"_blank\" href=\"https://scikit-learn.org/1.5/modules/generated/sklearn.preprocessing.StandardScaler.html\">?<span>Documentation for StandardScaler</span></a></label><div class=\"sk-toggleable__content fitted\"><pre>StandardScaler()</pre></div> </div></div></div></div></div><div class=\"sk-parallel-item\"><div class=\"sk-item\"><div class=\"sk-label-container\"><div class=\"sk-label fitted sk-toggleable\"><input class=\"sk-toggleable__control sk-hidden--visually\" id=\"sk-estimator-id-5\" type=\"checkbox\" ><label for=\"sk-estimator-id-5\" class=\"sk-toggleable__label fitted sk-toggleable__label-arrow fitted\">cat</label><div class=\"sk-toggleable__content fitted\"><pre>[&#x27;month&#x27;, &#x27;day_of_week&#x27;]</pre></div> </div></div><div class=\"sk-serial\"><div class=\"sk-item\"><div class=\"sk-estimator fitted sk-toggleable\"><input class=\"sk-toggleable__control sk-hidden--visually\" id=\"sk-estimator-id-6\" type=\"checkbox\" ><label for=\"sk-estimator-id-6\" class=\"sk-toggleable__label fitted sk-toggleable__label-arrow fitted\">&nbsp;OneHotEncoder<a class=\"sk-estimator-doc-link fitted\" rel=\"noreferrer\" target=\"_blank\" href=\"https://scikit-learn.org/1.5/modules/generated/sklearn.preprocessing.OneHotEncoder.html\">?<span>Documentation for OneHotEncoder</span></a></label><div class=\"sk-toggleable__content fitted\"><pre>OneHotEncoder(handle_unknown=&#x27;ignore&#x27;)</pre></div> </div></div></div></div></div><div class=\"sk-parallel-item\"><div class=\"sk-item\"><div class=\"sk-label-container\"><div class=\"sk-label fitted sk-toggleable\"><input class=\"sk-toggleable__control sk-hidden--visually\" id=\"sk-estimator-id-7\" type=\"checkbox\" ><label for=\"sk-estimator-id-7\" class=\"sk-toggleable__label fitted sk-toggleable__label-arrow fitted\">count</label><div class=\"sk-toggleable__content fitted\"><pre>text</pre></div> </div></div><div class=\"sk-serial\"><div class=\"sk-item\"><div class=\"sk-estimator fitted sk-toggleable\"><input class=\"sk-toggleable__control sk-hidden--visually\" id=\"sk-estimator-id-8\" type=\"checkbox\" ><label for=\"sk-estimator-id-8\" class=\"sk-toggleable__label fitted sk-toggleable__label-arrow fitted\">&nbsp;CountVectorizer<a class=\"sk-estimator-doc-link fitted\" rel=\"noreferrer\" target=\"_blank\" href=\"https://scikit-learn.org/1.5/modules/generated/sklearn.feature_extraction.text.CountVectorizer.html\">?<span>Documentation for CountVectorizer</span></a></label><div class=\"sk-toggleable__content fitted\"><pre>CountVectorizer(max_df=0.8, max_features=2000, min_df=5, ngram_range=(1, 3),\n",
       "                stop_words=&#x27;english&#x27;)</pre></div> </div></div></div></div></div></div></div><div class=\"sk-item\"><div class=\"sk-estimator fitted sk-toggleable\"><input class=\"sk-toggleable__control sk-hidden--visually\" id=\"sk-estimator-id-9\" type=\"checkbox\" ><label for=\"sk-estimator-id-9\" class=\"sk-toggleable__label fitted sk-toggleable__label-arrow fitted\">&nbsp;XGBClassifier<a class=\"sk-estimator-doc-link fitted\" rel=\"noreferrer\" target=\"_blank\" href=\"https://xgboost.readthedocs.io/en/release_3.0.0/python/python_api.html#xgboost.XGBClassifier\">?<span>Documentation for XGBClassifier</span></a></label><div class=\"sk-toggleable__content fitted\"><pre>XGBClassifier(base_score=None, booster=None, callbacks=None,\n",
       "              colsample_bylevel=None, colsample_bynode=None,\n",
       "              colsample_bytree=None, device=None, early_stopping_rounds=None,\n",
       "              enable_categorical=False, eval_metric=None, feature_types=None,\n",
       "              feature_weights=None, gamma=None, grow_policy=None,\n",
       "              importance_type=None, interaction_constraints=None,\n",
       "              learning_rate=None, max_bin=None, max_cat_threshold=None,\n",
       "              max_cat_to_onehot=None, max_delta_step=None, max_depth=None,\n",
       "              max_leaves=None, min_child_weight=None, missing=nan,\n",
       "              monotone_constraints=None, multi_strategy=None, n_estimators=None,\n",
       "              n_jobs=None, num_parallel_tree=None, ...)</pre></div> </div></div></div></div></div></div>"
      ],
      "text/plain": [
       "Pipeline(steps=[('preprocessor',\n",
       "                 ColumnTransformer(transformers=[('num', StandardScaler(),\n",
       "                                                  ['char_count_text',\n",
       "                                                   'word_count_text',\n",
       "                                                   'avg_word_length_text',\n",
       "                                                   'char_count_title',\n",
       "                                                   'word_count_title',\n",
       "                                                   'avg_word_length_title',\n",
       "                                                   'year', 'day',\n",
       "                                                   'days_to_election']),\n",
       "                                                 ('cat',\n",
       "                                                  OneHotEncoder(handle_unknown='ignore'),\n",
       "                                                  ['month', 'day_of_week']),\n",
       "                                                 ('count',\n",
       "                                                  CountVectorizer(max_df=0.8...\n",
       "                               feature_types=None, feature_weights=None,\n",
       "                               gamma=None, grow_policy=None,\n",
       "                               importance_type=None,\n",
       "                               interaction_constraints=None, learning_rate=None,\n",
       "                               max_bin=None, max_cat_threshold=None,\n",
       "                               max_cat_to_onehot=None, max_delta_step=None,\n",
       "                               max_depth=None, max_leaves=None,\n",
       "                               min_child_weight=None, missing=nan,\n",
       "                               monotone_constraints=None, multi_strategy=None,\n",
       "                               n_estimators=None, n_jobs=None,\n",
       "                               num_parallel_tree=None, ...))])"
      ]
     },
     "execution_count": 62,
     "metadata": {},
     "output_type": "execute_result"
    }
   ],
   "source": [
    "xgb_pipeline_tuned = Pipeline(steps=[\n",
    "('preprocessor', preprocessor_tuned), # Use the new preprocessor here!\n",
    "('classifier', XGBClassifier(random_state=42))\n",
    "])\n",
    "\n",
    "xgb_pipeline_tuned.fit(X_train, y_train)"
   ]
  },
  {
   "cell_type": "code",
   "execution_count": 63,
   "metadata": {},
   "outputs": [],
   "source": [
    "train_accuracy = xgb_pipeline_tuned.score(X_train, y_train)\n",
    "val_accuracy = metrics.accuracy_score(y_val, y_val_pred)\n",
    "val_recall = metrics.recall_score(y_val, y_val_pred)\n",
    "val_precision = metrics.precision_score(y_val, y_val_pred)\n",
    "val_f1 = metrics.f1_score(y_val, y_val_pred)\n",
    "\n",
    "\n",
    "y_test_pred = xgb_pipeline.predict(X_test)\n",
    "test_accuracy = metrics.accuracy_score(y_test, y_test_pred)\n",
    "test_recall = metrics.recall_score(y_test, y_test_pred)\n",
    "test_precision = metrics.precision_score(y_test, y_test_pred)\n",
    "test_f1 = metrics.f1_score(y_test, y_test_pred)"
   ]
  },
  {
   "cell_type": "code",
   "execution_count": 64,
   "metadata": {},
   "outputs": [],
   "source": [
    "vectorizer_params = \"max_features=2000, ngram_range=(1,3), max_df=0.8, min_df=5\"\n",
    "\n",
    "parameters = dict(Exp='5_Hybrid_Tuned', Model_Name='XGboost (Pipeline)',\n",
    "Features='Text+Meta', Scale='StandardScaler',\n",
    "Vectorizer='CountVectorizer', Vectorizer_Params=vectorizer_params, # Add new column\n",
    "Train_Accuracy=round(train_accuracy,3),\n",
    "Val_Accuracy=round(val_accuracy,3), Val_Recall=round(val_recall,3),\n",
    "Val_Precision=round(val_precision,3), Val_F1=round(val_f1,3),\n",
    "Test_Accuracy=round(test_accuracy,3), Test_Recall=round(test_recall,3),\n",
    "Test_Precision=round(test_precision,3), Test_F1=round(test_f1,3))\n",
    "\n",
    "hyperparameter_table[-1].update(parameters)"
   ]
  },
  {
   "cell_type": "code",
   "execution_count": 65,
   "metadata": {},
   "outputs": [
    {
     "data": {
      "application/vnd.microsoft.datawrangler.viewer.v0+json": {
       "columns": [
        {
         "name": "index",
         "rawType": "int64",
         "type": "integer"
        },
        {
         "name": "Exp",
         "rawType": "object",
         "type": "string"
        },
        {
         "name": "Model_Name",
         "rawType": "object",
         "type": "string"
        },
        {
         "name": "Features",
         "rawType": "object",
         "type": "string"
        },
        {
         "name": "Scale",
         "rawType": "object",
         "type": "string"
        },
        {
         "name": "Vectorizer",
         "rawType": "object",
         "type": "string"
        },
        {
         "name": "Train_Accuracy",
         "rawType": "float64",
         "type": "float"
        },
        {
         "name": "Val_Accuracy",
         "rawType": "float64",
         "type": "float"
        },
        {
         "name": "Val_Recall",
         "rawType": "float64",
         "type": "float"
        },
        {
         "name": "Val_Precision",
         "rawType": "float64",
         "type": "float"
        },
        {
         "name": "Val_F1",
         "rawType": "float64",
         "type": "float"
        },
        {
         "name": "Test_Accuracy",
         "rawType": "float64",
         "type": "float"
        },
        {
         "name": "Test_Recall",
         "rawType": "float64",
         "type": "float"
        },
        {
         "name": "Test_Precision",
         "rawType": "float64",
         "type": "float"
        },
        {
         "name": "Test_F1",
         "rawType": "float64",
         "type": "float"
        },
        {
         "name": "Vectorizer_Params",
         "rawType": "object",
         "type": "unknown"
        }
       ],
       "ref": "4a8c4a82-ba97-4a00-a710-f8ebcadf70d1",
       "rows": [
        [
         "0",
         "1_Hybrid",
         "Logistic Regression (Pipeline)",
         "Text+Meta",
         "StandardScaler",
         "CountVectorizer",
         "0.999",
         "0.981",
         "0.976",
         "0.982",
         "0.979",
         null,
         null,
         null,
         null,
         null
        ],
        [
         "1",
         "2_Hybrid",
         "Random Forest (Pipeline)",
         "Text+Meta",
         "StandardScaler",
         "CountVectorizer",
         "1.0",
         "0.972",
         "0.957",
         "0.98",
         "0.968",
         null,
         null,
         null,
         null,
         null
        ],
        [
         "2",
         "3_Hybrid",
         "Gradient Boost (Pipeline)",
         "Text+Meta",
         "StandardScaler",
         "CountVectorizer",
         "0.976",
         "0.971",
         "0.957",
         "0.978",
         "0.967",
         null,
         null,
         null,
         null,
         null
        ],
        [
         "3",
         "4_Hybrid",
         "XGboost (Pipeline)",
         "Text+Meta",
         "StandardScaler",
         "CountVectorizer",
         "0.999",
         "0.987",
         "0.983",
         "0.989",
         "0.986",
         "0.84",
         "0.917",
         "0.786",
         "0.846",
         null
        ],
        [
         "4",
         "5_Hybrid_Tuned",
         "XGboost (Pipeline)",
         "Text+Meta",
         "StandardScaler",
         "CountVectorizer",
         "0.999",
         "0.987",
         "0.983",
         "0.989",
         "0.986",
         "0.84",
         "0.917",
         "0.786",
         "0.846",
         "max_features=2000, ngram_range=(1,3), max_df=0.8, min_df=5"
        ]
       ],
       "shape": {
        "columns": 15,
        "rows": 5
       }
      },
      "text/html": [
       "<div>\n",
       "<style scoped>\n",
       "    .dataframe tbody tr th:only-of-type {\n",
       "        vertical-align: middle;\n",
       "    }\n",
       "\n",
       "    .dataframe tbody tr th {\n",
       "        vertical-align: top;\n",
       "    }\n",
       "\n",
       "    .dataframe thead th {\n",
       "        text-align: right;\n",
       "    }\n",
       "</style>\n",
       "<table border=\"1\" class=\"dataframe\">\n",
       "  <thead>\n",
       "    <tr style=\"text-align: right;\">\n",
       "      <th></th>\n",
       "      <th>Exp</th>\n",
       "      <th>Model_Name</th>\n",
       "      <th>Features</th>\n",
       "      <th>Scale</th>\n",
       "      <th>Vectorizer</th>\n",
       "      <th>Train_Accuracy</th>\n",
       "      <th>Val_Accuracy</th>\n",
       "      <th>Val_Recall</th>\n",
       "      <th>Val_Precision</th>\n",
       "      <th>Val_F1</th>\n",
       "      <th>Test_Accuracy</th>\n",
       "      <th>Test_Recall</th>\n",
       "      <th>Test_Precision</th>\n",
       "      <th>Test_F1</th>\n",
       "      <th>Vectorizer_Params</th>\n",
       "    </tr>\n",
       "  </thead>\n",
       "  <tbody>\n",
       "    <tr>\n",
       "      <th>0</th>\n",
       "      <td>1_Hybrid</td>\n",
       "      <td>Logistic Regression (Pipeline)</td>\n",
       "      <td>Text+Meta</td>\n",
       "      <td>StandardScaler</td>\n",
       "      <td>CountVectorizer</td>\n",
       "      <td>0.999</td>\n",
       "      <td>0.981</td>\n",
       "      <td>0.976</td>\n",
       "      <td>0.982</td>\n",
       "      <td>0.979</td>\n",
       "      <td>NaN</td>\n",
       "      <td>NaN</td>\n",
       "      <td>NaN</td>\n",
       "      <td>NaN</td>\n",
       "      <td>NaN</td>\n",
       "    </tr>\n",
       "    <tr>\n",
       "      <th>1</th>\n",
       "      <td>2_Hybrid</td>\n",
       "      <td>Random Forest (Pipeline)</td>\n",
       "      <td>Text+Meta</td>\n",
       "      <td>StandardScaler</td>\n",
       "      <td>CountVectorizer</td>\n",
       "      <td>1.000</td>\n",
       "      <td>0.972</td>\n",
       "      <td>0.957</td>\n",
       "      <td>0.980</td>\n",
       "      <td>0.968</td>\n",
       "      <td>NaN</td>\n",
       "      <td>NaN</td>\n",
       "      <td>NaN</td>\n",
       "      <td>NaN</td>\n",
       "      <td>NaN</td>\n",
       "    </tr>\n",
       "    <tr>\n",
       "      <th>2</th>\n",
       "      <td>3_Hybrid</td>\n",
       "      <td>Gradient Boost (Pipeline)</td>\n",
       "      <td>Text+Meta</td>\n",
       "      <td>StandardScaler</td>\n",
       "      <td>CountVectorizer</td>\n",
       "      <td>0.976</td>\n",
       "      <td>0.971</td>\n",
       "      <td>0.957</td>\n",
       "      <td>0.978</td>\n",
       "      <td>0.967</td>\n",
       "      <td>NaN</td>\n",
       "      <td>NaN</td>\n",
       "      <td>NaN</td>\n",
       "      <td>NaN</td>\n",
       "      <td>NaN</td>\n",
       "    </tr>\n",
       "    <tr>\n",
       "      <th>3</th>\n",
       "      <td>4_Hybrid</td>\n",
       "      <td>XGboost (Pipeline)</td>\n",
       "      <td>Text+Meta</td>\n",
       "      <td>StandardScaler</td>\n",
       "      <td>CountVectorizer</td>\n",
       "      <td>0.999</td>\n",
       "      <td>0.987</td>\n",
       "      <td>0.983</td>\n",
       "      <td>0.989</td>\n",
       "      <td>0.986</td>\n",
       "      <td>0.84</td>\n",
       "      <td>0.917</td>\n",
       "      <td>0.786</td>\n",
       "      <td>0.846</td>\n",
       "      <td>NaN</td>\n",
       "    </tr>\n",
       "    <tr>\n",
       "      <th>4</th>\n",
       "      <td>5_Hybrid_Tuned</td>\n",
       "      <td>XGboost (Pipeline)</td>\n",
       "      <td>Text+Meta</td>\n",
       "      <td>StandardScaler</td>\n",
       "      <td>CountVectorizer</td>\n",
       "      <td>0.999</td>\n",
       "      <td>0.987</td>\n",
       "      <td>0.983</td>\n",
       "      <td>0.989</td>\n",
       "      <td>0.986</td>\n",
       "      <td>0.84</td>\n",
       "      <td>0.917</td>\n",
       "      <td>0.786</td>\n",
       "      <td>0.846</td>\n",
       "      <td>max_features=2000, ngram_range=(1,3), max_df=0...</td>\n",
       "    </tr>\n",
       "  </tbody>\n",
       "</table>\n",
       "</div>"
      ],
      "text/plain": [
       "              Exp                      Model_Name   Features           Scale  \\\n",
       "0        1_Hybrid  Logistic Regression (Pipeline)  Text+Meta  StandardScaler   \n",
       "1        2_Hybrid        Random Forest (Pipeline)  Text+Meta  StandardScaler   \n",
       "2        3_Hybrid       Gradient Boost (Pipeline)  Text+Meta  StandardScaler   \n",
       "3        4_Hybrid              XGboost (Pipeline)  Text+Meta  StandardScaler   \n",
       "4  5_Hybrid_Tuned              XGboost (Pipeline)  Text+Meta  StandardScaler   \n",
       "\n",
       "        Vectorizer  Train_Accuracy  Val_Accuracy  Val_Recall  Val_Precision  \\\n",
       "0  CountVectorizer           0.999         0.981       0.976          0.982   \n",
       "1  CountVectorizer           1.000         0.972       0.957          0.980   \n",
       "2  CountVectorizer           0.976         0.971       0.957          0.978   \n",
       "3  CountVectorizer           0.999         0.987       0.983          0.989   \n",
       "4  CountVectorizer           0.999         0.987       0.983          0.989   \n",
       "\n",
       "   Val_F1  Test_Accuracy  Test_Recall  Test_Precision  Test_F1  \\\n",
       "0   0.979            NaN          NaN             NaN      NaN   \n",
       "1   0.968            NaN          NaN             NaN      NaN   \n",
       "2   0.967            NaN          NaN             NaN      NaN   \n",
       "3   0.986           0.84        0.917           0.786    0.846   \n",
       "4   0.986           0.84        0.917           0.786    0.846   \n",
       "\n",
       "                                   Vectorizer_Params  \n",
       "0                                                NaN  \n",
       "1                                                NaN  \n",
       "2                                                NaN  \n",
       "3                                                NaN  \n",
       "4  max_features=2000, ngram_range=(1,3), max_df=0...  "
      ]
     },
     "execution_count": 65,
     "metadata": {},
     "output_type": "execute_result"
    }
   ],
   "source": [
    "pd.DataFrame(hyperparameter_table)"
   ]
  },
  {
   "cell_type": "code",
   "execution_count": 66,
   "metadata": {},
   "outputs": [
    {
     "name": "stdout",
     "output_type": "stream",
     "text": [
      "--- Top 20 Most Important Words for the XGBoost Model ---\n",
      "(Note: Importance score does not indicate direction, only impact)\n",
      "                           feature  importance\n",
      "1905                   twitter com    0.022453\n",
      "1377        president donald trump    0.017532\n",
      "785                            gop    0.015628\n",
      "1374              president barack    0.015523\n",
      "986                           just    0.014694\n",
      "1608                          said    0.013330\n",
      "1056                          like    0.012838\n",
      "1904                       twitter    0.012531\n",
      "1317                   pic twitter    0.012348\n",
      "869                          https    0.011237\n",
      "1316                           pic    0.010075\n",
      "405                            com    0.010057\n",
      "1376              president donald    0.009604\n",
      "1539               representatives    0.009023\n",
      "592   donald trump realdonaldtrump    0.008808\n",
      "235                         barack    0.008495\n",
      "100                       actually    0.008428\n",
      "1224                           nov    0.007853\n",
      "341                        century    0.007544\n",
      "1153                      minister    0.007503\n"
     ]
    }
   ],
   "source": [
    "final_xgb_classifier = xgb_pipeline_tuned.named_steps['classifier']\n",
    "preprocessor = xgb_pipeline_tuned.named_steps['preprocessor']\n",
    "\n",
    "# For XGBoost, the attribute is .feature_importances_\n",
    "importances = final_xgb_classifier.feature_importances_\n",
    "\n",
    "# The feature names come from the preprocessor, same as before\n",
    "feature_names = preprocessor.get_feature_names_out()\n",
    "\n",
    "\n",
    "# --- Step 3: Create, filter, and sort the DataFrame ---\n",
    "all_features_df = pd.DataFrame({'feature': feature_names, 'importance': importances})\n",
    "\n",
    "# Filter to keep only the word features from the CountVectorizer\n",
    "word_features_df = all_features_df[all_features_df['feature'].str.startswith('count__')].copy()\n",
    "\n",
    "# Clean up the feature names by removing the \"count__\" prefix\n",
    "word_features_df['feature'] = word_features_df['feature'].str.removeprefix('count__')\n",
    "\n",
    "# Sort the DataFrame by importance in DESCENDING order\n",
    "word_features_df = word_features_df.sort_values(by='importance', ascending=False)\n",
    "\n",
    "\n",
    "# --- Step 4: Display the results ---\n",
    "print(\"--- Top 20 Most Important Words for the XGBoost Model ---\")\n",
    "print(\"(Note: Importance score does not indicate direction, only impact)\")\n",
    "print(word_features_df.head(20))"
   ]
  },
  {
   "cell_type": "code",
   "execution_count": 67,
   "metadata": {},
   "outputs": [
    {
     "data": {
      "image/png": "[encoded data removed]",
      "text/plain": [
       "<Figure size 1000x600 with 1 Axes>"
      ]
     },
     "metadata": {},
     "output_type": "display_data"
    }
   ],
   "source": [
    "plt.figure(figsize=(10, 6))  # Adjust figure size for better readability\n",
    "\n",
    "# Create the horizontal bar plot using seaborn\n",
    "sns.barplot(\n",
    "    x='importance', \n",
    "    y='feature', \n",
    "    data=word_features_df.head(20), \n",
    "    palette='viridis' # You can choose other palettes like 'plasma', 'mako', etc.\n",
    ")\n",
    "\n",
    "# Add a title and labels for clarity\n",
    "plt.title('Top 20 Most Important Words for the XGBoost Model with ngram (1, 3)', fontsize=16)\n",
    "plt.xlabel('Feature Importance Score (Gini Importance)', fontsize=12)\n",
    "plt.ylabel('Feature (Word)', fontsize=12)\n",
    "\n",
    "# Optional: Add a grid for easier reading of values\n",
    "plt.grid(axis='x', linestyle='--', alpha=0.6)\n",
    "\n",
    "# Ensure the layout is tight\n",
    "plt.tight_layout()\n",
    "\n",
    "# Display the plot\n",
    "plt.show()\n"
   ]
  },
  {
   "cell_type": "code",
   "execution_count": null,
   "metadata": {},
   "outputs": [],
   "source": []
  }
 ],
 "metadata": {
  "kernelspec": {
   "display_name": "py310",
   "language": "python",
   "name": "python3"
  },
  "language_info": {
   "codemirror_mode": {
    "name": "ipython",
    "version": 3
   },
   "file_extension": ".py",
   "mimetype": "text/x-python",
   "name": "python",
   "nbconvert_exporter": "python",
   "pygments_lexer": "ipython3",
   "version": "3.10.10"
  }
 },
 "nbformat": 4,
 "nbformat_minor": 4
}
