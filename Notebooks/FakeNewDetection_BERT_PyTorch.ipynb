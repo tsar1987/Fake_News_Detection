{
 "cells": [
  {
   "cell_type": "markdown",
   "metadata": {
    "id": "qb9qKvDdMbNX"
   },
   "source": [
    "## Setup Environment"
   ]
  },
  {
   "cell_type": "code",
   "execution_count": null,
   "metadata": {
    "colab": {
     "base_uri": "https://localhost:8080/"
    },
    "executionInfo": {
     "elapsed": 14476,
     "status": "ok",
     "timestamp": 1751074188559,
     "user": {
      "displayName": "Hui Zhang",
      "userId": "09803443088754210561"
     },
     "user_tz": 240
    },
    "id": "jYNPBqRnEdJT",
    "outputId": "9e2b1e0c-997f-4479-a1be-050f77e8d4e5"
   },
   "outputs": [
    {
     "name": "stdout",
     "output_type": "stream",
     "text": [
      "Requirement already satisfied: transformers in /usr/local/lib/python3.11/dist-packages (4.52.4)\n",
      "Collecting transformers\n",
      "  Downloading transformers-4.53.0-py3-none-any.whl.metadata (39 kB)\n",
      "Requirement already satisfied: filelock in /usr/local/lib/python3.11/dist-packages (from transformers) (3.18.0)\n",
      "Requirement already satisfied: huggingface-hub<1.0,>=0.30.0 in /usr/local/lib/python3.11/dist-packages (from transformers) (0.33.0)\n",
      "Requirement already satisfied: numpy>=1.17 in /usr/local/lib/python3.11/dist-packages (from transformers) (2.0.2)\n",
      "Requirement already satisfied: packaging>=20.0 in /usr/local/lib/python3.11/dist-packages (from transformers) (24.2)\n",
      "Requirement already satisfied: pyyaml>=5.1 in /usr/local/lib/python3.11/dist-packages (from transformers) (6.0.2)\n",
      "Requirement already satisfied: regex!=2019.12.17 in /usr/local/lib/python3.11/dist-packages (from transformers) (2024.11.6)\n",
      "Requirement already satisfied: requests in /usr/local/lib/python3.11/dist-packages (from transformers) (2.32.3)\n",
      "Requirement already satisfied: tokenizers<0.22,>=0.21 in /usr/local/lib/python3.11/dist-packages (from transformers) (0.21.2)\n",
      "Requirement already satisfied: safetensors>=0.4.3 in /usr/local/lib/python3.11/dist-packages (from transformers) (0.5.3)\n",
      "Requirement already satisfied: tqdm>=4.27 in /usr/local/lib/python3.11/dist-packages (from transformers) (4.67.1)\n",
      "Requirement already satisfied: fsspec>=2023.5.0 in /usr/local/lib/python3.11/dist-packages (from huggingface-hub<1.0,>=0.30.0->transformers) (2025.3.2)\n",
      "Requirement already satisfied: typing-extensions>=3.7.4.3 in /usr/local/lib/python3.11/dist-packages (from huggingface-hub<1.0,>=0.30.0->transformers) (4.14.0)\n",
      "Requirement already satisfied: hf-xet<2.0.0,>=1.1.2 in /usr/local/lib/python3.11/dist-packages (from huggingface-hub<1.0,>=0.30.0->transformers) (1.1.5)\n",
      "Requirement already satisfied: charset-normalizer<4,>=2 in /usr/local/lib/python3.11/dist-packages (from requests->transformers) (3.4.2)\n",
      "Requirement already satisfied: idna<4,>=2.5 in /usr/local/lib/python3.11/dist-packages (from requests->transformers) (3.10)\n",
      "Requirement already satisfied: urllib3<3,>=1.21.1 in /usr/local/lib/python3.11/dist-packages (from requests->transformers) (2.4.0)\n",
      "Requirement already satisfied: certifi>=2017.4.17 in /usr/local/lib/python3.11/dist-packages (from requests->transformers) (2025.6.15)\n",
      "Downloading transformers-4.53.0-py3-none-any.whl (10.8 MB)\n",
      "\u001b[2K   \u001b[90m━━━━━━━━━━━━━━━━━━━━━━━━━━━━━━━━━━━━━━━━\u001b[0m \u001b[32m10.8/10.8 MB\u001b[0m \u001b[31m136.9 MB/s\u001b[0m eta \u001b[36m0:00:00\u001b[0m\n",
      "\u001b[?25hInstalling collected packages: transformers\n",
      "  Attempting uninstall: transformers\n",
      "    Found existing installation: transformers 4.52.4\n",
      "    Uninstalling transformers-4.52.4:\n",
      "      Successfully uninstalled transformers-4.52.4\n",
      "Successfully installed transformers-4.53.0\n"
     ]
    }
   ],
   "source": [
    "# Install specific libraries\n",
    "! pip install --upgrade transformers"
   ]
  },
  {
   "cell_type": "code",
   "execution_count": null,
   "metadata": {
    "id": "HIFgZcfWlC8F"
   },
   "outputs": [],
   "source": [
    "# Import necessary libraries\n",
    "import numpy as np\n",
    "import pandas as pd\n",
    "import matplotlib.pyplot as plt\n",
    "import seaborn as sns\n",
    "\n",
    "# Scikit-learn for splitting data and metrics\n",
    "from sklearn.model_selection import train_test_split\n",
    "from sklearn.metrics import classification_report, confusion_matrix\n",
    "\n",
    "# PyTorch and Transformers\n",
    "import torch\n",
    "import torch.nn as nn\n",
    "from transformers import AutoModel, BertTokenizerFast\n",
    "from torch.optim import AdamW\n",
    "from torch.utils.data import TensorDataset, DataLoader, RandomSampler, SequentialSampler"
   ]
  },
  {
   "cell_type": "code",
   "execution_count": null,
   "metadata": {
    "colab": {
     "base_uri": "https://localhost:8080/"
    },
    "executionInfo": {
     "elapsed": 67,
     "status": "ok",
     "timestamp": 1751074210022,
     "user": {
      "displayName": "Hui Zhang",
      "userId": "09803443088754210561"
     },
     "user_tz": 240
    },
    "id": "XGTiOwjUGNv9",
    "outputId": "49837df3-eb02-49de-b9aa-8d34283f936d",
    "vscode": {
     "languageId": "r"
    }
   },
   "outputs": [
    {
     "name": "stdout",
     "output_type": "stream",
     "text": [
      "Using GPU: Tesla T4\n"
     ]
    }
   ],
   "source": [
    "# Set the device to GPU (cuda) if available, otherwise CPU\n",
    "if torch.cuda.is_available():\n",
    "    device = torch.device(\"cuda\")\n",
    "    print(f'Using GPU: {torch.cuda.get_device_name(0)}')\n",
    "else:\n",
    "    device = torch.device(\"cpu\")\n",
    "    print('No GPU available, using CPU instead.')"
   ]
  },
  {
   "cell_type": "code",
   "execution_count": null,
   "metadata": {
    "colab": {
     "base_uri": "https://localhost:8080/"
    },
    "executionInfo": {
     "elapsed": 41099,
     "status": "ok",
     "timestamp": 1751074251122,
     "user": {
      "displayName": "Hui Zhang",
      "userId": "09803443088754210561"
     },
     "user_tz": 240
    },
    "id": "Pfi1QUkuEss5",
    "outputId": "e6b7d342-2491-4e89-cac9-9be624fb29f0"
   },
   "outputs": [
    {
     "name": "stdout",
     "output_type": "stream",
     "text": [
      "Mounted at /content/drive\n"
     ]
    }
   ],
   "source": [
    "# Mount Google Drive - applicable, if working on Google Drive\n",
    "from google.colab import drive\n",
    "drive.mount('/content/drive')"
   ]
  },
  {
   "cell_type": "markdown",
   "metadata": {
    "id": "Ar3qNZz0MiGk"
   },
   "source": [
    "## Load Dataset"
   ]
  },
  {
   "cell_type": "code",
   "execution_count": null,
   "metadata": {
    "id": "9Gkv1hk-mr9Z"
   },
   "outputs": [],
   "source": [
    "# Load Dataset\n",
    "news = pd.read_csv('/content/drive/My Drive/Capstone_Project_Three/Data/news_classification_Feb29_24.csv')\n",
    "test = pd.read_csv('/content/drive/My Drive/Capstone_Project_Three/Data/test_set_Feb29_2024.csv')"
   ]
  },
  {
   "cell_type": "code",
   "execution_count": null,
   "metadata": {
    "id": "S-t5Y8aKgZ-h"
   },
   "outputs": [],
   "source": [
    "news.label = news.label.map({'fake_news':0, 'real_news':1})\n",
    "test.label = test.label.map({'fake_news':0, 'real_news':1})"
   ]
  },
  {
   "cell_type": "markdown",
   "metadata": {
    "id": "Zj5h7QbnZC0t"
   },
   "source": [
    "## Train-val-test-split"
   ]
  },
  {
   "cell_type": "code",
   "execution_count": null,
   "metadata": {
    "id": "UdJakma_gViE"
   },
   "outputs": [],
   "source": [
    "X = news.title\n",
    "y = news.label"
   ]
  },
  {
   "cell_type": "code",
   "execution_count": null,
   "metadata": {
    "id": "4PKW9IyfgJUk"
   },
   "outputs": [],
   "source": [
    "X_train, X_val, y_train, y_val = train_test_split(X, y, test_size=0.1, random_state=42, stratify=y)\n",
    "\n",
    "X_test = test.title\n",
    "y_test = test.label"
   ]
  },
  {
   "cell_type": "markdown",
   "metadata": {
    "id": "2ItKm0hDMujq"
   },
   "source": [
    "## BERT Fine-tuning"
   ]
  },
  {
   "cell_type": "markdown",
   "metadata": {
    "id": "HIkcURDhz2R0"
   },
   "source": [
    "### Load pretrained BERT Model"
   ]
  },
  {
   "cell_type": "code",
   "execution_count": null,
   "metadata": {
    "colab": {
     "base_uri": "https://localhost:8080/",
     "height": 301,
     "referenced_widgets": [
      "6eff77806a2547d3b5823a958e66ecae",
      "57dab76b232b4cf59ac41ccfeef6f0f6",
      "4f25c9fdab074041987d1400bccc7e4d",
      "d073775845524523af3cce29517d3634",
      "a5fb06adf0fe4585a281351bb3b0257d",
      "18d91099c84844e5b90458462721936f",
      "834ff24fbd8148f0906542d768ea829f",
      "0cd70852bc3b4f86a1778c34f0f5b41d",
      "a8149c13f1b64a02a0b972f6fbf6b61b",
      "87bd001a93b848cea35ab9f1bade0823",
      "7741efff4d1b4743be663f9325905ba7",
      "dcfd3057153d423c88306e42e878bca9",
      "fd1bb239a07f471d8fa47adcf9215ef4",
      "262b937aab654bd5a81fc6a7168715ed",
      "e04d5cb319d3445588bab0b2de07ef55",
      "15612b59075c4daf9b3114bdef5a1ece",
      "b00e0ba466584768ac7d29883c034943",
      "cd9938caa2344e7a8b48afcb9732a15a",
      "b35f9d866b8b47e9be60c64e069e790f",
      "14c4a0e7c6b84083b95e54bc959f1f98",
      "73ac1eca45d64547a309714e992ce323",
      "6b9b84b97bf04e8fb3f3bd3aaabb078e",
      "b205bc06147847b08221982918ffeab2",
      "b5873dab4d714d91b9698fd614330060",
      "f06640bf2d424fca9d28eb6449478242",
      "6f4fb9a0251647fea8762ea4385f2e11",
      "7b513c1753954459beaec1bd56199529",
      "61199d178e9e487b9b11181f46129f93",
      "fa676b9174cc45ca91be41bbef37e1b4",
      "18abc324bed34456b95b887f8734bc03",
      "d311a5cf126f4c81bd5b2b1283c4414f",
      "8298f42c8605451583e5eba88388f422",
      "9ad5698948fe41a7aaa9dbf0898b0bfc",
      "4b652c959b194df182b61e965a6a8221",
      "967771401af04db0b33caf696223b62c",
      "0c6d36c88b8c4a13b05ae4ba0a757638",
      "b080ed7a5bdf45739f65d33960978aff",
      "af79432a743a4550a52ddd3f5690f94b",
      "ee61903844cf490d8209514e1aaf01d8",
      "6927bc9a8113431ca67884766366c8a4",
      "be72846997674383a777f4fcd7df0c55",
      "bad5ba1407b7492e9cd26985acdb22b4",
      "8f444c551876446aa6e593859964c50d",
      "6aa8ce7b1db44a31a312441d55f3c58f",
      "1534c66e0dc5459482b6b5b4f6764bf0",
      "aedc2de0659949228d5213c213974eff",
      "1a4586b1f406493fb28898b7523a2bad",
      "8db426179a6f4c87a8e759ca8359f714",
      "3e90bdc4b39740659ae7cbf8e31a2ae5",
      "a356978fca4940d4ade34ab1fb9fefb6",
      "68b2ec66c90f41cba549226cf84409fd",
      "7596d4c8e1cb4cf9aab74728e512c1c6",
      "8f186dd7d5e44d869aea58f2d276a662",
      "6bfbc32d6ce243c997e09d68fc33005d",
      "4dc0dcd2d0a34742b8ae055d58e082ff"
     ]
    },
    "executionInfo": {
     "elapsed": 17070,
     "status": "ok",
     "timestamp": 1751074275980,
     "user": {
      "displayName": "Hui Zhang",
      "userId": "09803443088754210561"
     },
     "user_tz": 240
    },
    "id": "w6skrhdVzW0b",
    "outputId": "36461f5f-6002-4a71-ea0e-48bab6d52eb3"
   },
   "outputs": [
    {
     "name": "stderr",
     "output_type": "stream",
     "text": [
      "/usr/local/lib/python3.11/dist-packages/huggingface_hub/utils/_auth.py:94: UserWarning: \n",
      "The secret `HF_TOKEN` does not exist in your Colab secrets.\n",
      "To authenticate with the Hugging Face Hub, create a token in your settings tab (https://huggingface.co/settings/tokens), set it as secret in your Google Colab and restart your session.\n",
      "You will be able to reuse this secret in all of your notebooks.\n",
      "Please note that authentication is recommended but still optional to access public models or datasets.\n",
      "  warnings.warn(\n"
     ]
    },
    {
     "data": {
      "application/vnd.jupyter.widget-view+json": {
       "model_id": "6eff77806a2547d3b5823a958e66ecae",
       "version_major": 2,
       "version_minor": 0
      },
      "text/plain": [
       "config.json:   0%|          | 0.00/570 [00:00<?, ?B/s]"
      ]
     },
     "metadata": {},
     "output_type": "display_data"
    },
    {
     "data": {
      "application/vnd.jupyter.widget-view+json": {
       "model_id": "dcfd3057153d423c88306e42e878bca9",
       "version_major": 2,
       "version_minor": 0
      },
      "text/plain": [
       "model.safetensors:   0%|          | 0.00/440M [00:00<?, ?B/s]"
      ]
     },
     "metadata": {},
     "output_type": "display_data"
    },
    {
     "data": {
      "application/vnd.jupyter.widget-view+json": {
       "model_id": "b205bc06147847b08221982918ffeab2",
       "version_major": 2,
       "version_minor": 0
      },
      "text/plain": [
       "tokenizer_config.json:   0%|          | 0.00/48.0 [00:00<?, ?B/s]"
      ]
     },
     "metadata": {},
     "output_type": "display_data"
    },
    {
     "data": {
      "application/vnd.jupyter.widget-view+json": {
       "model_id": "4b652c959b194df182b61e965a6a8221",
       "version_major": 2,
       "version_minor": 0
      },
      "text/plain": [
       "vocab.txt:   0%|          | 0.00/232k [00:00<?, ?B/s]"
      ]
     },
     "metadata": {},
     "output_type": "display_data"
    },
    {
     "data": {
      "application/vnd.jupyter.widget-view+json": {
       "model_id": "1534c66e0dc5459482b6b5b4f6764bf0",
       "version_major": 2,
       "version_minor": 0
      },
      "text/plain": [
       "tokenizer.json:   0%|          | 0.00/466k [00:00<?, ?B/s]"
      ]
     },
     "metadata": {},
     "output_type": "display_data"
    }
   ],
   "source": [
    "# Load BERT model and tokenizer via HuggingFace Transformers\n",
    "bert = AutoModel.from_pretrained('bert-base-uncased')\n",
    "tokenizer = BertTokenizerFast.from_pretrained('bert-base-uncased')"
   ]
  },
  {
   "cell_type": "markdown",
   "metadata": {
    "id": "H1G4xtl7dXBD"
   },
   "source": [
    "### Prepare Input Data"
   ]
  },
  {
   "cell_type": "code",
   "execution_count": null,
   "metadata": {
    "colab": {
     "base_uri": "https://localhost:8080/",
     "height": 472
    },
    "executionInfo": {
     "elapsed": 386,
     "status": "ok",
     "timestamp": 1751074276381,
     "user": {
      "displayName": "Hui Zhang",
      "userId": "09803443088754210561"
     },
     "user_tz": 240
    },
    "id": "FDZx-O2xzcA_",
    "outputId": "ba8446df-7e77-4f8e-fc77-8f1558de70fa"
   },
   "outputs": [
    {
     "data": {
      "image/png": "[encoded data removed]",
      "text/plain": [
       "<Figure size 640x480 with 1 Axes>"
      ]
     },
     "metadata": {},
     "output_type": "display_data"
    }
   ],
   "source": [
    "# Plot histogram of the number of words in train data 'title'\n",
    "seq_len = [len(title.split()) for title in news.title]\n",
    "\n",
    "pd.Series(seq_len).hist(bins = 40,color='firebrick')\n",
    "plt.xlabel('Number of Words')\n",
    "plt.ylabel('Number of texts')\n",
    "plt.title('Distribution of Title Lengths')\n",
    "plt.show()"
   ]
  },
  {
   "cell_type": "code",
   "execution_count": null,
   "metadata": {
    "id": "rfwINnZozkyd"
   },
   "outputs": [],
   "source": [
    "# Majority of titles above have word length under 15. So, we set max title length as 15\n",
    "MAX_LENGTH = 35\n",
    "# Tokenize and encode sequences in the train set\n",
    "tokens_train = tokenizer.batch_encode_plus(\n",
    "    X_train.tolist(),\n",
    "    max_length = MAX_LENGTH,\n",
    "    padding='max_length',\n",
    "    truncation=True)\n",
    "\n",
    "# tokenize and encode sequences in the validation set\n",
    "tokens_val = tokenizer.batch_encode_plus(\n",
    "    X_val.tolist(),\n",
    "    max_length = MAX_LENGTH,\n",
    "    padding='max_length',\n",
    "    truncation=True)\n",
    "\n",
    "# tokenize and encode sequences in the test set\n",
    "tokens_test = tokenizer.batch_encode_plus(\n",
    "    X_test.tolist(),\n",
    "    max_length = MAX_LENGTH,\n",
    "    padding='max_length',\n",
    "    truncation=True)"
   ]
  },
  {
   "cell_type": "code",
   "execution_count": null,
   "metadata": {
    "colab": {
     "base_uri": "https://localhost:8080/"
    },
    "executionInfo": {
     "elapsed": 258,
     "status": "ok",
     "timestamp": 1751074279337,
     "user": {
      "displayName": "Hui Zhang",
      "userId": "09803443088754210561"
     },
     "user_tz": 240
    },
    "id": "liUkxivvrQWy",
    "outputId": "f26599b0-1267-41a2-e940-8395520b5b4a"
   },
   "outputs": [
    {
     "data": {
      "text/plain": [
       "(33791, 33791, 33791)"
      ]
     },
     "execution_count": 12,
     "metadata": {},
     "output_type": "execute_result"
    }
   ],
   "source": [
    "len(tokens_train['input_ids']),len(tokens_train['attention_mask']), len(y_train)"
   ]
  },
  {
   "cell_type": "code",
   "execution_count": null,
   "metadata": {
    "colab": {
     "base_uri": "https://localhost:8080/"
    },
    "executionInfo": {
     "elapsed": 34,
     "status": "ok",
     "timestamp": 1751074279338,
     "user": {
      "displayName": "Hui Zhang",
      "userId": "09803443088754210561"
     },
     "user_tz": 240
    },
    "id": "8ZifpfUIrZ28",
    "outputId": "ae51b7e8-1a36-496e-fbb9-c4a3f288be6d"
   },
   "outputs": [
    {
     "data": {
      "text/plain": [
       "(3755, 3755, 3755)"
      ]
     },
     "execution_count": 13,
     "metadata": {},
     "output_type": "execute_result"
    }
   ],
   "source": [
    "len(tokens_val['input_ids']),len(tokens_val['attention_mask']), len(y_val)"
   ]
  },
  {
   "cell_type": "code",
   "execution_count": null,
   "metadata": {
    "colab": {
     "base_uri": "https://localhost:8080/"
    },
    "executionInfo": {
     "elapsed": 17,
     "status": "ok",
     "timestamp": 1751074279339,
     "user": {
      "displayName": "Hui Zhang",
      "userId": "09803443088754210561"
     },
     "user_tz": 240
    },
    "id": "vi7PJjojrf09",
    "outputId": "c0cf5744-79cd-4c33-ece2-b1b7c4c3ecf0"
   },
   "outputs": [
    {
     "data": {
      "text/plain": [
       "(25, 25, 25)"
      ]
     },
     "execution_count": 14,
     "metadata": {},
     "output_type": "execute_result"
    }
   ],
   "source": [
    "len(tokens_test['input_ids']),len(tokens_test['attention_mask']), len(y_test)"
   ]
  },
  {
   "cell_type": "code",
   "execution_count": null,
   "metadata": {
    "id": "jE9PI9_H0Moi"
   },
   "outputs": [],
   "source": [
    "# Convert lists to tensors\n",
    "train_seq = torch.tensor(tokens_train['input_ids'])\n",
    "train_mask = torch.tensor(tokens_train['attention_mask'])\n",
    "train_y = torch.tensor(y_train.tolist())\n",
    "\n",
    "val_seq = torch.tensor(tokens_val['input_ids'])\n",
    "val_mask = torch.tensor(tokens_val['attention_mask'])\n",
    "val_y = torch.tensor(y_val.tolist())\n",
    "\n",
    "test_seq = torch.tensor(tokens_test['input_ids'])\n",
    "test_mask = torch.tensor(tokens_test['attention_mask'])\n",
    "test_y = torch.tensor(y_test.tolist())"
   ]
  },
  {
   "cell_type": "code",
   "execution_count": null,
   "metadata": {
    "colab": {
     "base_uri": "https://localhost:8080/"
    },
    "executionInfo": {
     "elapsed": 32,
     "status": "ok",
     "timestamp": 1751074279578,
     "user": {
      "displayName": "Hui Zhang",
      "userId": "09803443088754210561"
     },
     "user_tz": 240
    },
    "id": "zZZSz28frqBC",
    "outputId": "9ffc2e2c-6397-4aa5-f544-42d6195e1b55"
   },
   "outputs": [
    {
     "data": {
      "text/plain": [
       "(torch.Size([33791, 35]), torch.Size([33791, 35]), torch.Size([33791]))"
      ]
     },
     "execution_count": 16,
     "metadata": {},
     "output_type": "execute_result"
    }
   ],
   "source": [
    "train_seq.shape, train_mask.shape, train_y.shape"
   ]
  },
  {
   "cell_type": "code",
   "execution_count": null,
   "metadata": {
    "colab": {
     "base_uri": "https://localhost:8080/"
    },
    "executionInfo": {
     "elapsed": 12,
     "status": "ok",
     "timestamp": 1751074279588,
     "user": {
      "displayName": "Hui Zhang",
      "userId": "09803443088754210561"
     },
     "user_tz": 240
    },
    "id": "_NMB2WqBrzGM",
    "outputId": "f7cd88c0-8620-470c-e60a-be79de6ac181"
   },
   "outputs": [
    {
     "data": {
      "text/plain": [
       "(torch.Size([3755, 35]), torch.Size([3755, 35]), torch.Size([3755]))"
      ]
     },
     "execution_count": 17,
     "metadata": {},
     "output_type": "execute_result"
    }
   ],
   "source": [
    "val_seq.shape, val_mask.shape, val_y.shape"
   ]
  },
  {
   "cell_type": "code",
   "execution_count": null,
   "metadata": {
    "colab": {
     "base_uri": "https://localhost:8080/"
    },
    "executionInfo": {
     "elapsed": 15,
     "status": "ok",
     "timestamp": 1751074279605,
     "user": {
      "displayName": "Hui Zhang",
      "userId": "09803443088754210561"
     },
     "user_tz": 240
    },
    "id": "c1xjj7yPr4C0",
    "outputId": "e98b4396-4aa5-4513-c96f-328e6f91fb02"
   },
   "outputs": [
    {
     "data": {
      "text/plain": [
       "(torch.Size([25, 35]), torch.Size([25, 35]), torch.Size([25]))"
      ]
     },
     "execution_count": 18,
     "metadata": {},
     "output_type": "execute_result"
    }
   ],
   "source": [
    "test_seq.shape, test_mask.shape, test_y.shape"
   ]
  },
  {
   "cell_type": "code",
   "execution_count": null,
   "metadata": {
    "id": "Oft-16jR0M6h"
   },
   "outputs": [],
   "source": [
    "# Define batch size\n",
    "batch_size = 32                                              #define a batch size\n",
    "# Wrap tensors into a TensorDataset and create a DataLoader for the training set\n",
    "train_data = TensorDataset(train_seq, train_mask, train_y)    # wrap tensors\n",
    "train_sampler = RandomSampler(train_data)                     # sampler for sampling the data during training\n",
    "train_dataloader = DataLoader(train_data, sampler=train_sampler, batch_size=batch_size)\n",
    "# Create a DataLoader for the validation set                                                              # dataLoader for train set\n",
    "val_data = TensorDataset(val_seq, val_mask, val_y)            # wrap tensors\n",
    "val_sampler = SequentialSampler(val_data)                     # sampler for sampling the data during training\n",
    "val_dataloader = DataLoader(val_data, sampler = val_sampler, batch_size=batch_size)\n",
    "                                                              # dataLoader for validation set"
   ]
  },
  {
   "cell_type": "markdown",
   "metadata": {
    "id": "VkHiWeqop3Q_"
   },
   "source": [
    "### Freeze Layers"
   ]
  },
  {
   "cell_type": "code",
   "execution_count": null,
   "metadata": {
    "id": "dH-wI1yhzQkD"
   },
   "outputs": [],
   "source": [
    "# Freezing the parameters and defining trainable BERT structure (Optional but Recommended for Initial Fine-tuning)**\n",
    "# We freeze the weights of the pre-trained BERT layers. This means we will only train the new classifier layers we add on top.\n",
    "# This is faster and prevents the powerful pre-trained weights from being distorted by early, random gradients.\n",
    "for param in bert.parameters():\n",
    "    param.requires_grad = False    # false here means gradient need not be computed"
   ]
  },
  {
   "cell_type": "markdown",
   "metadata": {
    "id": "XAJPyGH4zaRZ"
   },
   "source": [
    "### Define Model Architecture"
   ]
  },
  {
   "cell_type": "code",
   "execution_count": null,
   "metadata": {
    "id": "5oC6f5jD0vm0"
   },
   "outputs": [],
   "source": [
    "class BERT_Arch(nn.Module):\n",
    "    def __init__(self, bert):\n",
    "      super(BERT_Arch, self).__init__()\n",
    "      self.bert = bert\n",
    "\n",
    "      # --- CLASSIFIER HEAD ---\n",
    "      self.dropout = nn.Dropout(0.1)            # dropout layer\n",
    "      self.relu =  nn.ReLU()                    # relu activation function\n",
    "      self.fc1 = nn.Linear(768,512)             # dense layer 1\n",
    "      self.fc2 = nn.Linear(512,2)               # dense layer 2 (Output layer)\n",
    "\n",
    "    def forward(self, sent_id, mask):           # define the forward pass\n",
    "      # Pass input through BERT\n",
    "      # We take the `last_hidden_state`\n",
    "      outputs = self.bert(sent_id, attention_mask=mask)\n",
    "      # Use the hidden state of the [CLS] token (the first token) for classification\n",
    "      cls_hidden_state = outputs.last_hidden_state[:, 0, :]\n",
    "      # Pass the [CLS] token's state through our classifier head\n",
    "      x = self.fc1(cls_hidden_state)\n",
    "      x = self.relu(x)\n",
    "      x = self.dropout(x)\n",
    "      x = self.fc2(x)                           # output layer\n",
    "      return x\n",
    "\n",
    "# Instantiate the model and move it to the configured device (GPU or CPU)\n",
    "model = BERT_Arch(bert)\n",
    "model.to(device)\n",
    "\n",
    "# Defining the hyperparameters (optimizer, weights of the classes and the epochs)\n",
    "# Define the optimizer\n",
    "\n",
    "optimizer = AdamW(model.parameters(), lr = 1e-3)          # learning rate\n",
    "\n",
    "# Define the loss function\n",
    "cross_entropy  = nn.CrossEntropyLoss()\n",
    "# Number of training epochs\n",
    "epochs = 5"
   ]
  },
  {
   "cell_type": "markdown",
   "metadata": {
    "id": "LGFpP494zgLh"
   },
   "source": [
    "### Define Train & Evaluate Function"
   ]
  },
  {
   "cell_type": "code",
   "execution_count": null,
   "metadata": {
    "id": "BEG81NvL1Rt9"
   },
   "outputs": [],
   "source": [
    "# Defining training and evaluation functions\n",
    "def train():\n",
    "  model.train()\n",
    "  total_loss, total_accuracy = 0, 0\n",
    "\n",
    "  for step,batch in enumerate(train_dataloader):                # iterate over batches\n",
    "    # Progress update\n",
    "    if step % 50 == 0 and not step == 0:                        # progress update after every 50 batches.\n",
    "      print('  Batch {:>5,}  of  {:>5,}.'.format(step, len(train_dataloader)))\n",
    "    batch = [r.to(device) for r in batch]                                 # push the batch to gpu\n",
    "    sent_id, mask, labels = batch\n",
    "\n",
    "    model.zero_grad()                                           # clear previously calculated gradients\n",
    "    preds = model(sent_id, mask)                                # get model predictions for current batch\n",
    "    loss = cross_entropy(preds, labels)                         # compute loss between actual & predicted values\n",
    "    total_loss = total_loss + loss.item()                       # add on to the total loss\n",
    "    loss.backward()                                             # backward pass to calculate the gradients\n",
    "    torch.nn.utils.clip_grad_norm_(model.parameters(), 1.0)     # clip gradients to 1.0. It helps in preventing exploding gradient problem\n",
    "    optimizer.step()                                            # update parameters\n",
    "    preds=preds.detach().cpu().numpy()                          # model predictions are stored on GPU. So, push it to CPU\n",
    "    labels = labels.cpu().numpy()\n",
    "    total_accuracy += np.sum(np.argmax(preds, axis=1) == labels)\n",
    "\n",
    "  avg_loss = total_loss / len(train_dataloader)                 # compute training loss of the epoch\n",
    "                                                                # reshape predictions in form of (# samples, # classes)\n",
    "  avg_accuracy = total_accuracy / len(train_data)\n",
    "  return avg_loss, avg_accuracy                               # returns the loss and predictions\n",
    "\n",
    "def evaluate():\n",
    "  print(\"\\nEvaluating...\")\n",
    "  model.eval()                                    # Deactivate dropout layers\n",
    "  total_loss, total_accuracy = 0, 0\n",
    "\n",
    "  for step,batch in enumerate(val_dataloader):    # Iterate over batches\n",
    "    if step % 50 == 0 and not step == 0:          # Progress update every 50 batches.\n",
    "                                                  # Calculate elapsed time in minutes.\n",
    "                                                  # Elapsed = format_time(time.time() - t0)\n",
    "      print('  Batch {:>5,}  of  {:>5,}.'.format(step, len(val_dataloader)))\n",
    "                                                  # Report progress\n",
    "    batch = [t.to(device) for t in batch]                   # Push the batch to GPU\n",
    "    sent_id, mask, labels = batch\n",
    "\n",
    "    with torch.no_grad():                         # Deactivate autograd\n",
    "      preds = model(sent_id, mask)                # Model predictions\n",
    "      loss = cross_entropy(preds,labels)          # Compute the validation loss between actual and predicted values\n",
    "      total_loss = total_loss + loss.item()\n",
    "\n",
    "      preds = preds.detach().cpu().numpy()\n",
    "      labels = labels.cpu().numpy()\n",
    "      total_accuracy += np.sum(np.argmax(preds, axis=1) == labels)\n",
    "\n",
    "  avg_loss = total_loss / len(val_dataloader)         # compute the validation loss of the epoch\n",
    "  avg_accuracy = total_accuracy / len(val_data)\n",
    "  return avg_loss, avg_accuracy"
   ]
  },
  {
   "cell_type": "markdown",
   "metadata": {
    "id": "IARpecoUzloO"
   },
   "source": [
    "### Model training"
   ]
  },
  {
   "cell_type": "code",
   "execution_count": null,
   "metadata": {
    "colab": {
     "base_uri": "https://localhost:8080/"
    },
    "executionInfo": {
     "elapsed": 406034,
     "status": "ok",
     "timestamp": 1751074686042,
     "user": {
      "displayName": "Hui Zhang",
      "userId": "09803443088754210561"
     },
     "user_tz": 240
    },
    "id": "uSN0ZPiW1d-e",
    "outputId": "3bf9b373-0a49-4cbe-cc1d-731d889225ae"
   },
   "outputs": [
    {
     "name": "stdout",
     "output_type": "stream",
     "text": [
      "\n",
      " Epoch 1 / 5\n",
      "  Batch    50  of  1,056.\n",
      "  Batch   100  of  1,056.\n",
      "  Batch   150  of  1,056.\n",
      "  Batch   200  of  1,056.\n",
      "  Batch   250  of  1,056.\n",
      "  Batch   300  of  1,056.\n",
      "  Batch   350  of  1,056.\n",
      "  Batch   400  of  1,056.\n",
      "  Batch   450  of  1,056.\n",
      "  Batch   500  of  1,056.\n",
      "  Batch   550  of  1,056.\n",
      "  Batch   600  of  1,056.\n",
      "  Batch   650  of  1,056.\n",
      "  Batch   700  of  1,056.\n",
      "  Batch   750  of  1,056.\n",
      "  Batch   800  of  1,056.\n",
      "  Batch   850  of  1,056.\n",
      "  Batch   900  of  1,056.\n",
      "  Batch   950  of  1,056.\n",
      "  Batch 1,000  of  1,056.\n",
      "  Batch 1,050  of  1,056.\n",
      "\n",
      "Evaluating...\n",
      "  Batch    50  of    118.\n",
      "  Batch   100  of    118.\n",
      "\n",
      "Training Loss: 0.193 | Training Accuracy: 0.922\n",
      "Validation Loss: 0.126 | Validation Accuracy: 0.951\n",
      "\n",
      " Epoch 2 / 5\n",
      "  Batch    50  of  1,056.\n",
      "  Batch   100  of  1,056.\n",
      "  Batch   150  of  1,056.\n",
      "  Batch   200  of  1,056.\n",
      "  Batch   250  of  1,056.\n",
      "  Batch   300  of  1,056.\n",
      "  Batch   350  of  1,056.\n",
      "  Batch   400  of  1,056.\n",
      "  Batch   450  of  1,056.\n",
      "  Batch   500  of  1,056.\n",
      "  Batch   550  of  1,056.\n",
      "  Batch   600  of  1,056.\n",
      "  Batch   650  of  1,056.\n",
      "  Batch   700  of  1,056.\n",
      "  Batch   750  of  1,056.\n",
      "  Batch   800  of  1,056.\n",
      "  Batch   850  of  1,056.\n",
      "  Batch   900  of  1,056.\n",
      "  Batch   950  of  1,056.\n",
      "  Batch 1,000  of  1,056.\n",
      "  Batch 1,050  of  1,056.\n",
      "\n",
      "Evaluating...\n",
      "  Batch    50  of    118.\n",
      "  Batch   100  of    118.\n",
      "\n",
      "Training Loss: 0.160 | Training Accuracy: 0.937\n",
      "Validation Loss: 0.129 | Validation Accuracy: 0.946\n",
      "\n",
      " Epoch 3 / 5\n",
      "  Batch    50  of  1,056.\n",
      "  Batch   100  of  1,056.\n",
      "  Batch   150  of  1,056.\n",
      "  Batch   200  of  1,056.\n",
      "  Batch   250  of  1,056.\n",
      "  Batch   300  of  1,056.\n",
      "  Batch   350  of  1,056.\n",
      "  Batch   400  of  1,056.\n",
      "  Batch   450  of  1,056.\n",
      "  Batch   500  of  1,056.\n",
      "  Batch   550  of  1,056.\n",
      "  Batch   600  of  1,056.\n",
      "  Batch   650  of  1,056.\n",
      "  Batch   700  of  1,056.\n",
      "  Batch   750  of  1,056.\n",
      "  Batch   800  of  1,056.\n",
      "  Batch   850  of  1,056.\n",
      "  Batch   900  of  1,056.\n",
      "  Batch   950  of  1,056.\n",
      "  Batch 1,000  of  1,056.\n",
      "  Batch 1,050  of  1,056.\n",
      "\n",
      "Evaluating...\n",
      "  Batch    50  of    118.\n",
      "  Batch   100  of    118.\n",
      "\n",
      "Training Loss: 0.147 | Training Accuracy: 0.942\n",
      "Validation Loss: 0.108 | Validation Accuracy: 0.960\n",
      "\n",
      " Epoch 4 / 5\n",
      "  Batch    50  of  1,056.\n",
      "  Batch   100  of  1,056.\n",
      "  Batch   150  of  1,056.\n",
      "  Batch   200  of  1,056.\n",
      "  Batch   250  of  1,056.\n",
      "  Batch   300  of  1,056.\n",
      "  Batch   350  of  1,056.\n",
      "  Batch   400  of  1,056.\n",
      "  Batch   450  of  1,056.\n",
      "  Batch   500  of  1,056.\n",
      "  Batch   550  of  1,056.\n",
      "  Batch   600  of  1,056.\n",
      "  Batch   650  of  1,056.\n",
      "  Batch   700  of  1,056.\n",
      "  Batch   750  of  1,056.\n",
      "  Batch   800  of  1,056.\n",
      "  Batch   850  of  1,056.\n",
      "  Batch   900  of  1,056.\n",
      "  Batch   950  of  1,056.\n",
      "  Batch 1,000  of  1,056.\n",
      "  Batch 1,050  of  1,056.\n",
      "\n",
      "Evaluating...\n",
      "  Batch    50  of    118.\n",
      "  Batch   100  of    118.\n",
      "\n",
      "Training Loss: 0.136 | Training Accuracy: 0.945\n",
      "Validation Loss: 0.114 | Validation Accuracy: 0.954\n",
      "\n",
      " Epoch 5 / 5\n",
      "  Batch    50  of  1,056.\n",
      "  Batch   100  of  1,056.\n",
      "  Batch   150  of  1,056.\n",
      "  Batch   200  of  1,056.\n",
      "  Batch   250  of  1,056.\n",
      "  Batch   300  of  1,056.\n",
      "  Batch   350  of  1,056.\n",
      "  Batch   400  of  1,056.\n",
      "  Batch   450  of  1,056.\n",
      "  Batch   500  of  1,056.\n",
      "  Batch   550  of  1,056.\n",
      "  Batch   600  of  1,056.\n",
      "  Batch   650  of  1,056.\n",
      "  Batch   700  of  1,056.\n",
      "  Batch   750  of  1,056.\n",
      "  Batch   800  of  1,056.\n",
      "  Batch   850  of  1,056.\n",
      "  Batch   900  of  1,056.\n",
      "  Batch   950  of  1,056.\n",
      "  Batch 1,000  of  1,056.\n",
      "  Batch 1,050  of  1,056.\n",
      "\n",
      "Evaluating...\n",
      "  Batch    50  of    118.\n",
      "  Batch   100  of    118.\n",
      "\n",
      "Training Loss: 0.135 | Training Accuracy: 0.949\n",
      "Validation Loss: 0.102 | Validation Accuracy: 0.956\n"
     ]
    }
   ],
   "source": [
    "# Train and predict\n",
    "best_valid_loss = float('inf')\n",
    "# empty lists to store training and validation loss of each epoch\n",
    "train_losses, valid_losses = [], []\n",
    "train_accuracies, valid_accuracies = [], []\n",
    "\n",
    "for epoch in range(epochs):\n",
    "    print('\\n Epoch {:} / {:}'.format(epoch + 1, epochs))\n",
    "\n",
    "    train_loss, train_acc = train()                       # train model\n",
    "    valid_loss, valid_acc = evaluate()                    # evaluate model\n",
    "\n",
    "    if valid_loss < best_valid_loss:              # save the best model\n",
    "        best_valid_loss = valid_loss\n",
    "        torch.save(model.state_dict(), 'bert_fakenews_model.pt')\n",
    "\n",
    "    # Store metrics for plotting\n",
    "    train_losses.append(train_loss)\n",
    "    valid_losses.append(valid_loss)\n",
    "    train_accuracies.append(train_acc)\n",
    "    valid_accuracies.append(valid_acc)\n",
    "\n",
    "    print(f'\\nTraining Loss: {train_loss:.3f} | Training Accuracy: {train_acc:.3f}')\n",
    "    print(f'Validation Loss: {valid_loss:.3f} | Validation Accuracy: {valid_acc:.3f}')"
   ]
  },
  {
   "cell_type": "markdown",
   "metadata": {
    "id": "Qp7jw9a6qiPt"
   },
   "source": [
    "### Model performance"
   ]
  },
  {
   "cell_type": "code",
   "execution_count": null,
   "metadata": {
    "colab": {
     "base_uri": "https://localhost:8080/"
    },
    "executionInfo": {
     "elapsed": 361,
     "status": "ok",
     "timestamp": 1751074722572,
     "user": {
      "displayName": "Hui Zhang",
      "userId": "09803443088754210561"
     },
     "user_tz": 240
    },
    "id": "1fVcPQH5oTc6",
    "outputId": "5affc6e3-f661-4157-c75a-c2c2b1b4e30a"
   },
   "outputs": [
    {
     "data": {
      "text/plain": [
       "<All keys matched successfully>"
      ]
     },
     "execution_count": 24,
     "metadata": {},
     "output_type": "execute_result"
    }
   ],
   "source": [
    "# load weights of best model\n",
    "model.load_state_dict(torch.load('bert_fakenews_model.pt'))"
   ]
  },
  {
   "cell_type": "code",
   "execution_count": null,
   "metadata": {
    "id": "fxbe3imDGNwE",
    "vscode": {
     "languageId": "r"
    }
   },
   "outputs": [],
   "source": [
    "# Move test tensors to the device\n",
    "test_seq_gpu = test_seq.to(device)\n",
    "test_mask_gpu = test_mask.to(device)"
   ]
  },
  {
   "cell_type": "code",
   "execution_count": null,
   "metadata": {
    "id": "aRgRYquAoWbu"
   },
   "outputs": [],
   "source": [
    "with torch.no_grad():\n",
    "  preds = model(test_seq_gpu, test_mask_gpu)\n",
    "  preds = preds.detach().cpu().numpy()\n",
    "\n",
    "# Get the predicted labels by taking the argmax\n",
    "predicted_labels = np.argmax(preds, axis=1)"
   ]
  },
  {
   "cell_type": "code",
   "execution_count": null,
   "metadata": {
    "colab": {
     "base_uri": "https://localhost:8080/"
    },
    "executionInfo": {
     "elapsed": 6,
     "status": "ok",
     "timestamp": 1751074729627,
     "user": {
      "displayName": "Hui Zhang",
      "userId": "09803443088754210561"
     },
     "user_tz": 240
    },
    "id": "G5WKCBXeGNwE",
    "outputId": "0a6261e2-b70f-4407-ad72-83c2cc6595ae",
    "vscode": {
     "languageId": "r"
    }
   },
   "outputs": [
    {
     "name": "stdout",
     "output_type": "stream",
     "text": [
      "------ Classification Report ------\n",
      "              precision    recall  f1-score   support\n",
      "\n",
      "   Fake News       0.92      1.00      0.96        12\n",
      "   Real News       1.00      0.92      0.96        13\n",
      "\n",
      "    accuracy                           0.96        25\n",
      "   macro avg       0.96      0.96      0.96        25\n",
      "weighted avg       0.96      0.96      0.96        25\n",
      "\n"
     ]
    }
   ],
   "source": [
    "# Generate the classification report\n",
    "print(\"------ Classification Report ------\")\n",
    "print(classification_report(y_test, predicted_labels, target_names=['Fake News', 'Real News']))"
   ]
  },
  {
   "cell_type": "code",
   "execution_count": null,
   "metadata": {
    "colab": {
     "base_uri": "https://localhost:8080/",
     "height": 564
    },
    "executionInfo": {
     "elapsed": 202,
     "status": "ok",
     "timestamp": 1751075294004,
     "user": {
      "displayName": "Hui Zhang",
      "userId": "09803443088754210561"
     },
     "user_tz": 240
    },
    "id": "tQakEYK8GNwE",
    "outputId": "5b9eb93e-420d-4c1e-c303-d5697f60c4c0",
    "vscode": {
     "languageId": "r"
    }
   },
   "outputs": [
    {
     "data": {
      "text/plain": [
       "<module 'matplotlib.pyplot' from '/usr/local/lib/python3.11/dist-packages/matplotlib/pyplot.py'>"
      ]
     },
     "execution_count": 28,
     "metadata": {},
     "output_type": "execute_result"
    },
    {
     "data": {
      "image/png": "[encoded data removed]",
      "text/plain": [
       "<Figure size 800x600 with 2 Axes>"
      ]
     },
     "metadata": {},
     "output_type": "display_data"
    }
   ],
   "source": [
    "# Generate and plot the confusion matrix\n",
    "cm = confusion_matrix(y_test, predicted_labels)\n",
    "plt.figure(figsize=(8, 6))\n",
    "sns.heatmap(cm, annot=True, fmt='d', cmap='Blues',\n",
    "            xticklabels=['Fake News', 'Real News'],\n",
    "            yticklabels=['Fake News', 'Real News'])\n",
    "plt.xlabel('Predicted Label')\n",
    "plt.ylabel('True Label')\n",
    "plt"
   ]
  },
  {
   "cell_type": "code",
   "execution_count": null,
   "metadata": {
    "id": "dBszIUbwOIlH"
   },
   "outputs": [],
   "source": []
  }
 ],
 "metadata": {
  "accelerator": "GPU",
  "colab": {
   "gpuType": "T4",
   "provenance": [
    {
     "file_id": "1Ui6B2rToJMqpzACJqYG8D7pMpG0vdDgK",
     "timestamp": 1662535690096
    }
   ]
  },
  "kernelspec": {
   "display_name": "Python 3",
   "name": "python3"
  },
  "language_info": {
   "name": "python"
  }
 },
 "nbformat": 4,
 "nbformat_minor": 0
}
